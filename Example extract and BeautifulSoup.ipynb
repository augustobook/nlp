{
  "nbformat": 4,
  "nbformat_minor": 0,
  "metadata": {
    "colab": {
      "name": "Beautiful Soup - CC.ipynb",
      "provenance": [],
      "collapsed_sections": [
        "O18OZpz0nL8P"
      ],
      "authorship_tag": "ABX9TyP6nmSbGkkRIj4DH1iHVqCR",
      "include_colab_link": true
    },
    "kernelspec": {
      "name": "python3",
      "display_name": "Python 3"
    },
    "language_info": {
      "name": "python"
    }
  },
  "cells": [
    {
      "cell_type": "markdown",
      "metadata": {
        "id": "view-in-github",
        "colab_type": "text"
      },
      "source": [
        "<a href=\"https://colab.research.google.com/github/AugustoMgit/Machine-Learning/blob/master/Beautiful_Soup_CC.ipynb\" target=\"_parent\"><img src=\"https://colab.research.google.com/assets/colab-badge.svg\" alt=\"Open In Colab\"/></a>"
      ]
    },
    {
      "cell_type": "code",
      "metadata": {
        "colab": {
          "base_uri": "https://localhost:8080/"
        },
        "id": "OTdnkADgLiYU",
        "outputId": "d83dbc2c-3d8c-4a6b-b8d8-cd7a4724be87"
      },
      "source": [
        "!pip3 install beautifulsoup4\n",
        "!pip install html5lib"
      ],
      "execution_count": null,
      "outputs": [
        {
          "output_type": "stream",
          "name": "stdout",
          "text": [
            "Requirement already satisfied: beautifulsoup4 in /usr/local/lib/python3.7/dist-packages (4.6.3)\n",
            "Requirement already satisfied: html5lib in /usr/local/lib/python3.7/dist-packages (1.0.1)\n",
            "Requirement already satisfied: six>=1.9 in /usr/local/lib/python3.7/dist-packages (from html5lib) (1.15.0)\n",
            "Requirement already satisfied: webencodings in /usr/local/lib/python3.7/dist-packages (from html5lib) (0.5.1)\n"
          ]
        }
      ]
    },
    {
      "cell_type": "code",
      "metadata": {
        "id": "WIDHkAtrLRex"
      },
      "source": [
        "import requests\n",
        "from bs4 import BeautifulSoup\n",
        "\n",
        "res = requests.get('https://www.upf.br/')   #requisita a página\n",
        "soup = BeautifulSoup(res.text, 'html5lib')  #transforma o texto bruto em um texto formatado para sua manipulação de tags"
      ],
      "execution_count": null,
      "outputs": []
    },
    {
      "cell_type": "code",
      "metadata": {
        "id": "aDVC_PmprO0P"
      },
      "source": [
        "res.text"
      ],
      "execution_count": null,
      "outputs": []
    },
    {
      "cell_type": "code",
      "metadata": {
        "id": "k4r_baKprgHF"
      },
      "source": [
        "soup"
      ],
      "execution_count": null,
      "outputs": []
    },
    {
      "cell_type": "code",
      "metadata": {
        "colab": {
          "base_uri": "https://localhost:8080/"
        },
        "id": "cAhGIIdZLqaZ",
        "outputId": "92a49e37-e610-4656-d0e5-272702ac446f"
      },
      "source": [
        "print(soup.title)        #busca o título da página\n",
        "print(soup.title.text)  #pega apenas o texto da tag, retirando-a"
      ],
      "execution_count": null,
      "outputs": [
        {
          "output_type": "stream",
          "name": "stdout",
          "text": [
            "<title>Portal - UPF | Universidade de Passo Fundo</title>\n",
            "Portal - UPF | Universidade de Passo Fundo\n"
          ]
        }
      ]
    },
    {
      "cell_type": "code",
      "metadata": {
        "colab": {
          "base_uri": "https://localhost:8080/",
          "height": 69
        },
        "id": "B4oz9wt4x9PH",
        "outputId": "3ef95cfc-f4e4-455a-d74a-3965e0ded3ac"
      },
      "source": [
        "print(soup.find('h1'))                 #retorna o texto com sua tag\n",
        "print(soup.find('h1').text)           #somente o texto \n",
        "soup.find('h1', class_='hidden').text #somente o text, pela sua classe"
      ],
      "execution_count": null,
      "outputs": [
        {
          "output_type": "stream",
          "name": "stdout",
          "text": [
            "<h1 class=\"hidden\">Universidade de Passo Fundo</h1>\n",
            "Universidade de Passo Fundo\n"
          ]
        },
        {
          "output_type": "execute_result",
          "data": {
            "application/vnd.google.colaboratory.intrinsic+json": {
              "type": "string"
            },
            "text/plain": [
              "'Universidade de Passo Fundo'"
            ]
          },
          "metadata": {},
          "execution_count": 187
        }
      ]
    },
    {
      "cell_type": "code",
      "metadata": {
        "colab": {
          "base_uri": "https://localhost:8080/"
        },
        "id": "hcLjTMNXMxnp",
        "outputId": "74aaf95f-9958-4159-ae4b-b0162b377754"
      },
      "source": [
        "for link in soup.find_all('a'):\n",
        "  try:\n",
        "    if 'http' in link.get('href'):\n",
        "      print(link.get('href'))\n",
        "  except:pass"
      ],
      "execution_count": null,
      "outputs": [
        {
          "output_type": "stream",
          "name": "stdout",
          "text": [
            "https://www.upf.br/estudante\n",
            "https://www.upf.br/estudante/estudante\n",
            "https://www.upf.br/estudante/estudante/rematriculas\n",
            "https://www.upf.br/estudante/estudante\n",
            "https://www.upf.br/estudante/estudante/aplicativo-sou-upf\n",
            "https://www.upf.br/lci/apresentacao\n",
            "https://www.upf.br/online\n",
            "https://www.upf.br/saes/\n",
            "https://www.upf.br/intercambios\n",
            "https://www.upf.br/estudante/estudante/exames-de-proficiencia\n",
            "https://www.upf.br/estudante/estudante/central-de-atendimento-ao-aluno\n",
            "https://www.upf.br/CPA\n",
            "http://enade.upf.br/\n",
            "https://www.upf.br/estudante/estudante/pibid\n",
            "http://www.parfor.upf.br\n",
            "http://novopropet.upf.br/\n",
            "http://saudeupf.upf.br/\n",
            "https://www.upf.br/perguntas-frequentes/graduacao\n",
            "https://www.upf.br/estudante/estudante/servicos-on-line\n",
            "https://www.upf.br/estudante/espacosenseupf\n",
            "https://www.upf.br/estudante/guia-academico\n",
            "https://www.upf.br/estudante/politica-dos-estudantes\n",
            "https://www.upf.br/estudante/volta-as-aulas-2021-2\n",
            "https://www.upf.br/professor/\n",
            "https://www.upf.br/funcionario/funcionario\n",
            "https://www.upf.br/egresso/egresso\n",
            "https://www.upf.br/integrado\n",
            "https://www.upf.br/fupf\n",
            "https://www.upf.br/upfidiomas\n",
            "https://www.upf.br/biblioteca\n",
            "https://www.upf.br/mapa-site\n",
            "https://www.upf.br/contato\n",
            "https://www.upf.br/\n",
            "https://www.upf.br/a-universidade\n",
            "https://www.upf.br/a-universidade/a-universidade\n",
            "https://www.upf.br/a-universidade/a-universidade/responsabilidade-social\n",
            "https://www.upf.br/a-universidade/historico\n",
            "http://45anos.upf.br/\n",
            "http://50anos.upf.br/\n",
            "https://www.upf.br/a-universidade/missao-visao-e-valores\n",
            "http://www.fupf.upf.br\n",
            "https://www.upf.br/a-universidade/conselho-universitario\n",
            "https://www.upf.br/a-universidade/reitoria/perfil-da-reitora\n",
            "https://www.upf.br/a-universidade/reitoria\n",
            "https://www.upf.br/a-universidade/vice-reitoria-de-graduacao/perfil-do-vice-reitor-graduacao\n",
            "https://www.upf.br/a-universidade/vice-reitoria-de-graduacao\n",
            "https://www.upf.br/a-universidade/vice-reitoria-de-pesquisa-pos-graduacao-extensao-e-assuntos-comunitarios/perfil-do-vice-reitor-extensao\n",
            "https://www.upf.br/a-universidade/vice-reitoria-de-pesquisa-pos-graduacao-extensao-e-assuntos-comunitarios\n",
            "https://www.upf.br/a-universidade/vice-reitoria-de-pesquisa-pos-graduacao-extensao-e-assuntos-comunitarios\n",
            "https://www.upf.br/a-universidade/vice-reitoria-administrativa/perfil-do-vice-reitor-pesquisa\n",
            "https://www.upf.br/a-universidade/vice-reitoria-administrativa\n",
            "https://www.upf.br/unidades-academicas\n",
            "https://www.upf.br/campus\n",
            "https://www.upf.br/comunicacao\n",
            "https://www.upf.br/trabalhe-com-a-upf\n",
            "https://www.upf.br/a-universidade/sense\n",
            "https://www.upf.br/a-universidade/lgpd\n",
            "https://www.upf.br/a-universidade/como-chegar\n",
            "https://www.upf.br/ensino\n",
            "https://www.upf.br/ensino\n",
            "https://www.upf.br/escoladeextensao/agenda/\n",
            "https://www.upf.br/pos/cursos\n",
            "https://www.upf.br/pesquisa-e-inovacao\n",
            "https://www.upf.br/pesquisa-e-inovacao/pesquisa\n",
            "https://www.upf.br/pesquisa-e-inovacao/pesquisa/grupos\n",
            "https://www.upf.br/pesquisa-e-inovacao/pesquisa/projetos-programa\n",
            "https://www.upf.br/pesquisa-e-inovacao/pesquisa/projetos-institucionalizados\n",
            "https://www.upf.br/pesquisa-e-inovacao/pesquisa/fomentos-a-pesquisa\n",
            "https://www.upf.br/pesquisa-e-inovacao/pesquisa/bolsas-de-iniciacao-cientifica\n",
            "https://www.upf.br/pesquisa-e-inovacao/pesquisa/editais-de-pesquisa\n",
            "https://www.upf.br/pesquisa-e-inovacao/pesquisa/sisgen\n",
            "http://www.cep.upf.br/\n",
            "https://www.upf.br/pesquisa-e-inovacao/pesquisa/comissao-de-etica-no-uso-de-animais\n",
            "http://cepa.upf.br/\n",
            "http://cepeac.upf.br/\n",
            "http://aveia.upf.br/\n",
            "https://www.upf.br/pesquisa-e-inovacao/estrutura-pesquisa/laboratorios/\n",
            "http://www.editora.upf.br\n",
            "https://www.upf.br/pesquisa-e-inovacao/upfperiodico\n",
            "http://semanadoconhecimento.upf.br/\n",
            "https://www.upf.br/conecta\n",
            "https://www.upf.br/pesquisa-e-inovacao/inovacao/upf-polos-de-inovacao-tecnologica-\n",
            "https://www.upf.br/extensao\n",
            "https://www.upf.br/extensao/apresentacao\n",
            "https://www.upf.br/escoladeextensao/\n",
            "http://www.creati.upf.br/\n",
            "http://www.feiradeciencias.upf.br/\n",
            "https://www.upf.br/extensao/incentivo-ao-esporte\n",
            "https://www.upf.br/extensao/visitacao-aos-museus\n",
            "http://www.ahr.upf.br/\n",
            "https://www.upf.br/extensao/visitacao-aos-museus/museu-de-artes-visuais-ruth-schneider-mavrs\n",
            "https://www.upf.br/extensao/visitacao-aos-museus/museu-historico-regional-mhr\n",
            "https://www.upf.br/extensao/visitacao-aos-museus/museu-zoobotanico-augusto-ruschi-muzar\n",
            "https://www.upf.br/jornada40anos\n",
            "https://www.upf.br/greenoffice\n",
            "https://www.upf.br/agenda/\n",
            "https://www.upf.br/extensao/upf-servicos\n",
            "https://www.upf.br/upfservico\n",
            "https://www.upf.br/agenda/locacoes-e-reservas\n",
            "http://cepa.upf.br/\n",
            "http://www.concursos.upf.br/\n",
            "https://www.upf.br/extensao/upf-servicos/consulta-de-diplomas\n",
            "https://www.upf.br/hospitalveterinario\n",
            "https://www.upf.br/intercambios\n",
            "https://www.upf.br/inscricoes-abertas\n",
            "https://secure.upf.br/apps/rede/troca_1.php\n",
            "https://www.upf.br/\n",
            "https://secure.upf.br/apps/rede/troca_1.php\n",
            "https://www.upf.br/noticia/guia-da-faculdade-upf-tem-57-cursos-estrelados\n",
            "https://www.upf.br/pos/disciplinas-isoladas\n",
            "https://www.upf.br/Ingresso/cursos-hibridos\n",
            "https://www.upf.br/noticia/conheca-nossas-historias-as-acoes-transformadoras-de-alvaro-ferri-e-lincke-carvalho\n",
            "https://www.upf.br/enade/tudo-sobre-o-enade/quais-cursos-participam-este-ano\n",
            "https://www.upf.br/coronavirus\n",
            "https://www.upf.br/estudante/estudante/informacoes-financeiras/bolsas\n",
            "https://www.upf.br/online/tutoriais\n",
            "https://www.upf.br/estudante/estudante/servicos-on-line/pagamento-de-boletos\n",
            "https://www.upf.br/saes/\n",
            "http://editora.upf.br/index.php/inicial\n",
            "https://bit.ly/3gI5gHa\n",
            "https://www.upf.br/ingresso\n",
            "https://www.upf.br/estude-na-upf/aluno-especial\n",
            "http://novopropet.upf.br/\n",
            "https://www.upf.br/extensao/visitacao-aos-museus\n",
            "https://www.upf.br/rppn\n",
            "https://www.upf.br/cpa\n",
            "https://www.upf.br/radio\n",
            "https://www.upf.br/tv\n",
            "https://www.upf.br/campus\n",
            "https://www.upf.br/escoladeextensao/agenda/\n",
            "https://www.upf.br/pos/cursos\n",
            "https://youtu.be/bjYX9N_oEfc\n",
            "https://www.upf.br/ingresso/\n",
            "https://www.upf.br/ingresso/\n",
            "https://www.instagram.com/universidadeupf/\n",
            "https://www.facebook.com/universidadedepassofundo\n",
            "https://www.linkedin.com/edu/school?id=10612\n",
            "https://www.flickr.com/universidadedepassofundo/\n",
            "https://www.youtube.com/UPFoficial\n",
            "https://twitter.com/universidadeupf\n",
            "https://wa.me/5554912839821\n",
            "https://www.upf.br/tv\n",
            "https://www.upf.br/radio\n",
            "http://fupf.upf.br/\n",
            "http://integrado.upf.br/\n",
            "http://upfidiomas.upf.br/\n",
            "https://www.upf.br/calendario-academico\n",
            "https://www.upf.br/editais\n",
            "https://www.upf.br/trabalhe-com-a-upf\n",
            "https://www.upf.br/tv\n",
            "https://www.upf.br/radio\n",
            "https://www.upf.br/ouvidoria\n",
            "https://www.instagram.com/universidadeupf/\n",
            "https://www.facebook.com/universidadedepassofundo\n",
            "https://www.linkedin.com/edu/school?id=10612\n",
            "https://www.flickr.com/universidadedepassofundo/\n",
            "https://www.youtube.com/UPFoficial\n",
            "https://twitter.com/universidadeupf\n",
            "https://wa.me/5554912839821\n",
            "https://www.upf.br/a-universidade/politica-de-privacidade\n",
            "http://www.axysweb.com.br\n",
            "https://www.upf.br/a-universidade/politica-de-privacidade\n"
          ]
        }
      ]
    },
    {
      "cell_type": "code",
      "metadata": {
        "colab": {
          "base_uri": "https://localhost:8080/"
        },
        "id": "WP209T3LPMzq",
        "outputId": "e7fec48b-38ad-4667-e89b-2e1792bad3f3"
      },
      "source": [
        "soup.find('section', class_='noticia__home')"
      ],
      "execution_count": null,
      "outputs": [
        {
          "output_type": "execute_result",
          "data": {
            "text/plain": [
              "<section class=\"noticia__home\">\n",
              "    <div class=\"container\">\n",
              "        <div class=\"row\">\n",
              "            <div class=\"col-md-9 col-xs-8\">\n",
              "                <h2>Notícias UPF</h2>\n",
              "            </div>\n",
              "            <div class=\"col-md-3 col-xs-4\">\n",
              "                <div class=\"veja__mais__noticia\">\n",
              "                    <a href=\"/noticias\">veja mais <i class=\"las la-long-arrow-alt-right\"></i></a>\n",
              "                </div>\n",
              "            </div>\n",
              "            <div class=\"col-md-12 col-xs-12\">\n",
              "                \n",
              "\n",
              "\n",
              "    <div class=\"noticia__portal__carousel owl-carousel owl-theme\">\n",
              "\n",
              "\n",
              "\n",
              "            <div class=\"item\">\n",
              "                <a href=\"/noticia/todo-musico-tem-que-ser-um-grande-pesquisador\" target=\"\">\n",
              "                    <div class=\"noticia__item\">\n",
              "\n",
              "                            <div class=\"noticia__item__tag\">\n",
              "                                <p style=\"background:#339028\">Ensino</p>\n",
              "                            </div>\n",
              "\n",
              "                        <div alt=\"“Todo músico tem que ser um grande pesquisador”\" class=\"img\" style=\"background:url(/Media/guitar-festival--3-_168560.JPG?firstHighlight=True) no-repeat center center; height:430px; background-size:cover\"></div>\n",
              "                        <div class=\"noticia__item__texto\">\n",
              "                            <p class=\"data\">03/11/2021</p>\n",
              "                            <h3>\n",
              "                                “Todo músico tem que ser um grande pesquisador”\n",
              "                            </h3>\n",
              "                        </div>\n",
              "                    </div>\n",
              "                </a>\n",
              "            </div>\n",
              "            <div class=\"item\">\n",
              "                <a href=\"/noticia/ppgedu-inscri%C3%A7oes\" target=\"\">\n",
              "                    <div class=\"noticia__item\">\n",
              "\n",
              "                            <div class=\"noticia__item__tag\">\n",
              "                                <p style=\"background:#339028\">Pesquisa e Inovação</p>\n",
              "                            </div>\n",
              "\n",
              "                        <div alt=\"Programa de Pós-Graduação em Educação da UPF é reconhecido pela excelência e qualidade de ensino\" class=\"img\" style=\"background:url(/Media/egressa-ppgedu_168558.jpg?secondHighlight=True) no-repeat center center; height:430px; background-size:cover\"></div>\n",
              "                        <div class=\"noticia__item__texto\">\n",
              "                            <p class=\"data\">03/11/2021</p>\n",
              "                            <h3>\n",
              "                                Programa de Pós-Graduação em Educação da UPF é reconhecido pela excelência e qualidade de ensino\n",
              "                            </h3>\n",
              "                        </div>\n",
              "                    </div>\n",
              "                </a>\n",
              "            </div>\n",
              "            <div class=\"item\">\n",
              "                <a href=\"/noticia/sustentabilidade-publicidade-propaganda\" target=\"\">\n",
              "                    <div class=\"noticia__item\">\n",
              "\n",
              "                            <div class=\"noticia__item__tag\">\n",
              "                                <p style=\"background:#339028\">Extensão</p>\n",
              "                            </div>\n",
              "\n",
              "                        <div alt=\"Sustentabilidade é tema de atividade do curso de Publicidade e Propaganda\" class=\"img\" style=\"background:url(/Media/atividade-pp-01_168554.jpg?secondHighlight=True) no-repeat center center; height:430px; background-size:cover\"></div>\n",
              "                        <div class=\"noticia__item__texto\">\n",
              "                            <p class=\"data\">03/11/2021</p>\n",
              "                            <h3>\n",
              "                                Sustentabilidade é tema de atividade do curso de Publicidade e Propaganda\n",
              "                            </h3>\n",
              "                        </div>\n",
              "                    </div>\n",
              "                </a>\n",
              "            </div>\n",
              "            <div class=\"item\">\n",
              "                <a href=\"/noticia/upf-parque-recebe-visita-de-comitiva-do-governo-do-estado\" target=\"\">\n",
              "                    <div class=\"noticia__item\">\n",
              "\n",
              "                            <div class=\"noticia__item__tag\">\n",
              "                                <p style=\"background:#339028\">Pesquisa e Inovação</p>\n",
              "                            </div>\n",
              "\n",
              "                        <div alt=\"UPF Parque recebe visita de comitiva do governo do Estado \" class=\"img\" style=\"background:url(/Media/visita-upf-parque-secretario-inovacao-rs--3-_168432.jpg?secondHighlight=True) no-repeat center center; height:430px; background-size:cover\"></div>\n",
              "                        <div class=\"noticia__item__texto\">\n",
              "                            <p class=\"data\">01/11/2021</p>\n",
              "                            <h3>\n",
              "                                UPF Parque recebe visita de comitiva do governo do Estado \n",
              "                            </h3>\n",
              "                        </div>\n",
              "                    </div>\n",
              "                </a>\n",
              "            </div>\n",
              "    </div>\n",
              "\n",
              "                \n",
              "            </div>\n",
              "        </div>\n",
              "    </div>\n",
              "</section>"
            ]
          },
          "metadata": {},
          "execution_count": 38
        }
      ]
    },
    {
      "cell_type": "code",
      "metadata": {
        "colab": {
          "base_uri": "https://localhost:8080/"
        },
        "id": "WnIutTlCQjxa",
        "outputId": "90b762ec-ff3e-4916-8ec5-71c6783b0eb7"
      },
      "source": [
        "soup.find('section', class_='noticia__home').findChildren('div', class_='noticia__portal__carousel')\n",
        "soup.find('section', class_='noticia__home').findChildren('div', class_='noticia__portal__carousel')[0].find_all(class_='item')"
      ],
      "execution_count": null,
      "outputs": [
        {
          "output_type": "execute_result",
          "data": {
            "text/plain": [
              "[<div class=\"item\">\n",
              "                 <a href=\"/noticia/todo-musico-tem-que-ser-um-grande-pesquisador\" target=\"\">\n",
              "                     <div class=\"noticia__item\">\n",
              " \n",
              "                             <div class=\"noticia__item__tag\">\n",
              "                                 <p style=\"background:#339028\">Ensino</p>\n",
              "                             </div>\n",
              " \n",
              "                         <div alt=\"“Todo músico tem que ser um grande pesquisador”\" class=\"img\" style=\"background:url(/Media/guitar-festival--3-_168560.JPG?firstHighlight=True) no-repeat center center; height:430px; background-size:cover\"></div>\n",
              "                         <div class=\"noticia__item__texto\">\n",
              "                             <p class=\"data\">03/11/2021</p>\n",
              "                             <h3>\n",
              "                                 “Todo músico tem que ser um grande pesquisador”\n",
              "                             </h3>\n",
              "                         </div>\n",
              "                     </div>\n",
              "                 </a>\n",
              "             </div>, <div class=\"item\">\n",
              "                 <a href=\"/noticia/ppgedu-inscri%C3%A7oes\" target=\"\">\n",
              "                     <div class=\"noticia__item\">\n",
              " \n",
              "                             <div class=\"noticia__item__tag\">\n",
              "                                 <p style=\"background:#339028\">Pesquisa e Inovação</p>\n",
              "                             </div>\n",
              " \n",
              "                         <div alt=\"Programa de Pós-Graduação em Educação da UPF é reconhecido pela excelência e qualidade de ensino\" class=\"img\" style=\"background:url(/Media/egressa-ppgedu_168558.jpg?secondHighlight=True) no-repeat center center; height:430px; background-size:cover\"></div>\n",
              "                         <div class=\"noticia__item__texto\">\n",
              "                             <p class=\"data\">03/11/2021</p>\n",
              "                             <h3>\n",
              "                                 Programa de Pós-Graduação em Educação da UPF é reconhecido pela excelência e qualidade de ensino\n",
              "                             </h3>\n",
              "                         </div>\n",
              "                     </div>\n",
              "                 </a>\n",
              "             </div>, <div class=\"item\">\n",
              "                 <a href=\"/noticia/sustentabilidade-publicidade-propaganda\" target=\"\">\n",
              "                     <div class=\"noticia__item\">\n",
              " \n",
              "                             <div class=\"noticia__item__tag\">\n",
              "                                 <p style=\"background:#339028\">Extensão</p>\n",
              "                             </div>\n",
              " \n",
              "                         <div alt=\"Sustentabilidade é tema de atividade do curso de Publicidade e Propaganda\" class=\"img\" style=\"background:url(/Media/atividade-pp-01_168554.jpg?secondHighlight=True) no-repeat center center; height:430px; background-size:cover\"></div>\n",
              "                         <div class=\"noticia__item__texto\">\n",
              "                             <p class=\"data\">03/11/2021</p>\n",
              "                             <h3>\n",
              "                                 Sustentabilidade é tema de atividade do curso de Publicidade e Propaganda\n",
              "                             </h3>\n",
              "                         </div>\n",
              "                     </div>\n",
              "                 </a>\n",
              "             </div>, <div class=\"item\">\n",
              "                 <a href=\"/noticia/upf-parque-recebe-visita-de-comitiva-do-governo-do-estado\" target=\"\">\n",
              "                     <div class=\"noticia__item\">\n",
              " \n",
              "                             <div class=\"noticia__item__tag\">\n",
              "                                 <p style=\"background:#339028\">Pesquisa e Inovação</p>\n",
              "                             </div>\n",
              " \n",
              "                         <div alt=\"UPF Parque recebe visita de comitiva do governo do Estado \" class=\"img\" style=\"background:url(/Media/visita-upf-parque-secretario-inovacao-rs--3-_168432.jpg?secondHighlight=True) no-repeat center center; height:430px; background-size:cover\"></div>\n",
              "                         <div class=\"noticia__item__texto\">\n",
              "                             <p class=\"data\">01/11/2021</p>\n",
              "                             <h3>\n",
              "                                 UPF Parque recebe visita de comitiva do governo do Estado \n",
              "                             </h3>\n",
              "                         </div>\n",
              "                     </div>\n",
              "                 </a>\n",
              "             </div>]"
            ]
          },
          "metadata": {},
          "execution_count": 55
        }
      ]
    },
    {
      "cell_type": "code",
      "metadata": {
        "colab": {
          "base_uri": "https://localhost:8080/"
        },
        "id": "kEnJqTAnQDRm",
        "outputId": "0cbce338-da9d-4908-b844-3496f8789073"
      },
      "source": [
        "#seleciona as tags das notícias\n",
        "noticias = soup.find('section', class_='noticia__home').findChildren('div', class_='noticia__portal__carousel')[0].find_all(class_='item')\n",
        "qnt_noticias = len(noticias)\n",
        "print(\"Quantidade de notícias:\", qnt_noticias)                                          \n",
        "list_links = []\n",
        "for noticia in noticias:\n",
        "  url_noticia = 'http://www.upf.br'+noticia.find('a').get('href')                       #url da notícia\n",
        "  list_links.append(url_noticia)                                                        #lista para armazenar as urls das notícias\n",
        "  data = noticia.find(class_='noticia__item__texto').find(class_='data').text           #data em que foi publicado\n",
        "  titulo_noticia = noticia.find(class_='noticia__item__texto').find('h3').text.strip()  #título da notícia\n",
        "  print('Data:', data, 'Título:', titulo_noticia, '\\nLink:', url_noticia)       "
      ],
      "execution_count": null,
      "outputs": [
        {
          "output_type": "stream",
          "name": "stdout",
          "text": [
            "Quantidade de notícias: 4\n",
            "Data: 03/11/2021 Título: Conheça as ações transformadoras de Thomas Trentin e Laura Skonieski \n",
            "Link: http://www.upf.br/noticia/conheca-as-acoes-transformadoras-de-thomas-trentin-e-laura-skonieski\n",
            "Data: 03/11/2021 Título: “Todo músico tem que ser um grande pesquisador” \n",
            "Link: http://www.upf.br/noticia/todo-musico-tem-que-ser-um-grande-pesquisador\n",
            "Data: 03/11/2021 Título: Programa de Pós-Graduação em Educação da UPF é reconhecido pela excelência e qualidade de ensino \n",
            "Link: http://www.upf.br/noticia/ppgedu-inscri%C3%A7oes\n",
            "Data: 03/11/2021 Título: Sustentabilidade é tema de atividade do curso de Publicidade e Propaganda \n",
            "Link: http://www.upf.br/noticia/sustentabilidade-publicidade-propaganda\n"
          ]
        }
      ]
    },
    {
      "cell_type": "code",
      "metadata": {
        "colab": {
          "base_uri": "https://localhost:8080/"
        },
        "id": "TLin6GsxcPT4",
        "outputId": "140711c1-caa5-4bd0-fec3-ef1d1ad8b41d"
      },
      "source": [
        "for number, link in enumerate(list_links):\n",
        "  print(\"Notícia {}\\n\".format(number+1))\n",
        "  res_link = requests.get(link)                               #faz a requisição para a página da notícia\n",
        "  soup_link = BeautifulSoup(res_link.text, 'html5lib')        #transforma o texto bruto em um texto formatado para sua manipulação de tags\n",
        "  titulo_pagina = soup_link.title.text                        #captura o título da notícia\n",
        "  subtitulo_pagina = soup_link.find('h2').text                #captura o subtítulo da página\n",
        "  texto_pagina = soup_link.find(id='textoConteudo').get_text().strip().replace('\\n', '').replace('\\xa0','') #captura o texto da página\n",
        "  print('Título: {}\\nSubtítulo: {}\\nTexto: {}\\nImagens:'.format(titulo_pagina, subtitulo_pagina, texto_pagina))\n",
        "  #caso a notícia não tenha imagens, então não dará erro. Dessa forma, usa try e except\n",
        "  try:                                                                                      \n",
        "    for img in soup_link.find(class_='galeria galeria-custom image-gallery').find_all('img'):\n",
        "      print('http://www.upf.br'+img.get('src'))\n",
        "    print('\\n\\n')\n",
        "  except:pass"
      ],
      "execution_count": null,
      "outputs": [
        {
          "output_type": "stream",
          "name": "stdout",
          "text": [
            "Notícia 1\n",
            "\n",
            "Título: Conheça as ações transformadoras de Thomas Trentin e Laura Skonieski - UPF | Universidade de Passo Fundo\n",
            "Subtítulo: Eles contam suas experiências dentro da Universidade em mais um vídeo da série da campanha de Vestibular de Verão da UPF\n",
            "Texto: O acadêmico do curso de Agronomia da Universidade de Passo Fundo (UPF), Thomas Trentin, ingressou no curso por uma motivação da família. O irmão dele já estudava Agronomia na UPF e o trouxe para conhecer a estufa de hortaliças e desde então ele passou a se encantar pela área. A escolha de Laura Skonieski pelo curso de Medicina, também vem de uma inspiração familiar. Ela seguiu os passos do pai, que também é médico. Os dois vivenciam experiências imersivas com toda a estrutura que só uma Universidade oferece.Estudante de Agronomia,Thomas TrentinThomas Trentin se apaixonou pela pesquisa e por seu objeto de estudo: os morangos. Ainda no primeiro semestre, se aproximou das atividades de laboratório e conseguiu se tornar bolsista de iniciação científica e desenvolver estudos na área da olericultura. Desde então, ele participa de programas de iniciação científica com o objetivo de melhorar a eficiência do uso de insumos nos sistemas produtivos e proporcionar ao produtor um meio mais rentável e sustentável de produzir.“Os morangos me encantam tanto porque a gente consegue dar um olhar mais individual para a planta. Cuidar da planta, fazer o manejo de poda, ver o que está acontecendo de errado, de uma maneira bem mais aprofundada do que em áreas de grande extensão, e também por a gente poder provar esse fruto no final da colheita. Essa é uma grande vantagem”, destaca ele.Trentin destaca a importância dos laboratórios da Universidade, que oferecem suporte para aliar os ensinamentos teóricos com os práticos, como o Centro de Extensão e Pesquisa Agropecuária (Cepagro), que conta com extensas áreas de lavoura e criação de animais e também as estufas, que permitem trabalhar na prática a área de horticultura e desenvolvimento de doenças e pragas. “A Universidade representa uma base de conhecimento para nós alunos. Sem a estrutura docente e sem essa estrutura que a gente tem para aliar o conhecimento teórico com o prático, acredito que entender como que esse sistema de produção funciona não seria possível”, afirma ele.A paixão pela MedicinaLaura Skonieski, acadêmica de MedicinaLaura Skonieski conta que quando era pequena acompanhava o pai em alguns plantões no hospital. Ele, que é médico, aproveitava os momentos em que não tinha pacientes para ajudar a filha nas tarefas da escola. “Foi acompanhando meu pai que comecei a conviver no ambiente hospitalar e um pouco com a medicina e foi assim que o sonho de ser médica surgiu”, relata Laura.Acadêmica do oitavo nível do curso de Medicina, ela aproveita ao máximo as experiências proporcionadas dentro do curso e da Instituição: é presidente da Liga de Ginecologia, Obstetrícia e Sexologia; diretora social da Associação Atlética Acadêmica Gaúchos de Passo Fundo; monitora nas disciplinas de Saúde da Mulher e Suporte de Vida Avançado no Trauma; integrante do projeto de extensão de Educação Inclusiva Equoterapêutica, entre outros. Ao todo, Laura participa de mais de 10 atividades além da sala de aula.“Eu aprendo um pouquinho em cada lugar que estou. Muito além do que eu posso levar para as pessoas, é o que elas me trazem. Aprendo muito todos os dias. Tudo que eu faço parte hoje é o que faz de mim a Laura. E foi a Universidade que abriu essas portas todas”, afirma ela, ao mencionar também a evolução do aprendizado após a implementação do Centro de Simulação Realística (CSR), que permite aos estudantes o desenvolvimento de habilidades clínicas e aprendizado em procedimentos médicos, utilizando a simulação realística, com modelos de alta fidelidade e softwares de realidade virtual. “No CSR, a gente pode fazer muitas coisas que não conseguimos fazer num paciente real. Aprendemos muito para na hora de chegar no paciente saber o que fazer”, destaca Laura.Assista ao vídeo:Inspirado? Então, agora você pode começar a viver experiências como essa e, quem sabe, ser o próximo a desenvolver uma ação transformadora. Descubra como em upf.br/ingresso. Inscreva-se!                                                                                        Ensino                                    Graduação                                    Ingresso                                                                                    Galeria de Imagens\n",
            "Imagens:\n",
            "http://www.upf.br/Media/thomas-agronomia-upf_168568.jpeg?zoom=True\n",
            "http://www.upf.br/Media/laura-medicina-upf_168569.jpeg?zoom=True\n",
            "http://www.upf.br/Media/thomas-agronomia-upf_168568.jpeg?thumb=True\n",
            "http://www.upf.br/Media/laura-medicina-upf_168569.jpeg?thumb=True\n",
            "\n",
            "\n",
            "\n",
            "Notícia 2\n",
            "\n",
            "Título: “Todo músico tem que ser um grande pesquisador” - UPF | Universidade de Passo Fundo\n",
            "Subtítulo: Primeira edição do UPF Guitar Festival reuniu estudantes e egressos do curso de Música com uma masterclass sobre guitarra jazz\n",
            "Texto: Dono de um canal no Youtube com mais de 30 mil escritos, o músico Ozeias Rodrigues foi quem abriu a primeira edição do UPF Guitar Festival, na última segunda-feira, 1º de novembro. Professor de guitarra do Conservatório de Música Popular de Itajaí, Rodrigues atualmente, desenvolve um trabalho voltado para o jazz e a música brasileira, participando de forma ativa no cenário de música instrumental do Brasil.Em 24 anos de carreira, Ozeias possui uma vasta discografia como produtor e músico convidado em CDs e DVDs dos mais variados estilos. No encontro, que foi assistido de forma on-line por professores, estudantes e egressos do curso de Música da UPF, o músico compartilhou técnicas e deu dicas para os participantes. Para ele, o cenário de guitarra no país está mudando e é dever do músico estudar diferentes estilos. “Apesar de muito legal, nosso cenário de guitarra estava indo para trás, nós estávamos presos naquela ideia dos anos 80, e hoje você precisa saber de tudo, conhecer de tudo. Todo grande músico tem que ser um grande pesquisador”, destacou.A tarde também contou com as participações dos egressos do curso Augusto Baschera e Diogo Nestor. Augusto fez mestrado em Portugal onde hoje atua como músico, e, além de tocar, tirou dúvidas dos participantes. Já o Diogo, demonstrou toda sua habilidade com a guitarra elétrica e falou sobre o processo criativo em um instrumento completo e versátil. O evento encerrou no turno da noite, com um concerto promovido pelos professores e estudantes do curso.                                Galeria de Imagens\n",
            "Imagens:\n",
            "http://www.upf.br/Media/guitar-festival--1-_168559.JPG?zoom=True\n",
            "http://www.upf.br/Media/guitar-festival--4-_168561.JPG?zoom=True\n",
            "http://www.upf.br/Media/guitar-festival--3-_168560.JPG?zoom=True\n",
            "http://www.upf.br/Media/guitar-festival--2-_168562.JPG?zoom=True\n",
            "http://www.upf.br/Media/guitar-festival--5-_168563.JPG?zoom=True\n",
            "http://www.upf.br/Media/guitar-festival--6-_168564.JPG?zoom=True\n",
            "http://www.upf.br/Media/guitar-festival--7-_168565.JPG?zoom=True\n",
            "http://www.upf.br/Media/guitar-festival--1-_168559.JPG?thumb=True\n",
            "http://www.upf.br/Media/guitar-festival--4-_168561.JPG?thumb=True\n",
            "http://www.upf.br/Media/guitar-festival--3-_168560.JPG?thumb=True\n",
            "http://www.upf.br/Media/guitar-festival--2-_168562.JPG?thumb=True\n",
            "http://www.upf.br/Media/guitar-festival--5-_168563.JPG?thumb=True\n",
            "http://www.upf.br/Media/guitar-festival--6-_168564.JPG?thumb=True\n",
            "http://www.upf.br/Media/guitar-festival--7-_168565.JPG?thumb=True\n",
            "\n",
            "\n",
            "\n",
            "Notícia 3\n",
            "\n",
            "Título: Programa de Pós-Graduação em Educação da UPF é reconhecido pela excelência e qualidade de ensino - UPF | Universidade de Passo Fundo\n",
            "Subtítulo: Ofertando o Mestrado em Educação, PPGEdu inscreve para 2022\n",
            "Texto: Formar profissionais especialistas na área da Educação, que busquem a oportunidade de construção de elementos teórico-metodológicos necessários à pesquisa educacional, é um dos propósitos do Programa de Pós-Graduação em Educação da Universidade de Passo Fundo (PPGEdu/UPF). Sendo resultado da capacitação docente, do empenho na pesquisa e da formação continuada de profissionais altamente qualificados, o PPGEdu está com inscrições abertas para uma nova turma do curso de Mestrado.O Programa, que também visa a produção e a difusão de conhecimentos que esclareçam e permitam a intervenção em problemas educacionais relevantes para a sociedade, é reconhecido pela excelência e qualidade de ensino pela Capes. Egressa do Mestrado em Educação, Ana Carolina Leite da Silva relata que as contribuições do PPGEdu são muitas.“O curso está estruturado de tal maneira que permite que o mestrando, desde o primeiro semestre, dedique-se a sua pesquisa e a escrita de artigos científicos ao final de cada disciplina. Além disso, ele também propõe discussões atuais, entrelaçadas com teorias robustas e que estão diretamente relacionadas à educação e suas facetas. Possibilita ainda que o aluno se torne um pesquisador de sua prática e isso tem impacto direto na vida profissional, sendo possível aliar teoria e prática”, destaca.Professora da educação infantil no Colégio Sinodal Rui Barbosa, em Carazinho, onde atua com o nível do maternal 3 e 4 anos, Ana Carolina ressalta a possibilidade de inserção nos grupos de pesquisa que o PPGEdu oferece. Segundo ela, isso oportuniza aprofundar o estudo e a própria pesquisa. “Há dois anos, faço parte do Grupo de Estudos e Pesquisas em Educação Superior (Gepes). Trata-se de um grupo que possui mestres, doutores, alunos da graduação e muitos egressos do PPGEdu. A minha inserção no Gepes foi determinante para qualificar minha pesquisa, na medida que, através do grupo, conseguimos expandir nossa perspectiva e desenvolver discussões e problematizações urgentes e necessárias em tempos de tanto obscurantismo”, disse.Uma vida acadêmica nos bancos universitários da UPFA profissional construiu toda a sua trajetória acadêmica na UPF. Graduada em Pedagogia e especialista em Supervisão Educacional, Ana Carolina sempre se sentiu segura quanto à escolha pela Instituição e o impacto que ela teve na sua formação. “Quando decidi ingressar no PPGEdu, busquei saber a avaliação do curso perante a Capes, mas o principal fator que me fez escolher o Programa foi o alto nível de formação dos professores, que são respeitados para além da Universidade e que são referência em suas áreas, muitos com vivência direta na escola (ensinam com propriedade). Portanto, percebi que este era o lugar que eu poderia qualificar meus estudos e consequentemente minha prática na escola”, finaliza.UPF inscreve para o Mestrado em EducaçãoCom três linhas de pesquisa, “Fundamentos da Educação”, “Processos Educativos e Linguagem” e “Políticas Educacionais”, o PPGEdu oferta uma nova turma do Mestrado para ingresso em 2022. O curso, voltado para graduados em cursos de ensino superior, está com inscrições abertas até 25 de novembro. Ao todo, são oferecidas 8 vagas.Mais informações sobre o processo de seleção podem ser obtidas AQUI.                                                                                        Mestrado                                    Pesquisa e Inovação                                    PPGEdu                                                                                    Galeria de Imagens\n",
            "Imagens:\n",
            "http://www.upf.br/Media/egressa-ppgedu_168558.jpg?zoom=True\n",
            "http://www.upf.br/Media/egressa-ppgedu_168558.jpg?thumb=True\n",
            "\n",
            "\n",
            "\n",
            "Notícia 4\n",
            "\n",
            "Título: Sustentabilidade é tema de atividade do curso de Publicidade e Propaganda - UPF | Universidade de Passo Fundo\n",
            "Subtítulo: Oficinas foram realizadas com alunos do IE, por meio do projeto Célula\n",
            "Texto: O projeto de extensão Célula da Universidade de Passo Fundo (UPF), em parceria com o projeto TransformAção, realizou oficinas com estudantes do Instituto Educacional (IE). A atividade, desenvolvida no mês de outubro, foi coordenada por professores do curso de Publicidade e Propaganda, acadêmicos e representantes do TransformAção, com o objetivo de expandir o conhecimento das crianças sobre sustentabilidade.A ação foi constituída por rodas de conversa sobre como a sociedade trata o meio ambiente e maneiras de fazer o correto de forma dinâmica. Ainda, houve a apresentação da campanha \"Esquadrão Transformação\", desenvolvida pelo Célula, que convida cada estudante a dar continuidade na missão de deixar o meio onde se vive mais limpo e bom de morar.Os alunos ficaram encantados com as atividades e houve bastante interação das crianças com o grupo. Segundo a professora Dra. Lisiane Hermes, que acompanhou a ação, ela foi elaborada, planejada e programada pelos acadêmicos bolsistas do Célula. “Percebemos que esse trabalho dos estudantes ultrapassa as fronteiras da teoria. Eles enxergam nitidamente como funciona na prática aquilo que foi programado. É bonito de ver os alunos realizados, com tudo aquilo que eles pensaram se projetando”, comenta.O acadêmico Lucas Apolinário participou das oficinas. De acordo com ele, dentro do contexto da pandemia, esse foi um dos poucos projetos que foram realizados presencialmente, sendo de extrema importância tanto para os estudantes quanto para as crianças ter esse contato. “Apesar de estarmos lá para ensinar, também aprendemos muito com eles, e é muito gratificante saber que as crianças poderão reproduzir no seu dia a dia o que aprenderam”, disse.Práticas demonstram a importância da extensão universitáriaConforme Lisiane, como as oficinas foram com crianças, existiu toda uma sensibilidade dos estudantes em programar uma atividade tocante e relevante para esse público. “Deixamos eles com total autonomia e liberdade para a criação e o desenvolvimento de tudo o que envolve questões de comunicação”, relata a docente, complementando que o projeto Célula, desde a sua concepção, foi muito voltado para a inserção na comunidade e na comunicação solidária. “Depois que os acadêmicos passam pelo Projeto e adquirem essa prática com as pessoas, suas concepções sobre sustentabilidade e resíduos sólidos mudam”, afirma.Na opinião de Lucas, a atividade possibilitou mensurar o potencial da extensão que leva os aprendizados de dentro para fora da Universidade. “Isso enriquece mais nossa formação, trazendo vivências que só poderíamos ter diretamente com nossa comunidade”, pontua o acadêmico.                                                                                        Ensino                                    Extensão                                    Graduação                                                                                    Galeria de Imagens\n",
            "Imagens:\n",
            "http://www.upf.br/Media/atividade-pp-02_168553.jpg?zoom=True\n",
            "http://www.upf.br/Media/atividade-pp-03_168555.jpg?zoom=True\n",
            "http://www.upf.br/Media/atividade-pp-01_168554.jpg?zoom=True\n",
            "http://www.upf.br/Media/atividade-pp-04_168556.jpg?zoom=True\n",
            "http://www.upf.br/Media/atividade-pp-02_168553.jpg?thumb=True\n",
            "http://www.upf.br/Media/atividade-pp-03_168555.jpg?thumb=True\n",
            "http://www.upf.br/Media/atividade-pp-01_168554.jpg?thumb=True\n",
            "http://www.upf.br/Media/atividade-pp-04_168556.jpg?thumb=True\n",
            "\n",
            "\n",
            "\n"
          ]
        }
      ]
    }
  ]
}