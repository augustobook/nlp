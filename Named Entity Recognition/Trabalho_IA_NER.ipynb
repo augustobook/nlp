{
  "nbformat": 4,
  "nbformat_minor": 0,
  "metadata": {
    "orig_nbformat": 2,
    "deepnote_notebook_id": "2349ad22-a0ab-4193-ba7d-02d7ff2977d0",
    "deepnote_execution_queue": [],
    "deepnote": {},
    "colab": {
      "name": "Trabalho IA - NER",
      "provenance": [],
      "collapsed_sections": []
    },
    "language_info": {
      "name": "python"
    },
    "kernelspec": {
      "name": "python3",
      "display_name": "Python 3"
    },
    "widgets": {
      "application/vnd.jupyter.widget-state+json": {
        "d670daa432ee44e6a42c997bcd68328f": {
          "model_module": "@jupyter-widgets/controls",
          "model_name": "FloatProgressModel",
          "model_module_version": "1.5.0",
          "state": {
            "_view_name": "ProgressView",
            "style": "IPY_MODEL_89744fbee90a4ba48b21d09d6e361ef5",
            "_dom_classes": [],
            "description": "",
            "_model_name": "FloatProgressModel",
            "bar_style": "",
            "max": 1500,
            "_view_module": "@jupyter-widgets/controls",
            "_model_module_version": "1.5.0",
            "value": 1500,
            "_view_count": null,
            "_view_module_version": "1.5.0",
            "orientation": "horizontal",
            "min": 0,
            "description_tooltip": null,
            "_model_module": "@jupyter-widgets/controls",
            "layout": "IPY_MODEL_de2fcdf87eff436185710e8825546032"
          }
        },
        "89744fbee90a4ba48b21d09d6e361ef5": {
          "model_module": "@jupyter-widgets/controls",
          "model_name": "ProgressStyleModel",
          "model_module_version": "1.5.0",
          "state": {
            "_view_name": "StyleView",
            "_model_name": "ProgressStyleModel",
            "description_width": "",
            "_view_module": "@jupyter-widgets/base",
            "_model_module_version": "1.5.0",
            "_view_count": null,
            "_view_module_version": "1.2.0",
            "bar_color": null,
            "_model_module": "@jupyter-widgets/controls"
          }
        },
        "de2fcdf87eff436185710e8825546032": {
          "model_module": "@jupyter-widgets/base",
          "model_name": "LayoutModel",
          "model_module_version": "1.2.0",
          "state": {
            "_view_name": "LayoutView",
            "grid_template_rows": null,
            "right": null,
            "justify_content": null,
            "_view_module": "@jupyter-widgets/base",
            "overflow": null,
            "_model_module_version": "1.2.0",
            "_view_count": null,
            "flex_flow": null,
            "width": null,
            "min_width": null,
            "border": null,
            "align_items": null,
            "bottom": null,
            "_model_module": "@jupyter-widgets/base",
            "top": null,
            "grid_column": null,
            "overflow_y": null,
            "overflow_x": null,
            "grid_auto_flow": null,
            "grid_area": null,
            "grid_template_columns": null,
            "flex": null,
            "_model_name": "LayoutModel",
            "justify_items": null,
            "grid_row": null,
            "max_height": null,
            "align_content": null,
            "visibility": null,
            "align_self": null,
            "height": null,
            "min_height": null,
            "padding": null,
            "grid_auto_rows": null,
            "grid_gap": null,
            "max_width": null,
            "order": null,
            "_view_module_version": "1.2.0",
            "grid_template_areas": null,
            "object_position": null,
            "object_fit": null,
            "grid_auto_columns": null,
            "margin": null,
            "display": null,
            "left": null
          }
        },
        "4893c871c3ff415cb1e2e2715f1e4df0": {
          "model_module": "@jupyter-widgets/controls",
          "model_name": "FloatProgressModel",
          "model_module_version": "1.5.0",
          "state": {
            "_view_name": "ProgressView",
            "style": "IPY_MODEL_b7932986fdc447d4a914141eabb0b432",
            "_dom_classes": [],
            "description": "",
            "_model_name": "FloatProgressModel",
            "bar_style": "",
            "max": 5250,
            "_view_module": "@jupyter-widgets/controls",
            "_model_module_version": "1.5.0",
            "value": 5250,
            "_view_count": null,
            "_view_module_version": "1.5.0",
            "orientation": "horizontal",
            "min": 0,
            "description_tooltip": null,
            "_model_module": "@jupyter-widgets/controls",
            "layout": "IPY_MODEL_2adc00e2b2104da790ab8f2fbaf6a685"
          }
        },
        "b7932986fdc447d4a914141eabb0b432": {
          "model_module": "@jupyter-widgets/controls",
          "model_name": "ProgressStyleModel",
          "model_module_version": "1.5.0",
          "state": {
            "_view_name": "StyleView",
            "_model_name": "ProgressStyleModel",
            "description_width": "",
            "_view_module": "@jupyter-widgets/base",
            "_model_module_version": "1.5.0",
            "_view_count": null,
            "_view_module_version": "1.2.0",
            "bar_color": null,
            "_model_module": "@jupyter-widgets/controls"
          }
        },
        "2adc00e2b2104da790ab8f2fbaf6a685": {
          "model_module": "@jupyter-widgets/base",
          "model_name": "LayoutModel",
          "model_module_version": "1.2.0",
          "state": {
            "_view_name": "LayoutView",
            "grid_template_rows": null,
            "right": null,
            "justify_content": null,
            "_view_module": "@jupyter-widgets/base",
            "overflow": null,
            "_model_module_version": "1.2.0",
            "_view_count": null,
            "flex_flow": null,
            "width": null,
            "min_width": null,
            "border": null,
            "align_items": null,
            "bottom": null,
            "_model_module": "@jupyter-widgets/base",
            "top": null,
            "grid_column": null,
            "overflow_y": null,
            "overflow_x": null,
            "grid_auto_flow": null,
            "grid_area": null,
            "grid_template_columns": null,
            "flex": null,
            "_model_name": "LayoutModel",
            "justify_items": null,
            "grid_row": null,
            "max_height": null,
            "align_content": null,
            "visibility": null,
            "align_self": null,
            "height": null,
            "min_height": null,
            "padding": null,
            "grid_auto_rows": null,
            "grid_gap": null,
            "max_width": null,
            "order": null,
            "_view_module_version": "1.2.0",
            "grid_template_areas": null,
            "object_position": null,
            "object_fit": null,
            "grid_auto_columns": null,
            "margin": null,
            "display": null,
            "left": null
          }
        }
      }
    }
  },
  "cells": [
    {
      "cell_type": "markdown",
      "metadata": {
        "id": "fIGDWJ97-lel"
      },
      "source": [
        "# Named Entity Recognition"
      ]
    },
    {
      "cell_type": "markdown",
      "metadata": {
        "id": "TyI80SgK_DPf"
      },
      "source": [
        "## Instalação, importação e pré-processamento"
      ]
    },
    {
      "cell_type": "code",
      "metadata": {
        "tags": [],
        "cell_id": "00002-ea0a5597-ca7c-4244-af55-c876a462969f",
        "output_cleared": false,
        "source_hash": "6cf09f6b",
        "execution_millis": 84279,
        "execution_start": 1605877031025,
        "deepnote_cell_type": "code",
        "id": "H1DE2PWGe5G9"
      },
      "source": [
        "!python -m spacy download en_core_web_lg\n",
        "#https://spacy.io/models/en"
      ],
      "execution_count": null,
      "outputs": []
    },
    {
      "cell_type": "code",
      "metadata": {
        "tags": [],
        "cell_id": "00003-36147090-4896-430c-bfa0-1941a1c76126",
        "output_cleared": false,
        "source_hash": "bdad20c8",
        "execution_millis": 361,
        "execution_start": 1605877378351,
        "deepnote_cell_type": "code",
        "colab": {
          "base_uri": "https://localhost:8080/"
        },
        "id": "1UbqY73ke5HA",
        "outputId": "7b448fcd-fc10-4cec-db2d-bf47c310423e"
      },
      "source": [
        "import en_core_web_lg\n",
        "import pandas as pd\n",
        "import re\n",
        "import random\n",
        "import tqdm\n",
        "import spacy\n",
        "from spacy import displacy\n",
        "from spacy.util import minibatch, compounding\n",
        "import warnings\n",
        "from ipywidgets import FloatProgress\n",
        "from IPython.display import display\n",
        "\n",
        "from google.colab import drive\n",
        "drive.mount('/content/gdrive')"
      ],
      "execution_count": 1,
      "outputs": [
        {
          "output_type": "stream",
          "name": "stdout",
          "text": [
            "Drive already mounted at /content/gdrive; to attempt to forcibly remount, call drive.mount(\"/content/gdrive\", force_remount=True).\n"
          ]
        }
      ]
    },
    {
      "cell_type": "code",
      "metadata": {
        "tags": [],
        "cell_id": "00000-e64a109f-7da3-43f5-bfc0-71a00dfb3e2e",
        "output_cleared": false,
        "source_hash": "c821cdef",
        "execution_millis": 275,
        "execution_start": 1605882968449,
        "deepnote_cell_type": "code",
        "id": "ZZ3qIBh0e5HC",
        "colab": {
          "base_uri": "https://localhost:8080/"
        },
        "outputId": "efcd2251-5213-4f30-bb46-408da875f66d"
      },
      "source": [
        "food_df = pd.read_csv(\"/content/gdrive/My Drive/UPF/Trabalho IA/food.csv\")\n",
        "articles = pd.read_csv(\"/content/gdrive/My Drive/UPF/Trabalho IA/articles_ner.csv\")\n",
        "\n",
        "print(food_df.shape)\n",
        "print(articles.shape)"
      ],
      "execution_count": 2,
      "outputs": [
        {
          "output_type": "stream",
          "name": "stdout",
          "text": [
            "(354565, 5)\n",
            "(11992, 1)\n"
          ]
        }
      ]
    },
    {
      "cell_type": "code",
      "metadata": {
        "tags": [],
        "cell_id": "00012-6d68af93-05bd-4c87-8928-8e5d5602a4f1",
        "output_cleared": false,
        "source_hash": "3bd29141",
        "execution_millis": 0,
        "execution_start": 1605882980541,
        "deepnote_cell_type": "code",
        "id": "m6hb7nsme5HJ"
      },
      "source": [
        "food_templates = [\n",
        "    \"I ate my {sub_to_tag}\",\n",
        "    \"I'm eating a {sub_to_tag}\",\n",
        "    \"I just ate a {sub_to_tag}\",\n",
        "    \"I only ate the {sub_to_tag}\",\n",
        "    \"I'm done eating a {sub_to_tag}\",\n",
        "    \"I've already eaten a {sub_to_tag}\",\n",
        "    \"I just finished my {sub_to_tag}\",\n",
        "    \"When I was having lunch I ate a {sub_to_tag}\",\n",
        "    \"I had a {sub_to_tag} and a {sub_to_tag} today\",\n",
        "    \"I ate a {sub_to_tag} and a {sub_to_tag} for lunch\",\n",
        "    \"I made a {sub_to_tag} and {sub_to_tag} for lunch\",\n",
        "    \"I ate {sub_to_tag} and {sub_to_tag}\",\n",
        "    \"today I ate a {sub_to_tag} and a {sub_to_tag} for lunch\",\n",
        "    \"I had {sub_to_tag} with my husband last night\",\n",
        "    \"I brought you some {sub_to_tag} on my birthday\",\n",
        "    \"I made {sub_to_tag} for yesterday's dinner\",\n",
        "    \"last night, a {sub_to_tag} was sent to me with {sub_to_tag}\",\n",
        "    \"I had {sub_to_tag} yesterday and I'd like to eat it anyway\",\n",
        "    \"I ate a couple of {sub_to_tag} last night\",\n",
        "    \"I had some {sub_to_tag} at dinner last night\",\n",
        "    \"Last night, I ordered some {sub_to_tag}\",\n",
        "    \"I made a {sub_to_tag} last night\",\n",
        "    \"I had a bowl of {sub_to_tag} with {sub_to_tag} and I wanted to go to the mall today\",\n",
        "    \"I brought a basket of {sub_to_tag} for breakfast this morning\",\n",
        "    \"I had a bowl of {sub_to_tag}\",\n",
        "    \"I ate a {sub_to_tag} with {sub_to_tag} in the morning\",\n",
        "    \"I made a bowl of {sub_to_tag} for my breakfast\",\n",
        "    \"There's {sub_to_tag} for breakfast in the bowl this morning\",\n",
        "    \"This morning, I made a bowl of {sub_to_tag}\",\n",
        "    \"I decided to have some {sub_to_tag} as a little bonus\",\n",
        "    \"I decided to enjoy some {sub_to_tag}\",\n",
        "    \"I've decided to have some {sub_to_tag} for dessert\",\n",
        "    \"I had a {sub_to_tag}, a {sub_to_tag} and {sub_to_tag} at home\",\n",
        "    \"I took a {sub_to_tag}, {sub_to_tag} and {sub_to_tag} on the weekend\",\n",
        "    \"I ate a {sub_to_tag} with {sub_to_tag} and {sub_to_tag} just now\",\n",
        "    \"Last night, I ate an {sub_to_tag} with {sub_to_tag} and {sub_to_tag}\",\n",
        "    \"I tasted some {sub_to_tag}, {sub_to_tag} and {sub_to_tag} at the office\",\n",
        "    \"There's a basket of {sub_to_tag}, {sub_to_tag} and {sub_to_tag} that I consumed\",\n",
        "    \"I devoured a {sub_to_tag}, {sub_to_tag} and {sub_to_tag}\",\n",
        "    \"I've already had a bag of {sub_to_tag}, {sub_to_tag} and {sub_to_tag} from the fridge\"\n",
        "]"
      ],
      "execution_count": 3,
      "outputs": []
    },
    {
      "cell_type": "code",
      "metadata": {
        "tags": [],
        "cell_id": "00006-791566d9-ed51-4041-a0d7-75e424de39ec",
        "output_cleared": false,
        "source_hash": "6dab3e88",
        "execution_millis": 979,
        "execution_start": 1605882971320,
        "deepnote_cell_type": "code",
        "colab": {
          "base_uri": "https://localhost:8080/"
        },
        "id": "UwytLb4xe5HF",
        "outputId": "4fd48d2f-84a5-45ab-cfee-10b5860956da"
      },
      "source": [
        "foods = food_df[food_df[\"description\"].str.contains(\"[^a-zA-Z ]\") == False][\"description\"].apply(lambda food: food.lower())\n",
        "foods = foods[foods.str.split().apply(len) <= 3].drop_duplicates()\n",
        "foods.size"
      ],
      "execution_count": 4,
      "outputs": [
        {
          "output_type": "execute_result",
          "data": {
            "text/plain": [
              "37596"
            ]
          },
          "metadata": {},
          "execution_count": 4
        }
      ]
    },
    {
      "cell_type": "code",
      "metadata": {
        "colab": {
          "base_uri": "https://localhost:8080/"
        },
        "id": "UMQv8F2hKm6B",
        "outputId": "b2a08007-b407-4a0a-cf30-8d4b4776ebad"
      },
      "source": [
        "len(food_templates)"
      ],
      "execution_count": 5,
      "outputs": [
        {
          "output_type": "execute_result",
          "data": {
            "text/plain": [
              "40"
            ]
          },
          "metadata": {},
          "execution_count": 5
        }
      ]
    },
    {
      "cell_type": "code",
      "metadata": {
        "id": "76-9zY8-wKLB"
      },
      "source": [
        "#deixar na mesma proporção os dados\n",
        "\n",
        "list_entities = []\n",
        "\n",
        "for _ in range(2000):\n",
        "  for qnt_ent in range(1,4):\n",
        "    sentence = food_templates[random.randint(0,len(food_templates)-1)]\n",
        "\n",
        "    while len(re.findall('{sub_to_tag}', sentence)) != qnt_ent:\n",
        "      sentence = food_templates[random.randint(0,len(food_templates)-1)]\n",
        "      continue\n",
        "    matches = re.findall('{sub_to_tag}', sentence)\n",
        "\n",
        "    entities = []\n",
        "    for match in matches:\n",
        "      food = foods.iloc[random.randint(0,len(foods)-1)]\n",
        "      sentence = sentence.replace(match, food, 1)\n",
        "      m = re.search(food, sentence).span()\n",
        "      entities.append((m[0], m[1], 'FOOD'))\n",
        "    list_entities.append((sentence, {'entities':entities}))"
      ],
      "execution_count": 6,
      "outputs": []
    },
    {
      "cell_type": "code",
      "metadata": {
        "colab": {
          "base_uri": "https://localhost:8080/"
        },
        "id": "cNC9GN_95S9A",
        "outputId": "5343bc94-da3a-4fb7-fded-6b2af5d8946e"
      },
      "source": [
        "len(list_entities)"
      ],
      "execution_count": 7,
      "outputs": [
        {
          "output_type": "execute_result",
          "data": {
            "text/plain": [
              "6000"
            ]
          },
          "metadata": {},
          "execution_count": 7
        }
      ]
    },
    {
      "cell_type": "code",
      "metadata": {
        "colab": {
          "base_uri": "https://localhost:8080/"
        },
        "id": "GSDnuPjAENEi",
        "outputId": "e7fb2018-046c-484b-c172-cd3aa75f3ffe"
      },
      "source": [
        "list_entities[0]"
      ],
      "execution_count": 8,
      "outputs": [
        {
          "output_type": "execute_result",
          "data": {
            "text/plain": [
              "('I ate a couple of spicy chicken nuggets last night',\n",
              " {'entities': [(18, 39, 'FOOD')]})"
            ]
          },
          "metadata": {},
          "execution_count": 8
        }
      ]
    },
    {
      "cell_type": "code",
      "metadata": {
        "colab": {
          "base_uri": "https://localhost:8080/",
          "height": 53
        },
        "id": "7ySTP0LgET9A",
        "outputId": "c5dafafe-6945-4027-92cf-25fd97a27743"
      },
      "source": [
        "inicio_tag = list_entities[0][1]['entities'][0][0]\n",
        "fim_tag = list_entities[0][1]['entities'][0][1]\n",
        "print(\"Índice do início da tag {} e fim {} da tag food\".format(inicio_tag, fim_tag))\n",
        "list_entities[0][0][inicio_tag:fim_tag]"
      ],
      "execution_count": 9,
      "outputs": [
        {
          "output_type": "stream",
          "name": "stdout",
          "text": [
            "Índice do início da tag 18 e fim 39 da tag food\n"
          ]
        },
        {
          "output_type": "execute_result",
          "data": {
            "application/vnd.google.colaboratory.intrinsic+json": {
              "type": "string"
            },
            "text/plain": [
              "'spicy chicken nuggets'"
            ]
          },
          "metadata": {},
          "execution_count": 9
        }
      ]
    },
    {
      "cell_type": "code",
      "metadata": {
        "id": "AKgUGC51_Kq3"
      },
      "source": [
        "from spacy.gold import GoldParse\n",
        "from spacy.scorer import Scorer\n",
        "scorer = Scorer()\n",
        "\n",
        "def scoreNER(nlp, TEST_DATA):\n",
        "  random.shuffle(TEST_DATA)\n",
        "  for text, annot in TEST_DATA:\n",
        "      doc_gold_text = nlp.make_doc(text)\n",
        "      gold = GoldParse(doc_gold_text, entities=annot['entities'])\n",
        "      pred_value = nlp(text)\n",
        "      scorer.score(pred_value, gold)\n",
        "  print(\"Scores: \",scorer.scores['ents_per_type'])"
      ],
      "execution_count": 10,
      "outputs": []
    },
    {
      "cell_type": "markdown",
      "metadata": {
        "id": "lWEv_yXN-0aB"
      },
      "source": [
        "## Modelo 1"
      ]
    },
    {
      "cell_type": "code",
      "metadata": {
        "id": "Iodhohsj_uRu"
      },
      "source": [
        "model_spacy = 'en_core_web_lg'\n",
        "nlp = spacy.load(model_spacy) "
      ],
      "execution_count": 166,
      "outputs": []
    },
    {
      "cell_type": "code",
      "metadata": {
        "id": "5G-VVEqL-nKj"
      },
      "source": [
        "if \"ner\" not in nlp.pipe_names:\n",
        "    ner = nlp.create_pipe(\"ner\")\n",
        "    nlp.add_pipe(ner, last=True)\n",
        "else:ner = nlp.get_pipe(\"ner\")"
      ],
      "execution_count": 167,
      "outputs": []
    },
    {
      "cell_type": "code",
      "metadata": {
        "id": "oy17uKfR-rUe"
      },
      "source": [
        "TRAIN_DATA = list_entities[:int(0.75*len(list_entities))]\n",
        "TEST_DATA = list_entities[int(0.75*len(list_entities)):]\n",
        "\n",
        "for _, annotations in TRAIN_DATA:\n",
        "    for ent in annotations.get(\"entities\"):\n",
        "      ner.add_label(ent[2])"
      ],
      "execution_count": 168,
      "outputs": []
    },
    {
      "cell_type": "code",
      "metadata": {
        "colab": {
          "base_uri": "https://localhost:8080/"
        },
        "id": "e0H8yZF1-70b",
        "outputId": "ed1e8022-6bbe-469b-cf46-0b84ece55462"
      },
      "source": [
        "len(TRAIN_DATA)"
      ],
      "execution_count": 169,
      "outputs": [
        {
          "output_type": "execute_result",
          "data": {
            "text/plain": [
              "4500"
            ]
          },
          "metadata": {},
          "execution_count": 169
        }
      ]
    },
    {
      "cell_type": "code",
      "metadata": {
        "colab": {
          "base_uri": "https://localhost:8080/"
        },
        "id": "p2CFs74WAJEd",
        "outputId": "34ed8da1-8ee8-4483-c256-80d04c8a6fae"
      },
      "source": [
        "len(TEST_DATA)"
      ],
      "execution_count": 170,
      "outputs": [
        {
          "output_type": "execute_result",
          "data": {
            "text/plain": [
              "1500"
            ]
          },
          "metadata": {},
          "execution_count": 170
        }
      ]
    },
    {
      "cell_type": "code",
      "metadata": {
        "colab": {
          "base_uri": "https://localhost:8080/"
        },
        "id": "QvQoRFiX_Cow",
        "outputId": "4d20e1b3-0aa0-4a16-d1c1-a29c2ba8d556"
      },
      "source": [
        "epochs = 30\n",
        "\n",
        "other_pipes = [pipe for pipe in nlp.pipe_names if pipe != \"ner\"]\n",
        "\n",
        "with nlp.disable_pipes(*other_pipes):\n",
        "    if model_spacy is None:\n",
        "        nlp.begin_training()\n",
        "    for itn in tqdm.tqdm(range(epochs)):\n",
        "        random.shuffle(TRAIN_DATA)\n",
        "        losses = {}\n",
        "        size = compounding(4.0, 32.0, 1.001)\n",
        "        batches = minibatch(TRAIN_DATA, size=size)\n",
        "        for batch in batches:\n",
        "            texts, annotations = zip(*batch)\n",
        "            try:\n",
        "              nlp.update(texts,annotations,drop=0.3,losses=losses)\n",
        "            except:\n",
        "              #print(\"ERRO:\", text, annotations)\n",
        "              continue\n",
        "        print(itn,\" Losses\", losses, end=\"\\n\")\n",
        "        scoreNER(nlp, TEST_DATA)"
      ],
      "execution_count": 172,
      "outputs": [
        {
          "output_type": "stream",
          "name": "stderr",
          "text": [
            "\r  0%|          | 0/30 [00:00<?, ?it/s]"
          ]
        },
        {
          "output_type": "stream",
          "name": "stdout",
          "text": [
            "0  Losses {'ner': 30093.79447613284}\n"
          ]
        },
        {
          "output_type": "stream",
          "name": "stderr",
          "text": [
            "\r  3%|▎         | 1/30 [00:35<17:23, 35.99s/it]"
          ]
        },
        {
          "output_type": "stream",
          "name": "stdout",
          "text": [
            "Scores:  {'FOOD': {'p': 98.38220424671385, 'r': 97.3, 'f': 97.83810960281548}}\n",
            "1  Losses {'ner': 26930.220629180316}\n"
          ]
        },
        {
          "output_type": "stream",
          "name": "stderr",
          "text": [
            "\r  7%|▋         | 2/30 [01:15<17:51, 38.27s/it]"
          ]
        },
        {
          "output_type": "stream",
          "name": "stdout",
          "text": [
            "Scores:  {'FOOD': {'p': 98.75546585940128, 'r': 97.86666666666667, 'f': 98.30905742507953}}\n",
            "2  Losses {'ner': 26362.011418125883}\n"
          ]
        },
        {
          "output_type": "stream",
          "name": "stderr",
          "text": [
            "\r 10%|█         | 3/30 [02:01<18:38, 41.42s/it]"
          ]
        },
        {
          "output_type": "stream",
          "name": "stdout",
          "text": [
            "Scores:  {'FOOD': {'p': 98.93866607083007, 'r': 98.4, 'f': 98.66859784970197}}\n",
            "3  Losses {'ner': 26356.193910353875}\n"
          ]
        },
        {
          "output_type": "stream",
          "name": "stderr",
          "text": [
            "\r 13%|█▎        | 4/30 [02:49<19:09, 44.20s/it]"
          ]
        },
        {
          "output_type": "stream",
          "name": "stdout",
          "text": [
            "Scores:  {'FOOD': {'p': 98.97148591019315, 'r': 98.63333333333333, 'f': 98.80212028882674}}\n",
            "4  Losses {'ner': 26361.671791522385}\n"
          ]
        },
        {
          "output_type": "stream",
          "name": "stderr",
          "text": [
            "\r 17%|█▋        | 5/30 [03:37<18:59, 45.56s/it]"
          ]
        },
        {
          "output_type": "stream",
          "name": "stdout",
          "text": [
            "Scores:  {'FOOD': {'p': 99.07091771940378, 'r': 98.81333333333333, 'f': 98.94195787857548}}\n",
            "5  Losses {'ner': 26199.277287281875}\n"
          ]
        },
        {
          "output_type": "stream",
          "name": "stderr",
          "text": [
            "\r 20%|██        | 6/30 [04:25<18:32, 46.34s/it]"
          ]
        },
        {
          "output_type": "stream",
          "name": "stdout",
          "text": [
            "Scores:  {'FOOD': {'p': 99.13154818237489, 'r': 98.92777777777778, 'f': 99.0295581569947}}\n",
            "6  Losses {'ner': 26284.831726262455}\n"
          ]
        },
        {
          "output_type": "stream",
          "name": "stderr",
          "text": [
            "\r 23%|██▎       | 7/30 [05:12<17:54, 46.72s/it]"
          ]
        },
        {
          "output_type": "stream",
          "name": "stdout",
          "text": [
            "Scores:  {'FOOD': {'p': 99.24618320610688, 'r': 99.05714285714285, 'f': 99.15157292659677}}\n",
            "7  Losses {'ner': 25885.97740693041}\n"
          ]
        },
        {
          "output_type": "stream",
          "name": "stderr",
          "text": [
            "\r 27%|██▋       | 8/30 [06:00<17:13, 46.97s/it]"
          ]
        },
        {
          "output_type": "stream",
          "name": "stdout",
          "text": [
            "Scores:  {'FOOD': {'p': 99.3279906503047, 'r': 99.15416666666667, 'f': 99.24100254389256}}\n",
            "8  Losses {'ner': 25940.549682877143}\n"
          ]
        },
        {
          "output_type": "stream",
          "name": "stderr",
          "text": [
            "\r 30%|███       | 9/30 [06:47<16:27, 47.01s/it]"
          ]
        },
        {
          "output_type": "stream",
          "name": "stdout",
          "text": [
            "Scores:  {'FOOD': {'p': 99.39902062620567, 'r': 99.23703703703704, 'f': 99.31796278449106}}\n",
            "9  Losses {'ner': 26018.762007813464}\n"
          ]
        },
        {
          "output_type": "stream",
          "name": "stderr",
          "text": [
            "\r 33%|███▎      | 10/30 [07:34<15:40, 47.03s/it]"
          ]
        },
        {
          "output_type": "stream",
          "name": "stdout",
          "text": [
            "Scores:  {'FOOD': {'p': 99.45247554502053, 'r': 99.29666666666667, 'f': 99.37451003285908}}\n",
            "10  Losses {'ner': 25870.374924503238}\n"
          ]
        },
        {
          "output_type": "stream",
          "name": "stderr",
          "text": [
            "\r 37%|███▋      | 11/30 [08:26<15:24, 48.67s/it]"
          ]
        },
        {
          "output_type": "stream",
          "name": "stdout",
          "text": [
            "Scores:  {'FOOD': {'p': 99.49018298789186, 'r': 99.34848484848486, 'f': 99.4192834291086}}\n",
            "11  Losses {'ner': 26048.68241537668}\n"
          ]
        },
        {
          "output_type": "stream",
          "name": "stderr",
          "text": [
            "\r 40%|████      | 12/30 [09:13<14:24, 48.04s/it]"
          ]
        },
        {
          "output_type": "stream",
          "name": "stdout",
          "text": [
            "Scores:  {'FOOD': {'p': 99.52716045948877, 'r': 99.39722222222223, 'f': 99.46214890275597}}\n",
            "12  Losses {'ner': 25996.093058214}\n"
          ]
        },
        {
          "output_type": "stream",
          "name": "stderr",
          "text": [
            "\r 43%|████▎     | 13/30 [10:00<13:29, 47.59s/it]"
          ]
        },
        {
          "output_type": "stream",
          "name": "stdout",
          "text": [
            "Scores:  {'FOOD': {'p': 99.54815024004519, 'r': 99.42307692307692, 'f': 99.4855742710164}}\n",
            "13  Losses {'ner': 26021.383717063924}\n"
          ]
        },
        {
          "output_type": "stream",
          "name": "stderr",
          "text": [
            "\r 47%|████▋     | 14/30 [10:46<12:36, 47.29s/it]"
          ]
        },
        {
          "output_type": "stream",
          "name": "stdout",
          "text": [
            "Scores:  {'FOOD': {'p': 99.56375598941571, 'r': 99.44285714285715, 'f': 99.50326984240432}}\n",
            "14  Losses {'ner': 26045.926315679084}\n"
          ]
        },
        {
          "output_type": "stream",
          "name": "stderr",
          "text": [
            "\r 50%|█████     | 15/30 [11:33<11:45, 47.07s/it]"
          ]
        },
        {
          "output_type": "stream",
          "name": "stdout",
          "text": [
            "Scores:  {'FOOD': {'p': 99.5884132775652, 'r': 99.47333333333333, 'f': 99.53084004091252}}\n",
            "15  Losses {'ner': 25819.267373969753}\n"
          ]
        },
        {
          "output_type": "stream",
          "name": "stderr",
          "text": [
            "\r 53%|█████▎    | 16/30 [12:19<10:56, 46.89s/it]"
          ]
        },
        {
          "output_type": "stream",
          "name": "stdout",
          "text": [
            "Scores:  {'FOOD': {'p': 99.60996975701323, 'r': 99.49583333333332, 'f': 99.55286883110115}}\n",
            "16  Losses {'ner': 25874.6600422709}\n"
          ]
        },
        {
          "output_type": "stream",
          "name": "stderr",
          "text": [
            "\r 57%|█████▋    | 17/30 [13:08<10:18, 47.56s/it]"
          ]
        },
        {
          "output_type": "stream",
          "name": "stdout",
          "text": [
            "Scores:  {'FOOD': {'p': 99.62900439698493, 'r': 99.51960784313727, 'f': 99.57427607313821}}\n",
            "17  Losses {'ner': 25871.822857204126}\n"
          ]
        },
        {
          "output_type": "stream",
          "name": "stderr",
          "text": [
            "\r 60%|██████    | 18/30 [13:55<09:27, 47.32s/it]"
          ]
        },
        {
          "output_type": "stream",
          "name": "stdout",
          "text": [
            "Scores:  {'FOOD': {'p': 99.640361121925, 'r': 99.53518518518518, 'f': 99.58774538413792}}\n",
            "18  Losses {'ner': 25830.972538574133}\n"
          ]
        },
        {
          "output_type": "stream",
          "name": "stderr",
          "text": [
            "\r 63%|██████▎   | 19/30 [14:42<08:38, 47.18s/it]"
          ]
        },
        {
          "output_type": "stream",
          "name": "stdout",
          "text": [
            "Scores:  {'FOOD': {'p': 99.65755228913123, 'r': 99.5578947368421, 'f': 99.60769858613517}}\n",
            "19  Losses {'ner': 25769.186318012944}\n"
          ]
        },
        {
          "output_type": "stream",
          "name": "stderr",
          "text": [
            "\r 67%|██████▋   | 20/30 [15:29<07:51, 47.18s/it]"
          ]
        },
        {
          "output_type": "stream",
          "name": "stdout",
          "text": [
            "Scores:  {'FOOD': {'p': 99.664681447375, 'r': 99.57000000000001, 'f': 99.61731822615741}}\n",
            "20  Losses {'ner': 25683.07876392507}\n"
          ]
        },
        {
          "output_type": "stream",
          "name": "stderr",
          "text": [
            "\r 70%|███████   | 21/30 [16:16<07:04, 47.21s/it]"
          ]
        },
        {
          "output_type": "stream",
          "name": "stdout",
          "text": [
            "Scores:  {'FOOD': {'p': 99.68065838390899, 'r': 99.58888888888889, 'f': 99.6347525051214}}\n",
            "21  Losses {'ner': 25646.252095404863}\n"
          ]
        },
        {
          "output_type": "stream",
          "name": "stderr",
          "text": [
            "\r 73%|███████▎  | 22/30 [17:04<06:17, 47.24s/it]"
          ]
        },
        {
          "output_type": "stream",
          "name": "stdout",
          "text": [
            "Scores:  {'FOOD': {'p': 99.69063253514506, 'r': 99.60151515151516, 'f': 99.64605391803913}}\n",
            "22  Losses {'ner': 25713.45350954862}\n"
          ]
        },
        {
          "output_type": "stream",
          "name": "stderr",
          "text": [
            "\r 77%|███████▋  | 23/30 [17:51<05:30, 47.27s/it]"
          ]
        },
        {
          "output_type": "stream",
          "name": "stdout",
          "text": [
            "Scores:  {'FOOD': {'p': 99.70118510567313, 'r': 99.61304347826086, 'f': 99.65709480277513}}\n",
            "23  Losses {'ner': 25956.044627837662}\n"
          ]
        },
        {
          "output_type": "stream",
          "name": "stderr",
          "text": [
            "\r 80%|████████  | 24/30 [18:40<04:46, 47.75s/it]"
          ]
        },
        {
          "output_type": "stream",
          "name": "stdout",
          "text": [
            "Scores:  {'FOOD': {'p': 99.71225221718703, 'r': 99.62638888888888, 'f': 99.66930206060943}}\n",
            "24  Losses {'ner': 25792.726832060187}\n"
          ]
        },
        {
          "output_type": "stream",
          "name": "stderr",
          "text": [
            "\r 83%|████████▎ | 25/30 [19:28<03:59, 47.96s/it]"
          ]
        },
        {
          "output_type": "stream",
          "name": "stdout",
          "text": [
            "Scores:  {'FOOD': {'p': 99.71976086260275, 'r': 99.63466666666667, 'f': 99.67719560345748}}\n",
            "25  Losses {'ner': 25812.834538070456}\n"
          ]
        },
        {
          "output_type": "stream",
          "name": "stderr",
          "text": [
            "\r 87%|████████▋ | 26/30 [20:18<03:13, 48.47s/it]"
          ]
        },
        {
          "output_type": "stream",
          "name": "stdout",
          "text": [
            "Scores:  {'FOOD': {'p': 99.72926156412395, 'r': 99.64615384615385, 'f': 99.68769038381376}}\n",
            "26  Losses {'ner': 25772.441950808054}\n"
          ]
        },
        {
          "output_type": "stream",
          "name": "stderr",
          "text": [
            "\r 90%|█████████ | 27/30 [21:09<02:27, 49.17s/it]"
          ]
        },
        {
          "output_type": "stream",
          "name": "stdout",
          "text": [
            "Scores:  {'FOOD': {'p': 99.73558375446356, 'r': 99.6530864197531, 'f': 99.69431802041585}}\n",
            "27  Losses {'ner': 25666.00444838591}\n"
          ]
        },
        {
          "output_type": "stream",
          "name": "stderr",
          "text": [
            "\r 93%|█████████▎| 28/30 [22:01<01:39, 49.95s/it]"
          ]
        },
        {
          "output_type": "stream",
          "name": "stdout",
          "text": [
            "Scores:  {'FOOD': {'p': 99.74384330358738, 'r': 99.66428571428571, 'f': 99.70404863844509}}\n",
            "28  Losses {'ner': 25601.437996828463}\n"
          ]
        },
        {
          "output_type": "stream",
          "name": "stderr",
          "text": [
            "\r 97%|█████████▋| 29/30 [22:53<00:50, 50.67s/it]"
          ]
        },
        {
          "output_type": "stream",
          "name": "stdout",
          "text": [
            "Scores:  {'FOOD': {'p': 99.75038247846042, 'r': 99.6735632183908, 'f': 99.71195805281344}}\n",
            "29  Losses {'ner': 25698.824056032114}\n"
          ]
        },
        {
          "output_type": "stream",
          "name": "stderr",
          "text": [
            "100%|██████████| 30/30 [23:45<00:00, 47.53s/it]"
          ]
        },
        {
          "output_type": "stream",
          "name": "stdout",
          "text": [
            "Scores:  {'FOOD': {'p': 99.75759462705155, 'r': 99.68222222222222, 'f': 99.71989418224663}}\n"
          ]
        },
        {
          "output_type": "stream",
          "name": "stderr",
          "text": [
            "\n"
          ]
        }
      ]
    },
    {
      "cell_type": "code",
      "metadata": {
        "id": "p-Ah7VylzRQ1"
      },
      "source": [
        "nlp.to_disk('/content/gdrive/My Drive/UPF/Trabalho IA/model_ner')\n",
        "#nlp = spacy.load('/content/gdrive/My Drive/UPF/Trabalho IA/model_ner')"
      ],
      "execution_count": 173,
      "outputs": []
    },
    {
      "cell_type": "code",
      "metadata": {
        "colab": {
          "base_uri": "https://localhost:8080/",
          "height": 818,
          "referenced_widgets": [
            "d670daa432ee44e6a42c997bcd68328f",
            "89744fbee90a4ba48b21d09d6e361ef5",
            "de2fcdf87eff436185710e8825546032"
          ]
        },
        "id": "9pnEHOtxFDv1",
        "outputId": "6fad693c-496a-4dc0-f26e-af64f1a4367b"
      },
      "source": [
        "f = FloatProgress(min=0, max=len(TEST_DATA))\n",
        "display(f)\n",
        "\n",
        "count = 0\n",
        "label_correct = 0\n",
        "total_prediction = 0\n",
        "\n",
        "print(\"Total:\", len(TEST_DATA))\n",
        "for text, annotations in (TEST_DATA):\n",
        "    doc = nlp(text)\n",
        "    f.value += 1\n",
        "\n",
        "    predicted = [(ent.text, ent.label_) for ent in doc.ents]\n",
        "    for p in predicted:\n",
        "      total_prediction +=1\n",
        "      if p[1] == 'FOOD' and p[0] in foods.iloc:\n",
        "        label_correct +=1\n",
        "\n",
        "    if count < 20:\n",
        "        displacy.render(nlp(text), jupyter=True, style='ent')\n",
        "    count += 1\n",
        "\n",
        "print(\"------------\\n\\nTotal de {} acertos de um total de {}\".format(label_correct, total_prediction ))"
      ],
      "execution_count": 174,
      "outputs": [
        {
          "output_type": "display_data",
          "data": {
            "application/vnd.jupyter.widget-view+json": {
              "model_id": "d670daa432ee44e6a42c997bcd68328f",
              "version_minor": 0,
              "version_major": 2
            },
            "text/plain": [
              "FloatProgress(value=0.0, max=1500.0)"
            ]
          },
          "metadata": {}
        },
        {
          "output_type": "stream",
          "name": "stdout",
          "text": [
            "Total: 1500\n"
          ]
        },
        {
          "output_type": "display_data",
          "data": {
            "text/html": [
              "<span class=\"tex2jax_ignore\"><div class=\"entities\" style=\"line-height: 2.5; direction: ltr\">I devoured a \n",
              "<mark class=\"entity\" style=\"background: #ddd; padding: 0.45em 0.6em; margin: 0 0.25em; line-height: 1; border-radius: 0.35em;\">\n",
              "    gummi treats\n",
              "    <span style=\"font-size: 0.8em; font-weight: bold; line-height: 1; border-radius: 0.35em; text-transform: uppercase; vertical-align: middle; margin-left: 0.5rem\">FOOD</span>\n",
              "</mark>\n",
              ", \n",
              "<mark class=\"entity\" style=\"background: #ddd; padding: 0.45em 0.6em; margin: 0 0.25em; line-height: 1; border-radius: 0.35em;\">\n",
              "    favorites valentine candy\n",
              "    <span style=\"font-size: 0.8em; font-weight: bold; line-height: 1; border-radius: 0.35em; text-transform: uppercase; vertical-align: middle; margin-left: 0.5rem\">FOOD</span>\n",
              "</mark>\n",
              " and \n",
              "<mark class=\"entity\" style=\"background: #ddd; padding: 0.45em 0.6em; margin: 0 0.25em; line-height: 1; border-radius: 0.35em;\">\n",
              "    coconut drink\n",
              "    <span style=\"font-size: 0.8em; font-weight: bold; line-height: 1; border-radius: 0.35em; text-transform: uppercase; vertical-align: middle; margin-left: 0.5rem\">FOOD</span>\n",
              "</mark>\n",
              "</div></span>"
            ],
            "text/plain": [
              "<IPython.core.display.HTML object>"
            ]
          },
          "metadata": {}
        },
        {
          "output_type": "display_data",
          "data": {
            "text/html": [
              "<span class=\"tex2jax_ignore\"><div class=\"entities\" style=\"line-height: 2.5; direction: ltr\">I ate a \n",
              "<mark class=\"entity\" style=\"background: #ddd; padding: 0.45em 0.6em; margin: 0 0.25em; line-height: 1; border-radius: 0.35em;\">\n",
              "    smooth yogurt\n",
              "    <span style=\"font-size: 0.8em; font-weight: bold; line-height: 1; border-radius: 0.35em; text-transform: uppercase; vertical-align: middle; margin-left: 0.5rem\">FOOD</span>\n",
              "</mark>\n",
              " with \n",
              "<mark class=\"entity\" style=\"background: #ddd; padding: 0.45em 0.6em; margin: 0 0.25em; line-height: 1; border-radius: 0.35em;\">\n",
              "    mahi mahi fletches\n",
              "    <span style=\"font-size: 0.8em; font-weight: bold; line-height: 1; border-radius: 0.35em; text-transform: uppercase; vertical-align: middle; margin-left: 0.5rem\">FOOD</span>\n",
              "</mark>\n",
              " and \n",
              "<mark class=\"entity\" style=\"background: #ddd; padding: 0.45em 0.6em; margin: 0 0.25em; line-height: 1; border-radius: 0.35em;\">\n",
              "    salted mixed nuts\n",
              "    <span style=\"font-size: 0.8em; font-weight: bold; line-height: 1; border-radius: 0.35em; text-transform: uppercase; vertical-align: middle; margin-left: 0.5rem\">FOOD</span>\n",
              "</mark>\n",
              " just now</div></span>"
            ],
            "text/plain": [
              "<IPython.core.display.HTML object>"
            ]
          },
          "metadata": {}
        },
        {
          "output_type": "display_data",
          "data": {
            "text/html": [
              "<span class=\"tex2jax_ignore\"><div class=\"entities\" style=\"line-height: 2.5; direction: ltr\">I've already eaten a \n",
              "<mark class=\"entity\" style=\"background: #ddd; padding: 0.45em 0.6em; margin: 0 0.25em; line-height: 1; border-radius: 0.35em;\">\n",
              "    pineapple coconut muffins\n",
              "    <span style=\"font-size: 0.8em; font-weight: bold; line-height: 1; border-radius: 0.35em; text-transform: uppercase; vertical-align: middle; margin-left: 0.5rem\">FOOD</span>\n",
              "</mark>\n",
              "</div></span>"
            ],
            "text/plain": [
              "<IPython.core.display.HTML object>"
            ]
          },
          "metadata": {}
        },
        {
          "output_type": "display_data",
          "data": {
            "text/html": [
              "<span class=\"tex2jax_ignore\"><div class=\"entities\" style=\"line-height: 2.5; direction: ltr\">I made a \n",
              "<mark class=\"entity\" style=\"background: #ddd; padding: 0.45em 0.6em; margin: 0 0.25em; line-height: 1; border-radius: 0.35em;\">\n",
              "    sweet energy trail\n",
              "    <span style=\"font-size: 0.8em; font-weight: bold; line-height: 1; border-radius: 0.35em; text-transform: uppercase; vertical-align: middle; margin-left: 0.5rem\">FOOD</span>\n",
              "</mark>\n",
              " and \n",
              "<mark class=\"entity\" style=\"background: #ddd; padding: 0.45em 0.6em; margin: 0 0.25em; line-height: 1; border-radius: 0.35em;\">\n",
              "    cantonese fried rice\n",
              "    <span style=\"font-size: 0.8em; font-weight: bold; line-height: 1; border-radius: 0.35em; text-transform: uppercase; vertical-align: middle; margin-left: 0.5rem\">FOOD</span>\n",
              "</mark>\n",
              " for lunch</div></span>"
            ],
            "text/plain": [
              "<IPython.core.display.HTML object>"
            ]
          },
          "metadata": {}
        },
        {
          "output_type": "display_data",
          "data": {
            "text/html": [
              "<span class=\"tex2jax_ignore\"><div class=\"entities\" style=\"line-height: 2.5; direction: ltr\">I tasted some \n",
              "<mark class=\"entity\" style=\"background: #ddd; padding: 0.45em 0.6em; margin: 0 0.25em; line-height: 1; border-radius: 0.35em;\">\n",
              "    corn candy\n",
              "    <span style=\"font-size: 0.8em; font-weight: bold; line-height: 1; border-radius: 0.35em; text-transform: uppercase; vertical-align: middle; margin-left: 0.5rem\">FOOD</span>\n",
              "</mark>\n",
              ", \n",
              "<mark class=\"entity\" style=\"background: #ddd; padding: 0.45em 0.6em; margin: 0 0.25em; line-height: 1; border-radius: 0.35em;\">\n",
              "    riced vegetables\n",
              "    <span style=\"font-size: 0.8em; font-weight: bold; line-height: 1; border-radius: 0.35em; text-transform: uppercase; vertical-align: middle; margin-left: 0.5rem\">FOOD</span>\n",
              "</mark>\n",
              " and \n",
              "<mark class=\"entity\" style=\"background: #ddd; padding: 0.45em 0.6em; margin: 0 0.25em; line-height: 1; border-radius: 0.35em;\">\n",
              "    strawberry banana jam\n",
              "    <span style=\"font-size: 0.8em; font-weight: bold; line-height: 1; border-radius: 0.35em; text-transform: uppercase; vertical-align: middle; margin-left: 0.5rem\">FOOD</span>\n",
              "</mark>\n",
              " at the office</div></span>"
            ],
            "text/plain": [
              "<IPython.core.display.HTML object>"
            ]
          },
          "metadata": {}
        },
        {
          "output_type": "display_data",
          "data": {
            "text/html": [
              "<span class=\"tex2jax_ignore\"><div class=\"entities\" style=\"line-height: 2.5; direction: ltr\">I had a \n",
              "<mark class=\"entity\" style=\"background: #ddd; padding: 0.45em 0.6em; margin: 0 0.25em; line-height: 1; border-radius: 0.35em;\">\n",
              "    bloks energy chews\n",
              "    <span style=\"font-size: 0.8em; font-weight: bold; line-height: 1; border-radius: 0.35em; text-transform: uppercase; vertical-align: middle; margin-left: 0.5rem\">FOOD</span>\n",
              "</mark>\n",
              " and a \n",
              "<mark class=\"entity\" style=\"background: #ddd; padding: 0.45em 0.6em; margin: 0 0.25em; line-height: 1; border-radius: 0.35em;\">\n",
              "    prophase kelp slices\n",
              "    <span style=\"font-size: 0.8em; font-weight: bold; line-height: 1; border-radius: 0.35em; text-transform: uppercase; vertical-align: middle; margin-left: 0.5rem\">FOOD</span>\n",
              "</mark>\n",
              " today</div></span>"
            ],
            "text/plain": [
              "<IPython.core.display.HTML object>"
            ]
          },
          "metadata": {}
        },
        {
          "output_type": "display_data",
          "data": {
            "text/html": [
              "<span class=\"tex2jax_ignore\"><div class=\"entities\" style=\"line-height: 2.5; direction: ltr\">I made a bowl of \n",
              "<mark class=\"entity\" style=\"background: #ddd; padding: 0.45em 0.6em; margin: 0 0.25em; line-height: 1; border-radius: 0.35em;\">\n",
              "    premium succotash\n",
              "    <span style=\"font-size: 0.8em; font-weight: bold; line-height: 1; border-radius: 0.35em; text-transform: uppercase; vertical-align: middle; margin-left: 0.5rem\">FOOD</span>\n",
              "</mark>\n",
              " for my breakfast</div></span>"
            ],
            "text/plain": [
              "<IPython.core.display.HTML object>"
            ]
          },
          "metadata": {}
        },
        {
          "output_type": "display_data",
          "data": {
            "text/html": [
              "<span class=\"tex2jax_ignore\"><div class=\"entities\" style=\"line-height: 2.5; direction: ltr\">I had a bowl of \n",
              "<mark class=\"entity\" style=\"background: #ddd; padding: 0.45em 0.6em; margin: 0 0.25em; line-height: 1; border-radius: 0.35em;\">\n",
              "    quick rolled oats\n",
              "    <span style=\"font-size: 0.8em; font-weight: bold; line-height: 1; border-radius: 0.35em; text-transform: uppercase; vertical-align: middle; margin-left: 0.5rem\">FOOD</span>\n",
              "</mark>\n",
              "</div></span>"
            ],
            "text/plain": [
              "<IPython.core.display.HTML object>"
            ]
          },
          "metadata": {}
        },
        {
          "output_type": "display_data",
          "data": {
            "text/html": [
              "<span class=\"tex2jax_ignore\"><div class=\"entities\" style=\"line-height: 2.5; direction: ltr\">today I ate a \n",
              "<mark class=\"entity\" style=\"background: #ddd; padding: 0.45em 0.6em; margin: 0 0.25em; line-height: 1; border-radius: 0.35em;\">\n",
              "    corn dogs\n",
              "    <span style=\"font-size: 0.8em; font-weight: bold; line-height: 1; border-radius: 0.35em; text-transform: uppercase; vertical-align: middle; margin-left: 0.5rem\">FOOD</span>\n",
              "</mark>\n",
              " and a \n",
              "<mark class=\"entity\" style=\"background: #ddd; padding: 0.45em 0.6em; margin: 0 0.25em; line-height: 1; border-radius: 0.35em;\">\n",
              "    king salmon\n",
              "    <span style=\"font-size: 0.8em; font-weight: bold; line-height: 1; border-radius: 0.35em; text-transform: uppercase; vertical-align: middle; margin-left: 0.5rem\">FOOD</span>\n",
              "</mark>\n",
              " for lunch</div></span>"
            ],
            "text/plain": [
              "<IPython.core.display.HTML object>"
            ]
          },
          "metadata": {}
        },
        {
          "output_type": "display_data",
          "data": {
            "text/html": [
              "<span class=\"tex2jax_ignore\"><div class=\"entities\" style=\"line-height: 2.5; direction: ltr\">I just ate a \n",
              "<mark class=\"entity\" style=\"background: #ddd; padding: 0.45em 0.6em; margin: 0 0.25em; line-height: 1; border-radius: 0.35em;\">\n",
              "    banana nonpareils\n",
              "    <span style=\"font-size: 0.8em; font-weight: bold; line-height: 1; border-radius: 0.35em; text-transform: uppercase; vertical-align: middle; margin-left: 0.5rem\">FOOD</span>\n",
              "</mark>\n",
              "</div></span>"
            ],
            "text/plain": [
              "<IPython.core.display.HTML object>"
            ]
          },
          "metadata": {}
        },
        {
          "output_type": "display_data",
          "data": {
            "text/html": [
              "<span class=\"tex2jax_ignore\"><div class=\"entities\" style=\"line-height: 2.5; direction: ltr\">I decided to enjoy some \n",
              "<mark class=\"entity\" style=\"background: #ddd; padding: 0.45em 0.6em; margin: 0 0.25em; line-height: 1; border-radius: 0.35em;\">\n",
              "    coconut sorbet\n",
              "    <span style=\"font-size: 0.8em; font-weight: bold; line-height: 1; border-radius: 0.35em; text-transform: uppercase; vertical-align: middle; margin-left: 0.5rem\">FOOD</span>\n",
              "</mark>\n",
              "</div></span>"
            ],
            "text/plain": [
              "<IPython.core.display.HTML object>"
            ]
          },
          "metadata": {}
        },
        {
          "output_type": "display_data",
          "data": {
            "text/html": [
              "<span class=\"tex2jax_ignore\"><div class=\"entities\" style=\"line-height: 2.5; direction: ltr\">I devoured a \n",
              "<mark class=\"entity\" style=\"background: #ddd; padding: 0.45em 0.6em; margin: 0 0.25em; line-height: 1; border-radius: 0.35em;\">\n",
              "    greens drink mix\n",
              "    <span style=\"font-size: 0.8em; font-weight: bold; line-height: 1; border-radius: 0.35em; text-transform: uppercase; vertical-align: middle; margin-left: 0.5rem\">FOOD</span>\n",
              "</mark>\n",
              ", \n",
              "<mark class=\"entity\" style=\"background: #ddd; padding: 0.45em 0.6em; margin: 0 0.25em; line-height: 1; border-radius: 0.35em;\">\n",
              "    home style tortillas\n",
              "    <span style=\"font-size: 0.8em; font-weight: bold; line-height: 1; border-radius: 0.35em; text-transform: uppercase; vertical-align: middle; margin-left: 0.5rem\">FOOD</span>\n",
              "</mark>\n",
              " and \n",
              "<mark class=\"entity\" style=\"background: #ddd; padding: 0.45em 0.6em; margin: 0 0.25em; line-height: 1; border-radius: 0.35em;\">\n",
              "    beer cheese dip\n",
              "    <span style=\"font-size: 0.8em; font-weight: bold; line-height: 1; border-radius: 0.35em; text-transform: uppercase; vertical-align: middle; margin-left: 0.5rem\">FOOD</span>\n",
              "</mark>\n",
              "</div></span>"
            ],
            "text/plain": [
              "<IPython.core.display.HTML object>"
            ]
          },
          "metadata": {}
        },
        {
          "output_type": "display_data",
          "data": {
            "text/html": [
              "<span class=\"tex2jax_ignore\"><div class=\"entities\" style=\"line-height: 2.5; direction: ltr\">last night, a \n",
              "<mark class=\"entity\" style=\"background: #ddd; padding: 0.45em 0.6em; margin: 0 0.25em; line-height: 1; border-radius: 0.35em;\">\n",
              "    spicy ranch dressing\n",
              "    <span style=\"font-size: 0.8em; font-weight: bold; line-height: 1; border-radius: 0.35em; text-transform: uppercase; vertical-align: middle; margin-left: 0.5rem\">FOOD</span>\n",
              "</mark>\n",
              " was sent to me with \n",
              "<mark class=\"entity\" style=\"background: #ddd; padding: 0.45em 0.6em; margin: 0 0.25em; line-height: 1; border-radius: 0.35em;\">\n",
              "    creamery dairy dessert\n",
              "    <span style=\"font-size: 0.8em; font-weight: bold; line-height: 1; border-radius: 0.35em; text-transform: uppercase; vertical-align: middle; margin-left: 0.5rem\">FOOD</span>\n",
              "</mark>\n",
              "</div></span>"
            ],
            "text/plain": [
              "<IPython.core.display.HTML object>"
            ]
          },
          "metadata": {}
        },
        {
          "output_type": "display_data",
          "data": {
            "text/html": [
              "<span class=\"tex2jax_ignore\"><div class=\"entities\" style=\"line-height: 2.5; direction: ltr\">I had a bowl of \n",
              "<mark class=\"entity\" style=\"background: #ddd; padding: 0.45em 0.6em; margin: 0 0.25em; line-height: 1; border-radius: 0.35em;\">\n",
              "    roasted salsa\n",
              "    <span style=\"font-size: 0.8em; font-weight: bold; line-height: 1; border-radius: 0.35em; text-transform: uppercase; vertical-align: middle; margin-left: 0.5rem\">FOOD</span>\n",
              "</mark>\n",
              " with \n",
              "<mark class=\"entity\" style=\"background: #ddd; padding: 0.45em 0.6em; margin: 0 0.25em; line-height: 1; border-radius: 0.35em;\">\n",
              "    european style butter\n",
              "    <span style=\"font-size: 0.8em; font-weight: bold; line-height: 1; border-radius: 0.35em; text-transform: uppercase; vertical-align: middle; margin-left: 0.5rem\">FOOD</span>\n",
              "</mark>\n",
              " and I wanted to go to the mall today</div></span>"
            ],
            "text/plain": [
              "<IPython.core.display.HTML object>"
            ]
          },
          "metadata": {}
        },
        {
          "output_type": "display_data",
          "data": {
            "text/html": [
              "<span class=\"tex2jax_ignore\"><div class=\"entities\" style=\"line-height: 2.5; direction: ltr\">I made a \n",
              "<mark class=\"entity\" style=\"background: #ddd; padding: 0.45em 0.6em; margin: 0 0.25em; line-height: 1; border-radius: 0.35em;\">\n",
              "    blue cheese\n",
              "    <span style=\"font-size: 0.8em; font-weight: bold; line-height: 1; border-radius: 0.35em; text-transform: uppercase; vertical-align: middle; margin-left: 0.5rem\">FOOD</span>\n",
              "</mark>\n",
              " and \n",
              "<mark class=\"entity\" style=\"background: #ddd; padding: 0.45em 0.6em; margin: 0 0.25em; line-height: 1; border-radius: 0.35em;\">\n",
              "    steamable chopped spinach\n",
              "    <span style=\"font-size: 0.8em; font-weight: bold; line-height: 1; border-radius: 0.35em; text-transform: uppercase; vertical-align: middle; margin-left: 0.5rem\">FOOD</span>\n",
              "</mark>\n",
              " for lunch</div></span>"
            ],
            "text/plain": [
              "<IPython.core.display.HTML object>"
            ]
          },
          "metadata": {}
        },
        {
          "output_type": "display_data",
          "data": {
            "text/html": [
              "<span class=\"tex2jax_ignore\"><div class=\"entities\" style=\"line-height: 2.5; direction: ltr\">I've already had a bag of \n",
              "<mark class=\"entity\" style=\"background: #ddd; padding: 0.45em 0.6em; margin: 0 0.25em; line-height: 1; border-radius: 0.35em;\">\n",
              "    montmorency cherry concentrate\n",
              "    <span style=\"font-size: 0.8em; font-weight: bold; line-height: 1; border-radius: 0.35em; text-transform: uppercase; vertical-align: middle; margin-left: 0.5rem\">FOOD</span>\n",
              "</mark>\n",
              ", \n",
              "<mark class=\"entity\" style=\"background: #ddd; padding: 0.45em 0.6em; margin: 0 0.25em; line-height: 1; border-radius: 0.35em;\">\n",
              "    premium granola bars\n",
              "    <span style=\"font-size: 0.8em; font-weight: bold; line-height: 1; border-radius: 0.35em; text-transform: uppercase; vertical-align: middle; margin-left: 0.5rem\">FOOD</span>\n",
              "</mark>\n",
              " and \n",
              "<mark class=\"entity\" style=\"background: #ddd; padding: 0.45em 0.6em; margin: 0 0.25em; line-height: 1; border-radius: 0.35em;\">\n",
              "    whole peeled\n",
              "    <span style=\"font-size: 0.8em; font-weight: bold; line-height: 1; border-radius: 0.35em; text-transform: uppercase; vertical-align: middle; margin-left: 0.5rem\">FOOD</span>\n",
              "</mark>\n",
              " from the fridge</div></span>"
            ],
            "text/plain": [
              "<IPython.core.display.HTML object>"
            ]
          },
          "metadata": {}
        },
        {
          "output_type": "display_data",
          "data": {
            "text/html": [
              "<span class=\"tex2jax_ignore\"><div class=\"entities\" style=\"line-height: 2.5; direction: ltr\">today I ate a \n",
              "<mark class=\"entity\" style=\"background: #ddd; padding: 0.45em 0.6em; margin: 0 0.25em; line-height: 1; border-radius: 0.35em;\">\n",
              "    sesame flatbread\n",
              "    <span style=\"font-size: 0.8em; font-weight: bold; line-height: 1; border-radius: 0.35em; text-transform: uppercase; vertical-align: middle; margin-left: 0.5rem\">FOOD</span>\n",
              "</mark>\n",
              " and a \n",
              "<mark class=\"entity\" style=\"background: #ddd; padding: 0.45em 0.6em; margin: 0 0.25em; line-height: 1; border-radius: 0.35em;\">\n",
              "    organic zbar filled\n",
              "    <span style=\"font-size: 0.8em; font-weight: bold; line-height: 1; border-radius: 0.35em; text-transform: uppercase; vertical-align: middle; margin-left: 0.5rem\">FOOD</span>\n",
              "</mark>\n",
              " for lunch</div></span>"
            ],
            "text/plain": [
              "<IPython.core.display.HTML object>"
            ]
          },
          "metadata": {}
        },
        {
          "output_type": "display_data",
          "data": {
            "text/html": [
              "<span class=\"tex2jax_ignore\"><div class=\"entities\" style=\"line-height: 2.5; direction: ltr\">I brought you some \n",
              "<mark class=\"entity\" style=\"background: #ddd; padding: 0.45em 0.6em; margin: 0 0.25em; line-height: 1; border-radius: 0.35em;\">\n",
              "    hydrate coconut water\n",
              "    <span style=\"font-size: 0.8em; font-weight: bold; line-height: 1; border-radius: 0.35em; text-transform: uppercase; vertical-align: middle; margin-left: 0.5rem\">FOOD</span>\n",
              "</mark>\n",
              " on my birthday</div></span>"
            ],
            "text/plain": [
              "<IPython.core.display.HTML object>"
            ]
          },
          "metadata": {}
        },
        {
          "output_type": "display_data",
          "data": {
            "text/html": [
              "<span class=\"tex2jax_ignore\"><div class=\"entities\" style=\"line-height: 2.5; direction: ltr\">I had a bowl of \n",
              "<mark class=\"entity\" style=\"background: #ddd; padding: 0.45em 0.6em; margin: 0 0.25em; line-height: 1; border-radius: 0.35em;\">\n",
              "    chicken pasty\n",
              "    <span style=\"font-size: 0.8em; font-weight: bold; line-height: 1; border-radius: 0.35em; text-transform: uppercase; vertical-align: middle; margin-left: 0.5rem\">FOOD</span>\n",
              "</mark>\n",
              " with \n",
              "<mark class=\"entity\" style=\"background: #ddd; padding: 0.45em 0.6em; margin: 0 0.25em; line-height: 1; border-radius: 0.35em;\">\n",
              "    seasoned yellow rice\n",
              "    <span style=\"font-size: 0.8em; font-weight: bold; line-height: 1; border-radius: 0.35em; text-transform: uppercase; vertical-align: middle; margin-left: 0.5rem\">FOOD</span>\n",
              "</mark>\n",
              " and I wanted to go to the mall today</div></span>"
            ],
            "text/plain": [
              "<IPython.core.display.HTML object>"
            ]
          },
          "metadata": {}
        },
        {
          "output_type": "display_data",
          "data": {
            "text/html": [
              "<span class=\"tex2jax_ignore\"><div class=\"entities\" style=\"line-height: 2.5; direction: ltr\">I'm eating a \n",
              "<mark class=\"entity\" style=\"background: #ddd; padding: 0.45em 0.6em; margin: 0 0.25em; line-height: 1; border-radius: 0.35em;\">\n",
              "    seasoned meats\n",
              "    <span style=\"font-size: 0.8em; font-weight: bold; line-height: 1; border-radius: 0.35em; text-transform: uppercase; vertical-align: middle; margin-left: 0.5rem\">FOOD</span>\n",
              "</mark>\n",
              "</div></span>"
            ],
            "text/plain": [
              "<IPython.core.display.HTML object>"
            ]
          },
          "metadata": {}
        },
        {
          "output_type": "stream",
          "name": "stdout",
          "text": [
            "------------\n",
            "\n",
            "Total de 2995 acertos de um total de 2997\n"
          ]
        }
      ]
    },
    {
      "cell_type": "code",
      "metadata": {
        "colab": {
          "base_uri": "https://localhost:8080/",
          "height": 192
        },
        "id": "d21lnGoLIroP",
        "outputId": "bb51ebc9-8756-4d99-9e70-196c61041292"
      },
      "source": [
        "#Eu comi um hambúrguer com batatas fritas no almoço hoje\n",
        "displacy.render(nlp(\"I had a hamburger and chips for lunch today.\"), style=\"ent\", jupyter=True)\n",
        "#Decidi tomar um sorvete de chocolate como uma recompensa para mim\n",
        "displacy.render(nlp(\"I decided to have chocolate ice cream as a little treat for myself.\"), style=\"ent\", jupyter=True)\n",
        "#eu gosto de sorvete com cobertura de chocolate\n",
        "displacy.render(nlp(\"eu gosto de sorvete com cobertura de chocolate\"), style=\"ent\", jupyter=True)\n",
        "#ontem fui na UPF e comi uma pizza. No intervalo da aula, comprei um pastel\n",
        "displacy.render(nlp('yesterday I went to the UPF and had a pizza. In between class, I bought a pastel'), style=\"ent\", jupyter=True)\n",
        "#Fui no supermercado e comprei massa para fazer macarrão\n",
        "displacy.render(nlp(\"I went to the supermarket and bought pasta to make pasta\"), style=\"ent\", jupyter=True)"
      ],
      "execution_count": 175,
      "outputs": [
        {
          "output_type": "display_data",
          "data": {
            "text/html": [
              "<span class=\"tex2jax_ignore\"><div class=\"entities\" style=\"line-height: 2.5; direction: ltr\">I had a \n",
              "<mark class=\"entity\" style=\"background: #ddd; padding: 0.45em 0.6em; margin: 0 0.25em; line-height: 1; border-radius: 0.35em;\">\n",
              "    hamburger and chips\n",
              "    <span style=\"font-size: 0.8em; font-weight: bold; line-height: 1; border-radius: 0.35em; text-transform: uppercase; vertical-align: middle; margin-left: 0.5rem\">FOOD</span>\n",
              "</mark>\n",
              " for lunch today.</div></span>"
            ],
            "text/plain": [
              "<IPython.core.display.HTML object>"
            ]
          },
          "metadata": {}
        },
        {
          "output_type": "display_data",
          "data": {
            "text/html": [
              "<span class=\"tex2jax_ignore\"><div class=\"entities\" style=\"line-height: 2.5; direction: ltr\">I decided to have \n",
              "<mark class=\"entity\" style=\"background: #ddd; padding: 0.45em 0.6em; margin: 0 0.25em; line-height: 1; border-radius: 0.35em;\">\n",
              "    chocolate ice cream\n",
              "    <span style=\"font-size: 0.8em; font-weight: bold; line-height: 1; border-radius: 0.35em; text-transform: uppercase; vertical-align: middle; margin-left: 0.5rem\">FOOD</span>\n",
              "</mark>\n",
              " as a \n",
              "<mark class=\"entity\" style=\"background: #ddd; padding: 0.45em 0.6em; margin: 0 0.25em; line-height: 1; border-radius: 0.35em;\">\n",
              "    little treat\n",
              "    <span style=\"font-size: 0.8em; font-weight: bold; line-height: 1; border-radius: 0.35em; text-transform: uppercase; vertical-align: middle; margin-left: 0.5rem\">FOOD</span>\n",
              "</mark>\n",
              " for myself.</div></span>"
            ],
            "text/plain": [
              "<IPython.core.display.HTML object>"
            ]
          },
          "metadata": {}
        },
        {
          "output_type": "display_data",
          "data": {
            "text/html": [
              "<span class=\"tex2jax_ignore\"><div class=\"entities\" style=\"line-height: 2.5; direction: ltr\">eu gosto de sorvete \n",
              "<mark class=\"entity\" style=\"background: #ddd; padding: 0.45em 0.6em; margin: 0 0.25em; line-height: 1; border-radius: 0.35em;\">\n",
              "    com cobertura de chocolate\n",
              "    <span style=\"font-size: 0.8em; font-weight: bold; line-height: 1; border-radius: 0.35em; text-transform: uppercase; vertical-align: middle; margin-left: 0.5rem\">FOOD</span>\n",
              "</mark>\n",
              "</div></span>"
            ],
            "text/plain": [
              "<IPython.core.display.HTML object>"
            ]
          },
          "metadata": {}
        },
        {
          "output_type": "display_data",
          "data": {
            "text/html": [
              "<span class=\"tex2jax_ignore\"><div class=\"entities\" style=\"line-height: 2.5; direction: ltr\">yesterday I went to \n",
              "<mark class=\"entity\" style=\"background: #ddd; padding: 0.45em 0.6em; margin: 0 0.25em; line-height: 1; border-radius: 0.35em;\">\n",
              "    the UPF\n",
              "    <span style=\"font-size: 0.8em; font-weight: bold; line-height: 1; border-radius: 0.35em; text-transform: uppercase; vertical-align: middle; margin-left: 0.5rem\">FOOD</span>\n",
              "</mark>\n",
              " and had a \n",
              "<mark class=\"entity\" style=\"background: #ddd; padding: 0.45em 0.6em; margin: 0 0.25em; line-height: 1; border-radius: 0.35em;\">\n",
              "    pizza\n",
              "    <span style=\"font-size: 0.8em; font-weight: bold; line-height: 1; border-radius: 0.35em; text-transform: uppercase; vertical-align: middle; margin-left: 0.5rem\">FOOD</span>\n",
              "</mark>\n",
              ". In between class, I bought a \n",
              "<mark class=\"entity\" style=\"background: #ddd; padding: 0.45em 0.6em; margin: 0 0.25em; line-height: 1; border-radius: 0.35em;\">\n",
              "    pastel\n",
              "    <span style=\"font-size: 0.8em; font-weight: bold; line-height: 1; border-radius: 0.35em; text-transform: uppercase; vertical-align: middle; margin-left: 0.5rem\">FOOD</span>\n",
              "</mark>\n",
              "</div></span>"
            ],
            "text/plain": [
              "<IPython.core.display.HTML object>"
            ]
          },
          "metadata": {}
        },
        {
          "output_type": "display_data",
          "data": {
            "text/html": [
              "<span class=\"tex2jax_ignore\"><div class=\"entities\" style=\"line-height: 2.5; direction: ltr\">I went to the supermarket and bought pasta to \n",
              "<mark class=\"entity\" style=\"background: #ddd; padding: 0.45em 0.6em; margin: 0 0.25em; line-height: 1; border-radius: 0.35em;\">\n",
              "    make pasta\n",
              "    <span style=\"font-size: 0.8em; font-weight: bold; line-height: 1; border-radius: 0.35em; text-transform: uppercase; vertical-align: middle; margin-left: 0.5rem\">FOOD</span>\n",
              "</mark>\n",
              "</div></span>"
            ],
            "text/plain": [
              "<IPython.core.display.HTML object>"
            ]
          },
          "metadata": {}
        }
      ]
    },
    {
      "cell_type": "markdown",
      "metadata": {
        "id": "GMpNgFXh-i__"
      },
      "source": [
        "## Modelo 2"
      ]
    },
    {
      "cell_type": "code",
      "metadata": {
        "tags": [],
        "cell_id": "00025-84f715ff-7cd2-41ed-a0fa-ee2650b5be10",
        "output_cleared": false,
        "source_hash": "4c96f29f",
        "execution_millis": 4913,
        "execution_start": 1605883260187,
        "deepnote_cell_type": "code",
        "id": "Q0o7LyTMe5HQ"
      },
      "source": [
        "model_spacy = 'en_core_web_lg'\n",
        "nlp = spacy.load(model_spacy)"
      ],
      "execution_count": 11,
      "outputs": []
    },
    {
      "cell_type": "code",
      "metadata": {
        "id": "i5SsryAg4dKv"
      },
      "source": [
        "if \"ner\" not in nlp.pipe_names:\n",
        "    ner = nlp.create_pipe(\"ner\")\n",
        "    nlp.add_pipe(ner, last=True)\n",
        "else:\n",
        "  ner = nlp.get_pipe(\"ner\")"
      ],
      "execution_count": 12,
      "outputs": []
    },
    {
      "cell_type": "code",
      "metadata": {
        "id": "3CnKyTpFdBvJ",
        "colab": {
          "base_uri": "https://localhost:8080/"
        },
        "outputId": "c577b4f7-1ca2-47d4-9ad9-1cbe3dbd3a43"
      },
      "source": [
        "print(articles[\"Article\"].shape)"
      ],
      "execution_count": 13,
      "outputs": [
        {
          "output_type": "stream",
          "name": "stdout",
          "text": [
            "(11992,)\n"
          ]
        }
      ]
    },
    {
      "cell_type": "code",
      "metadata": {
        "tags": [],
        "cell_id": "00026-811aec36-7a66-4085-a71e-f9b371579a67",
        "output_cleared": false,
        "source_hash": "cd5160c1",
        "execution_millis": 208230,
        "execution_start": 1605883274911,
        "deepnote_cell_type": "code",
        "id": "juRr_2nMe5HQ"
      },
      "source": [
        "revision_texts = []\n",
        "\n",
        "for doc in nlp.pipe(articles[\"Article\"][:4000], disable=[\"tagger\", \"ner\"]):\n",
        "    for sentence in doc.sents:\n",
        "        revision_texts.append(\" \".join(re.split(\"\\s+\", sentence.text)))"
      ],
      "execution_count": 14,
      "outputs": []
    },
    {
      "cell_type": "code",
      "metadata": {
        "id": "IpzvPDN-fjls",
        "colab": {
          "base_uri": "https://localhost:8080/",
          "height": 157
        },
        "outputId": "4d1e57de-8c3a-4640-d7b2-b04375e2e3c4"
      },
      "source": [
        "print(revision_texts[1])\n",
        "articles[\"Article\"].iloc[0]"
      ],
      "execution_count": 15,
      "outputs": [
        {
          "output_type": "stream",
          "name": "stdout",
          "text": [
            "And in that sense, this year shows little sign of ending on Dec. 31.\n"
          ]
        },
        {
          "output_type": "execute_result",
          "data": {
            "application/vnd.google.colaboratory.intrinsic+json": {
              "type": "string"
            },
            "text/plain": [
              "'In the Washington of 2016, even when the policy can be bipartisan, the politics cannot. And in that sense, this year shows little sign of ending on Dec. 31. When President Obama moved to sanction Russia over its alleged interference in the U. S. election just concluded, some Republicans who had long called for similar or more severe measures could scarcely bring themselves to approve. House Speaker Paul Ryan called the Obama measures ”appropriate” but also ”overdue” and ”a prime example of this administration’s ineffective foreign policy that has left America weaker in the eyes of the world.” Other GOP leaders sounded much the same theme. ”[We have] been urging President Obama for years to take strong action to deter Russia’s worldwide aggression, including its   operations,” wrote Rep. Devin Nunes,  . chairman of the House Intelligence Committee. ”Now with just a few weeks left in office, the president has suddenly decided that some stronger measures are indeed warranted.” Appearing on CNN, frequent Obama critic Trent Franks,  . called for ”much tougher” actions and said three times that Obama had ”finally found his tongue.” Meanwhile, at    and on Fox News, various spokesmen for   Trump said Obama’s real target was not the Russians at all but the man poised to take over the White House in less than three weeks. They spoke of Obama trying to ”tie Trump’s hands” or ”box him in,” meaning the   would be forced either to keep the sanctions or be at odds with Republicans who want to be tougher still on Moscow. Throughout 2016, Trump has repeatedly called not for sanctions but for closer ties with Russia, including cooperation in the fight against ISIS. Russia has battled ISIS in Syria on behalf of that country’s embattled dictator, Bashar Assad, bombing the besieged   city of Aleppo that fell to Assad’s forces this week. During the campaign, Trump even urged Russia to ”find” missing emails from the private server of his opponent, Hillary Clinton. He has exchanged public encomiums with Russian President Vladimir Putin on several occasions and added his doubts about the current U. S. levels of support for NATO  —   Putin’s longtime nemesis. There have also been suggestions that Trump’s extensive business dealings with various Russians are the reason he refuses to release his tax returns. All those issues have been disquieting to some Republicans for many months. Sens. John McCain,  . and Lindsay Graham,  . C. prominent senior members of the Armed Services Committee, have accepted the assessment of 17 U. S. intelligence agencies regarding the role of Russia in the hacking of various Democratic committees last year. That includes the FBI and CIA consensus that the Russian goal was not just to discredit American democracy but to defeat Clinton and elect Trump. They say the great majority of their Senate colleagues agree with them, and McCain has slated an Armed Services hearing on cyberthreats for Jan. 5. But the politicizing of the Russian actions  —   the idea that they helped Trump win  —   has also made the issue difficult for Republican leaders. It has allowed Trump supporters to push back on the intelligence agencies and say the entire issue is designed to undermine Trump’s legitimacy. Senate Majority Leader Mitch McConnell has so far resisted calls for a select committee to look into the Russian interference in the 2016 campaign. He has said it is enough for Sen. Richard Burr,  . C. to look into it as chairman of the Senate Intelligence Committee. Typically, Republican leaders and spokesmen say there is no evidence that the actual voting or tallying on Nov. 8 was compromised, and that is true. But it is also a red herring, as interference in those functions has not been alleged and is not the focus of the U. S. intelligence agencies’ concern. For his part, Trump has shown little interest in delving into what happened. He has cast doubt on the U. S. intelligence reports to date and suggested ”no one really knows what happened.” He also has suggested that computers make it very difficult to know who is using them. This week, Trump said it was time to ”get on with our lives and do more important things.” However, at week’s end he did agree to have an intelligence briefing on the subject next week. The   has not wanted the daily intelligence briefings available to him in recent weeks, preferring that they be given to the men he has chosen as his vice president (Mike Pence) and national security adviser (Mike Flynn) with Trump taking them only occasionally. The irony of this controversy arising at the eleventh hour of the Obama presidency can scarcely be overstated, and it defines the dilemma facing both the outgoing president and the incoming party in control. Obama appears to have been reluctant to retaliate against the Russian hacking before the election for fear of seeming to interfere with the election himself. The Republicans, meanwhile, have for years called for greater confrontation with the Russians, with Obama usually resisting. Obama did join with NATO in punishing the Russians with economic sanctions over the annexation of Crimea. Those sanctions may have been painful, coming as they did alongside falling prices for oil  —   the commodity that keeps the Russian economy afloat. On other occasions, despite Russian provocations through surrogates in Syria and elsewhere, Obama did not make overt moves to force Russia’s hand. That includes occasions when Russia was believed to be hacking critical computer systems in neighboring Ukraine, Estonia and Poland. But this week, following a chorus of confirmation from the U. S. intelligence community regarding the Russian role in computer hacking in the political campaign, Obama acted. He imposed a set of mostly diplomatic actions such as sanctioning some Russian officials, closing two diplomatic compounds and expelling 35 Russian diplomats. There may have been more damaging measures taken covertly, and some Russophobes in Washington held out hope for that. But the visible portion of the program scarcely amounted to major retribution. And Putin saw fit to diminish the Obama sanctions further by declining to respond. Although his government has steadfastly denied any interference in the U. S. election, Putin rejected his own foreign minister’s recommended package of    responses. (He even sent an invitation for U. S. diplomats to send their children to a holiday party in Moscow.) That allowed Putin to appear for the moment to be ”the bigger man,” even as he spurned Obama and kept up what has looked like a public bromance with Trump, who tweeted: ”Great move on delay (by V. Putin)   I always knew he was very smart!” At the moment it may seem that the overall Russia question amounts to the first crisis facing the Trump presidency. Whether forced by this campaign interference issue or not, Trump must grasp the nettle of a relationship Mitt Romney once called the greatest threat to U. S. security in the world. To be sure, Trump needs to dispel doubts about his ability to stand up to Putin, who has bullied and cajoled his way to center stage in recent world affairs. But Trump also seems determined to turn the page on past U. S. commitments, from free trade philosophy to funding of NATO and the United Nations. And if his Twitter account is any guide, Trump shows little concern about the conundrum others perceive to be facing him. Above all, Trump has shown himself determined to play by his own rules. A year ago, many were confident that would not work for him in the world of presidential politics. We are about to find out whether it works for him in the Oval Office.'"
            ]
          },
          "metadata": {},
          "execution_count": 15
        }
      ]
    },
    {
      "cell_type": "code",
      "metadata": {
        "tags": [],
        "cell_id": "00026-cefaabe7-dab7-44d6-8b3e-a2b0de961c4a",
        "output_cleared": false,
        "source_hash": "593d0e64",
        "execution_millis": 45376,
        "execution_start": 1605883739313,
        "deepnote_cell_type": "code",
        "id": "WrNkmSrJe5HR"
      },
      "source": [
        "list_texts_and_entities = []\n",
        "\n",
        "for doc in nlp.pipe(revision_texts, batch_size=50, disable=[\"tagger\", \"parser\"]):\n",
        "    if len(doc.ents) > 0:\n",
        "        list_texts_and_entities.append((doc.text, {\"entities\": [(e.start_char, e.end_char, e.label_) for e in doc.ents]}))"
      ],
      "execution_count": 16,
      "outputs": []
    },
    {
      "cell_type": "code",
      "metadata": {
        "colab": {
          "base_uri": "https://localhost:8080/"
        },
        "id": "bERPT4p7l1CZ",
        "outputId": "6d00ef8d-5bcf-48de-8fb1-022fa38b2220"
      },
      "source": [
        "print(len(list_texts_and_entities))\n",
        "list_texts_and_entities[0]"
      ],
      "execution_count": 17,
      "outputs": [
        {
          "output_type": "stream",
          "name": "stdout",
          "text": [
            "112460\n"
          ]
        },
        {
          "output_type": "execute_result",
          "data": {
            "text/plain": [
              "('In the Washington of 2016, even when the policy can be bipartisan, the politics cannot.',\n",
              " {'entities': [(7, 17, 'GPE'), (21, 25, 'DATE')]})"
            ]
          },
          "metadata": {},
          "execution_count": 17
        }
      ]
    },
    {
      "cell_type": "code",
      "metadata": {
        "id": "f4urtuzxnPG5"
      },
      "source": [
        "list_texts_and_entities = random.sample(list_texts_and_entities, 15000)"
      ],
      "execution_count": 18,
      "outputs": []
    },
    {
      "cell_type": "code",
      "metadata": {
        "colab": {
          "base_uri": "https://localhost:8080/"
        },
        "id": "-fpfKzsJK31Z",
        "outputId": "01a97d93-f120-4f4f-d927-1ccb06cc73af"
      },
      "source": [
        "len(list_texts_and_entities)"
      ],
      "execution_count": 19,
      "outputs": [
        {
          "output_type": "execute_result",
          "data": {
            "text/plain": [
              "15000"
            ]
          },
          "metadata": {},
          "execution_count": 19
        }
      ]
    },
    {
      "cell_type": "code",
      "metadata": {
        "id": "BiaXZcMEUchi"
      },
      "source": [
        "random.shuffle(list_entities)\n",
        "random.shuffle(list_texts_and_entities)\n",
        "\n",
        "list_entities_TRAIN = list_entities[0:int(len(list_entities)*0.75)]\n",
        "list_entities_TEST = list_entities[int(len(list_entities)*0.75):]\n",
        "\n",
        "TRAIN_DATA = list_entities_TRAIN + list_texts_and_entities[0:int(len(list_texts_and_entities)*0.75)]\n",
        "TEST_DATA = list_entities_TEST + list_texts_and_entities[int(len(list_texts_and_entities)*0.75):]"
      ],
      "execution_count": 20,
      "outputs": []
    },
    {
      "cell_type": "code",
      "metadata": {
        "id": "jlvDhvrQSJyW"
      },
      "source": [
        "random.shuffle(TRAIN_DATA)"
      ],
      "execution_count": 21,
      "outputs": []
    },
    {
      "cell_type": "code",
      "metadata": {
        "colab": {
          "base_uri": "https://localhost:8080/"
        },
        "id": "389LE4rxUgZO",
        "outputId": "66abd127-89f7-4760-8929-6e4f9c384c9a"
      },
      "source": [
        "len(TRAIN_DATA)"
      ],
      "execution_count": 22,
      "outputs": [
        {
          "output_type": "execute_result",
          "data": {
            "text/plain": [
              "15750"
            ]
          },
          "metadata": {},
          "execution_count": 22
        }
      ]
    },
    {
      "cell_type": "code",
      "metadata": {
        "colab": {
          "base_uri": "https://localhost:8080/"
        },
        "id": "1l_S2lgmQmcE",
        "outputId": "1ad0aeba-46f2-47c3-edbd-abe9da97e5bb"
      },
      "source": [
        "len(TEST_DATA)"
      ],
      "execution_count": 23,
      "outputs": [
        {
          "output_type": "execute_result",
          "data": {
            "text/plain": [
              "5250"
            ]
          },
          "metadata": {},
          "execution_count": 23
        }
      ]
    },
    {
      "cell_type": "code",
      "metadata": {
        "tags": [],
        "cell_id": "00037-eecdfe5c-a2ed-4c4c-93f6-94b194f0c5cc",
        "output_cleared": false,
        "source_hash": "5e7ad532",
        "execution_millis": 698772,
        "execution_start": 1605884366617,
        "deepnote_cell_type": "code",
        "colab": {
          "base_uri": "https://localhost:8080/"
        },
        "id": "EQACIn93e5HW",
        "outputId": "ef87fa09-864c-4642-ba69-9f6b0c3a9cd4"
      },
      "source": [
        "ner = nlp.get_pipe(\"ner\")\n",
        "ner.add_label(\"FOOD\")\n",
        "\n",
        "pipe_exceptions = [\"ner\", \"trf_wordpiecer\", \"trf_tok2vec\"]\n",
        "other_pipes = [pipe for pipe in nlp.pipe_names if pipe not in pipe_exceptions] #other_pipes = [pipe for pipe in nlp.pipe_names if pipe != \"ner\"]\n",
        "\n",
        "epochs = 20\n",
        "optimizer = nlp.resume_training()\n",
        "with nlp.disable_pipes(*other_pipes):\n",
        "    sizes = compounding(4.0, 32.0, 1.001)\n",
        "    \n",
        "    for epoch in range(epochs):\n",
        "        examples = TRAIN_DATA\n",
        "        random.shuffle(examples)\n",
        "        batches = minibatch(examples, size=sizes)\n",
        "        losses = {}\n",
        "        \n",
        "        for batch in batches:\n",
        "            texts, annotations = zip(*batch)\n",
        "            try:\n",
        "              nlp.update(texts, annotations, sgd=optimizer, drop=0.3, losses=losses)\n",
        "            except:continue\n",
        "\n",
        "        print(epoch,\" Losses\", losses, end=\"\\n\")\n",
        "        random.shuffle(TEST_DATA)\n",
        "        scoreNER(nlp, TEST_DATA[:500])"
      ],
      "execution_count": 24,
      "outputs": [
        {
          "output_type": "stream",
          "name": "stdout",
          "text": [
            "0  Losses {'ner': 160526.73461563885}\n",
            "Scores:  {'MONEY': {'p': 100.0, 'r': 100.0, 'f': 100.0}, 'ORG': {'p': 85.64593301435407, 'r': 80.99547511312217, 'f': 83.25581395348837}, 'PERSON': {'p': 81.25, 'r': 94.41340782122904, 'f': 87.33850129198966}, 'GPE': {'p': 89.05109489051095, 'r': 91.72932330827066, 'f': 90.37037037037037}, 'FAC': {'p': 33.33333333333333, 'r': 11.11111111111111, 'f': 16.666666666666664}, 'TIME': {'p': 80.0, 'r': 66.66666666666666, 'f': 72.72727272727272}, 'LOC': {'p': 100.0, 'r': 75.0, 'f': 85.71428571428571}, 'FOOD': {'p': 94.13793103448276, 'r': 91.0, 'f': 92.54237288135593}, 'DATE': {'p': 88.49557522123894, 'r': 83.33333333333334, 'f': 85.83690987124464}, 'ORDINAL': {'p': 85.71428571428571, 'r': 100.0, 'f': 92.3076923076923}, 'WORK_OF_ART': {'p': 100.0, 'r': 20.0, 'f': 33.333333333333336}, 'NORP': {'p': 88.0, 'r': 97.77777777777777, 'f': 92.63157894736842}, 'CARDINAL': {'p': 85.0, 'r': 94.44444444444444, 'f': 89.47368421052632}, 'PERCENT': {'p': 100.0, 'r': 100.0, 'f': 100.0}, 'QUANTITY': {'p': 0.0, 'r': 0.0, 'f': 0.0}, 'EVENT': {'p': 100.0, 'r': 50.0, 'f': 66.66666666666666}, 'LAW': {'p': 100.0, 'r': 25.0, 'f': 40.0}, 'LANGUAGE': {'p': 100.0, 'r': 33.33333333333333, 'f': 50.0}, 'PRODUCT': {'p': 0.0, 'r': 0.0, 'f': 0.0}}\n",
            "1  Losses {'ner': 149376.25781059265}\n",
            "Scores:  {'MONEY': {'p': 100.0, 'r': 100.0, 'f': 100.0}, 'ORG': {'p': 83.72093023255815, 'r': 84.90566037735849, 'f': 84.30913348946135}, 'PERSON': {'p': 82.10023866348448, 'r': 91.24668435013263, 'f': 86.4321608040201}, 'GPE': {'p': 90.51724137931035, 'r': 91.70305676855895, 'f': 91.10629067245121}, 'FAC': {'p': 28.57142857142857, 'r': 13.333333333333334, 'f': 18.181818181818183}, 'TIME': {'p': 72.72727272727273, 'r': 50.0, 'f': 59.25925925925925}, 'LOC': {'p': 94.44444444444444, 'r': 80.95238095238095, 'f': 87.17948717948718}, 'FOOD': {'p': 96.97986577181209, 'r': 95.22240527182866, 'f': 96.09310058187863}, 'DATE': {'p': 89.34010152284264, 'r': 86.69950738916256, 'f': 88.0}, 'ORDINAL': {'p': 90.0, 'r': 100.0, 'f': 94.73684210526316}, 'WORK_OF_ART': {'p': 60.0, 'r': 18.75, 'f': 28.57142857142857}, 'NORP': {'p': 93.81443298969072, 'r': 94.79166666666666, 'f': 94.30051813471502}, 'CARDINAL': {'p': 86.32478632478633, 'r': 90.990990990991, 'f': 88.59649122807018}, 'PERCENT': {'p': 87.5, 'r': 87.5, 'f': 87.5}, 'QUANTITY': {'p': 100.0, 'r': 28.57142857142857, 'f': 44.44444444444445}, 'EVENT': {'p': 100.0, 'r': 60.0, 'f': 74.99999999999999}, 'LAW': {'p': 100.0, 'r': 66.66666666666666, 'f': 80.0}, 'LANGUAGE': {'p': 100.0, 'r': 50.0, 'f': 66.66666666666666}, 'PRODUCT': {'p': 0.0, 'r': 0.0, 'f': 0.0}}\n",
            "2  Losses {'ner': 146810.41388607025}\n",
            "Scores:  {'MONEY': {'p': 100.0, 'r': 100.0, 'f': 100.0}, 'ORG': {'p': 83.6734693877551, 'r': 85.553772070626, 'f': 84.60317460317461}, 'PERSON': {'p': 83.80952380952381, 'r': 90.87779690189329, 'f': 87.20066061106525}, 'GPE': {'p': 91.76470588235294, 'r': 92.3076923076923, 'f': 92.03539823008849}, 'FAC': {'p': 46.15384615384615, 'r': 27.27272727272727, 'f': 34.28571428571428}, 'TIME': {'p': 83.33333333333334, 'r': 60.60606060606061, 'f': 70.17543859649123}, 'LOC': {'p': 84.0, 'r': 80.76923076923077, 'f': 82.35294117647058}, 'FOOD': {'p': 96.87848383500557, 'r': 96.02209944751381, 'f': 96.44839067702551}, 'DATE': {'p': 88.92307692307693, 'r': 88.65030674846625, 'f': 88.78648233486943}, 'ORDINAL': {'p': 94.73684210526315, 'r': 100.0, 'f': 97.2972972972973}, 'WORK_OF_ART': {'p': 50.0, 'r': 10.714285714285714, 'f': 17.647058823529413}, 'NORP': {'p': 95.54140127388536, 'r': 93.16770186335404, 'f': 94.33962264150944}, 'CARDINAL': {'p': 86.7816091954023, 'r': 90.96385542168674, 'f': 88.82352941176471}, 'PERCENT': {'p': 93.33333333333333, 'r': 93.33333333333333, 'f': 93.33333333333333}, 'QUANTITY': {'p': 100.0, 'r': 40.0, 'f': 57.14285714285715}, 'EVENT': {'p': 100.0, 'r': 37.5, 'f': 54.54545454545454}, 'LAW': {'p': 90.9090909090909, 'r': 66.66666666666666, 'f': 76.92307692307692}, 'LANGUAGE': {'p': 100.0, 'r': 50.0, 'f': 66.66666666666666}, 'PRODUCT': {'p': 0.0, 'r': 0.0, 'f': 0.0}}\n",
            "3  Losses {'ner': 146698.93728923798}\n",
            "Scores:  {'MONEY': {'p': 96.96969696969697, 'r': 96.96969696969697, 'f': 96.96969696969697}, 'ORG': {'p': 83.80952380952381, 'r': 86.5928659286593, 'f': 85.178463399879}, 'PERSON': {'p': 85.19447929736512, 'r': 91.26344086021506, 'f': 88.12459441920831}, 'GPE': {'p': 90.02123142250531, 'r': 91.97396963123644, 'f': 90.98712446351931}, 'FAC': {'p': 53.333333333333336, 'r': 26.666666666666668, 'f': 35.55555555555555}, 'TIME': {'p': 77.14285714285715, 'r': 50.943396226415096, 'f': 61.36363636363637}, 'LOC': {'p': 84.84848484848484, 'r': 71.7948717948718, 'f': 77.77777777777779}, 'FOOD': {'p': 97.01244813278008, 'r': 96.29324546952223, 'f': 96.65150888797024}, 'DATE': {'p': 88.66213151927438, 'r': 89.06605922551253, 'f': 88.86363636363637}, 'ORDINAL': {'p': 92.5925925925926, 'r': 100.0, 'f': 96.15384615384615}, 'WORK_OF_ART': {'p': 45.45454545454545, 'r': 15.151515151515152, 'f': 22.727272727272727}, 'NORP': {'p': 94.85981308411215, 'r': 94.85981308411215, 'f': 94.85981308411215}, 'CARDINAL': {'p': 87.890625, 'r': 91.83673469387756, 'f': 89.82035928143713}, 'PERCENT': {'p': 96.15384615384616, 'r': 96.15384615384616, 'f': 96.15384615384616}, 'QUANTITY': {'p': 100.0, 'r': 43.75, 'f': 60.86956521739131}, 'EVENT': {'p': 60.0, 'r': 25.0, 'f': 35.294117647058826}, 'LAW': {'p': 92.85714285714286, 'r': 65.0, 'f': 76.47058823529413}, 'LANGUAGE': {'p': 100.0, 'r': 42.857142857142854, 'f': 60.0}, 'PRODUCT': {'p': 0.0, 'r': 0.0, 'f': 0.0}}\n",
            "4  Losses {'ner': 146520.31975865364}\n",
            "Scores:  {'MONEY': {'p': 97.22222222222221, 'r': 94.5945945945946, 'f': 95.89041095890411}, 'ORG': {'p': 84.7424684159378, 'r': 86.67992047713717, 'f': 85.7002457002457}, 'PERSON': {'p': 84.09542743538768, 'r': 90.77253218884121, 'f': 87.30650154798761}, 'GPE': {'p': 89.64346349745331, 'r': 92.3076923076923, 'f': 90.95607235142118}, 'FAC': {'p': 52.63157894736842, 'r': 29.411764705882355, 'f': 37.73584905660377}, 'TIME': {'p': 76.74418604651163, 'r': 54.09836065573771, 'f': 63.46153846153847}, 'LOC': {'p': 80.43478260869566, 'r': 74.0, 'f': 77.08333333333333}, 'FOOD': {'p': 96.82959048877147, 'r': 96.6381015161503, 'f': 96.73375123721544}, 'DATE': {'p': 88.6861313868613, 'r': 89.50276243093923, 'f': 89.09257561869845}, 'ORDINAL': {'p': 93.75, 'r': 98.36065573770492, 'f': 96.0}, 'WORK_OF_ART': {'p': 58.82352941176471, 'r': 22.22222222222222, 'f': 32.25806451612903}, 'NORP': {'p': 95.75289575289575, 'r': 92.88389513108615, 'f': 94.29657794676807}, 'CARDINAL': {'p': 87.8125, 'r': 92.43421052631578, 'f': 90.06410256410258}, 'PERCENT': {'p': 93.10344827586206, 'r': 93.10344827586206, 'f': 93.10344827586206}, 'QUANTITY': {'p': 100.0, 'r': 44.44444444444444, 'f': 61.53846153846153}, 'EVENT': {'p': 44.44444444444444, 'r': 28.57142857142857, 'f': 34.78260869565217}, 'LAW': {'p': 88.88888888888889, 'r': 66.66666666666666, 'f': 76.1904761904762}, 'LANGUAGE': {'p': 100.0, 'r': 60.0, 'f': 74.99999999999999}, 'PRODUCT': {'p': 50.0, 'r': 9.090909090909092, 'f': 15.384615384615385}}\n",
            "5  Losses {'ner': 145505.51888656616}\n",
            "Scores:  {'MONEY': {'p': 97.87234042553192, 'r': 95.83333333333334, 'f': 96.84210526315789}, 'ORG': {'p': 83.94964594807239, 'r': 87.38738738738738, 'f': 85.63402889245586}, 'PERSON': {'p': 84.65430016863407, 'r': 89.80322003577818, 'f': 87.15277777777779}, 'GPE': {'p': 90.02849002849003, 'r': 92.39766081871345, 'f': 91.1976911976912}, 'FAC': {'p': 54.166666666666664, 'r': 30.23255813953488, 'f': 38.80597014925373}, 'TIME': {'p': 76.47058823529412, 'r': 58.2089552238806, 'f': 66.10169491525423}, 'LOC': {'p': 77.19298245614034, 'r': 74.57627118644068, 'f': 75.86206896551725}, 'FOOD': {'p': 97.1159179145868, 'r': 97.06208425720621, 'f': 97.08899362350984}, 'DATE': {'p': 89.12386706948641, 'r': 89.8021308980213, 'f': 89.46171341925702}, 'ORDINAL': {'p': 95.06172839506173, 'r': 95.06172839506173, 'f': 95.06172839506173}, 'WORK_OF_ART': {'p': 61.111111111111114, 'r': 21.153846153846153, 'f': 31.428571428571427}, 'NORP': {'p': 95.73770491803279, 'r': 93.58974358974359, 'f': 94.6515397082658}, 'CARDINAL': {'p': 86.4795918367347, 'r': 91.37466307277629, 'f': 88.85976408912188}, 'PERCENT': {'p': 93.75, 'r': 93.75, 'f': 93.75}, 'QUANTITY': {'p': 100.0, 'r': 50.0, 'f': 66.66666666666666}, 'EVENT': {'p': 50.0, 'r': 31.25, 'f': 38.46153846153847}, 'LAW': {'p': 90.0, 'r': 64.28571428571429, 'f': 75.0}, 'LANGUAGE': {'p': 100.0, 'r': 54.54545454545454, 'f': 70.58823529411764}, 'PRODUCT': {'p': 50.0, 'r': 9.090909090909092, 'f': 15.384615384615385}}\n",
            "6  Losses {'ner': 145620.94786214828}\n",
            "Scores:  {'MONEY': {'p': 98.07692307692307, 'r': 96.22641509433963, 'f': 97.14285714285712}, 'ORG': {'p': 83.91274710293115, 'r': 86.08391608391608, 'f': 84.98446668967897}, 'PERSON': {'p': 83.86866523911492, 'r': 90.45419553502695, 'f': 87.03703703703702}, 'GPE': {'p': 90.33412887828163, 'r': 92.76960784313727, 'f': 91.53567110036276}, 'FAC': {'p': 54.166666666666664, 'r': 28.26086956521739, 'f': 37.14285714285714}, 'TIME': {'p': 80.0, 'r': 62.33766233766234, 'f': 70.07299270072993}, 'LOC': {'p': 75.71428571428571, 'r': 75.71428571428571, 'f': 75.71428571428571}, 'FOOD': {'p': 97.40134744947065, 'r': 97.40134744947065, 'f': 97.40134744947065}, 'DATE': {'p': 89.93630573248407, 'r': 90.74550128534705, 'f': 90.33909149072296}, 'ORDINAL': {'p': 95.6989247311828, 'r': 93.6842105263158, 'f': 94.68085106382979}, 'WORK_OF_ART': {'p': 61.111111111111114, 'r': 19.642857142857142, 'f': 29.72972972972973}, 'NORP': {'p': 95.54317548746518, 'r': 93.20652173913044, 'f': 94.36038514442916}, 'CARDINAL': {'p': 86.44763860369609, 'r': 92.12253829321662, 'f': 89.19491525423729}, 'PERCENT': {'p': 93.02325581395348, 'r': 93.02325581395348, 'f': 93.02325581395348}, 'QUANTITY': {'p': 92.3076923076923, 'r': 50.0, 'f': 64.86486486486487}, 'EVENT': {'p': 58.333333333333336, 'r': 35.0, 'f': 43.75}, 'LAW': {'p': 90.0, 'r': 69.23076923076923, 'f': 78.26086956521738}, 'LANGUAGE': {'p': 100.0, 'r': 54.54545454545454, 'f': 70.58823529411764}, 'PRODUCT': {'p': 50.0, 'r': 8.333333333333332, 'f': 14.285714285714285}}\n",
            "7  Losses {'ner': 145542.03522586823}\n",
            "Scores:  {'MONEY': {'p': 98.48484848484848, 'r': 97.01492537313433, 'f': 97.74436090225565}, 'ORG': {'p': 83.80155409444112, 'r': 85.74923547400611, 'f': 84.76420798065296}, 'PERSON': {'p': 84.15470991890206, 'r': 90.53691275167786, 'f': 87.22922728742321}, 'GPE': {'p': 90.17951425554382, 'r': 92.92709466811752, 'f': 91.53269024651661}, 'FAC': {'p': 55.55555555555556, 'r': 28.846153846153843, 'f': 37.974683544303794}, 'TIME': {'p': 82.85714285714286, 'r': 65.9090909090909, 'f': 73.41772151898735}, 'LOC': {'p': 73.25581395348837, 'r': 76.82926829268293, 'f': 75.0}, 'FOOD': {'p': 97.44245524296676, 'r': 97.60888129803587, 'f': 97.52559726962457}, 'DATE': {'p': 89.83783783783784, 'r': 91.01861993428258, 'f': 90.42437431991294}, 'ORDINAL': {'p': 96.07843137254902, 'r': 93.33333333333333, 'f': 94.68599033816426}, 'WORK_OF_ART': {'p': 57.692307692307686, 'r': 21.428571428571427, 'f': 31.249999999999993}, 'NORP': {'p': 95.07389162561576, 'r': 92.78846153846155, 'f': 93.91727493917276}, 'CARDINAL': {'p': 87.04379562043796, 'r': 92.44186046511628, 'f': 89.66165413533834}, 'PERCENT': {'p': 93.33333333333333, 'r': 93.33333333333333, 'f': 93.33333333333333}, 'QUANTITY': {'p': 93.75, 'r': 50.0, 'f': 65.21739130434783}, 'EVENT': {'p': 61.111111111111114, 'r': 40.74074074074074, 'f': 48.888888888888886}, 'LAW': {'p': 92.10526315789474, 'r': 71.42857142857143, 'f': 80.45977011494253}, 'LANGUAGE': {'p': 100.0, 'r': 54.54545454545454, 'f': 70.58823529411764}, 'PRODUCT': {'p': 50.0, 'r': 7.6923076923076925, 'f': 13.333333333333336}}\n",
            "8  Losses {'ner': 144611.13209605217}\n",
            "Scores:  {'MONEY': {'p': 98.64864864864865, 'r': 96.05263157894737, 'f': 97.33333333333333}, 'ORG': {'p': 83.91350210970464, 'r': 85.6297093649085, 'f': 84.76291955247736}, 'PERSON': {'p': 84.52183526810393, 'r': 90.74183976261128, 'f': 87.52146536920435}, 'GPE': {'p': 90.49429657794677, 'r': 92.87804878048782, 'f': 91.67067886374579}, 'FAC': {'p': 56.666666666666664, 'r': 29.82456140350877, 'f': 39.08045977011494}, 'TIME': {'p': 83.33333333333334, 'r': 67.3076923076923, 'f': 74.468085106383}, 'LOC': {'p': 72.3404255319149, 'r': 71.57894736842105, 'f': 71.95767195767198}, 'FOOD': {'p': 97.473604826546, 'r': 97.87959106399092, 'f': 97.67617608161723}, 'DATE': {'p': 90.11406844106465, 'r': 91.59420289855072, 'f': 90.84810733109727}, 'ORDINAL': {'p': 94.26229508196722, 'r': 92.74193548387096, 'f': 93.4959349593496}, 'WORK_OF_ART': {'p': 64.51612903225806, 'r': 23.52941176470588, 'f': 34.48275862068966}, 'NORP': {'p': 95.39473684210526, 'r': 93.14775160599572, 'f': 94.25785482123511}, 'CARDINAL': {'p': 87.27569331158239, 'r': 92.88194444444444, 'f': 89.99158957106813}, 'PERCENT': {'p': 92.15686274509804, 'r': 92.15686274509804, 'f': 92.15686274509804}, 'QUANTITY': {'p': 93.75, 'r': 50.0, 'f': 65.21739130434783}, 'EVENT': {'p': 57.89473684210527, 'r': 39.285714285714285, 'f': 46.808510638297875}, 'LAW': {'p': 92.5, 'r': 71.15384615384616, 'f': 80.43478260869567}, 'LANGUAGE': {'p': 100.0, 'r': 57.14285714285714, 'f': 72.72727272727273}, 'PRODUCT': {'p': 50.0, 'r': 7.142857142857142, 'f': 12.5}}\n",
            "9  Losses {'ner': 144795.10163140297}\n",
            "Scores:  {'MONEY': {'p': 98.76543209876543, 'r': 96.3855421686747, 'f': 97.5609756097561}, 'ORG': {'p': 83.07766059443912, 'r': 85.538005923001, 'f': 84.28988326848248}, 'PERSON': {'p': 84.83483483483484, 'r': 90.35181236673773, 'f': 87.50645327826535}, 'GPE': {'p': 90.30874785591767, 'r': 92.77533039647578, 'f': 91.52542372881356}, 'FAC': {'p': 59.375, 'r': 29.6875, 'f': 39.58333333333333}, 'TIME': {'p': 83.33333333333334, 'r': 67.22689075630252, 'f': 74.41860465116281}, 'LOC': {'p': 73.87387387387388, 'r': 71.9298245614035, 'f': 72.88888888888889}, 'FOOD': {'p': 97.61661559414368, 'r': 97.98359535201641, 'f': 97.79976121439536}, 'DATE': {'p': 90.03350083752095, 'r': 91.56729131175469, 'f': 90.79391891891892}, 'ORDINAL': {'p': 92.80575539568345, 'r': 92.80575539568345, 'f': 92.80575539568345}, 'WORK_OF_ART': {'p': 68.42105263157895, 'r': 27.659574468085108, 'f': 39.3939393939394}, 'NORP': {'p': 94.97098646034816, 'r': 93.34600760456274, 'f': 94.15148609779483}, 'CARDINAL': {'p': 86.42857142857143, 'r': 92.50764525993884, 'f': 89.3648449039882}, 'PERCENT': {'p': 93.33333333333333, 'r': 93.33333333333333, 'f': 93.33333333333333}, 'QUANTITY': {'p': 94.44444444444444, 'r': 51.515151515151516, 'f': 66.66666666666666}, 'EVENT': {'p': 57.14285714285714, 'r': 40.0, 'f': 47.05882352941176}, 'LAW': {'p': 93.33333333333333, 'r': 73.68421052631578, 'f': 82.35294117647058}, 'LANGUAGE': {'p': 100.0, 'r': 53.333333333333336, 'f': 69.56521739130436}, 'PRODUCT': {'p': 66.66666666666666, 'r': 11.11111111111111, 'f': 19.04761904761905}}\n",
            "10  Losses {'ner': 144616.45597362518}\n",
            "Scores:  {'MONEY': {'p': 98.88888888888889, 'r': 96.73913043478261, 'f': 97.8021978021978}, 'ORG': {'p': 82.84100781928757, 'r': 85.93961243803516, 'f': 84.36186684361866}, 'PERSON': {'p': 85.16659059790051, 'r': 90.14492753623189, 'f': 87.58507392630838}, 'GPE': {'p': 90.10989010989012, 'r': 92.80517380759903, 'f': 91.43767423337316}, 'FAC': {'p': 58.82352941176471, 'r': 27.397260273972602, 'f': 37.38317757009346}, 'TIME': {'p': 83.17757009345794, 'r': 67.42424242424242, 'f': 74.47698744769873}, 'LOC': {'p': 75.0, 'r': 72.0, 'f': 73.46938775510205}, 'FOOD': {'p': 97.7984496124031, 'r': 97.98073936004971, 'f': 97.8895096213532}, 'DATE': {'p': 89.76674191121144, 'r': 91.69869331283628, 'f': 90.72243346007603}, 'ORDINAL': {'p': 92.3076923076923, 'r': 93.5064935064935, 'f': 92.90322580645162}, 'WORK_OF_ART': {'p': 63.63636363636363, 'r': 26.923076923076923, 'f': 37.83783783783783}, 'NORP': {'p': 95.32374100719424, 'r': 93.30985915492957, 'f': 94.30604982206404}, 'CARDINAL': {'p': 86.55569782330346, 'r': 92.34972677595628, 'f': 89.35888962326503}, 'PERCENT': {'p': 90.9090909090909, 'r': 90.9090909090909, 'f': 90.9090909090909}, 'QUANTITY': {'p': 94.73684210526315, 'r': 50.0, 'f': 65.45454545454545}, 'EVENT': {'p': 57.14285714285714, 'r': 36.36363636363637, 'f': 44.44444444444444}, 'LAW': {'p': 93.75, 'r': 71.42857142857143, 'f': 81.08108108108108}, 'LANGUAGE': {'p': 100.0, 'r': 53.333333333333336, 'f': 69.56521739130436}, 'PRODUCT': {'p': 66.66666666666666, 'r': 9.523809523809524, 'f': 16.666666666666664}}\n",
            "11  Losses {'ner': 144073.2120809555}\n",
            "Scores:  {'MONEY': {'p': 99.0, 'r': 96.11650485436894, 'f': 97.53694581280789}, 'ORG': {'p': 82.72146847565843, 'r': 85.94527363184079, 'f': 84.30256201708012}, 'PERSON': {'p': 85.4906937394247, 'r': 90.06238859180036, 'f': 87.71701388888889}, 'GPE': {'p': 90.2315484804631, 'r': 92.85182427401341, 'f': 91.52293577981652}, 'FAC': {'p': 58.82352941176471, 'r': 25.97402597402597, 'f': 36.03603603603604}, 'TIME': {'p': 82.5, 'r': 67.8082191780822, 'f': 74.43609022556392}, 'LOC': {'p': 75.78125, 'r': 71.32352941176471, 'f': 73.48484848484848}, 'FOOD': {'p': 97.99037645060855, 'r': 98.15707400056706, 'f': 98.07365439093485}, 'DATE': {'p': 89.77591036414566, 'r': 91.31054131054131, 'f': 90.53672316384181}, 'ORDINAL': {'p': 92.26190476190477, 'r': 93.93939393939394, 'f': 93.09309309309309}, 'WORK_OF_ART': {'p': 66.0, 'r': 29.20353982300885, 'f': 40.49079754601227}, 'NORP': {'p': 94.90968801313629, 'r': 93.07568438003221, 'f': 93.98373983739837}, 'CARDINAL': {'p': 86.62053056516724, 'r': 92.26044226044226, 'f': 89.3515764425937}, 'PERCENT': {'p': 91.8918918918919, 'r': 91.8918918918919, 'f': 91.8918918918919}, 'QUANTITY': {'p': 95.65217391304348, 'r': 55.00000000000001, 'f': 69.84126984126985}, 'EVENT': {'p': 58.333333333333336, 'r': 38.88888888888889, 'f': 46.666666666666664}, 'LAW': {'p': 94.44444444444444, 'r': 73.91304347826086, 'f': 82.92682926829269}, 'LANGUAGE': {'p': 100.0, 'r': 53.333333333333336, 'f': 69.56521739130436}, 'PRODUCT': {'p': 66.66666666666666, 'r': 8.333333333333332, 'f': 14.814814814814813}}\n",
            "12  Losses {'ner': 144367.01013469696}\n",
            "Scores:  {'MONEY': {'p': 98.11320754716981, 'r': 94.54545454545455, 'f': 96.29629629629629}, 'ORG': {'p': 82.71923360353722, 'r': 85.7852502865877, 'f': 84.22434815231664}, 'PERSON': {'p': 85.49883990719258, 'r': 90.09779951100244, 'f': 87.73809523809524}, 'GPE': {'p': 90.05412719891746, 'r': 92.75261324041811, 'f': 91.38345348438037}, 'FAC': {'p': 56.75675675675676, 'r': 25.609756097560975, 'f': 35.29411764705882}, 'TIME': {'p': 82.11382113821138, 'r': 67.78523489932886, 'f': 74.26470588235294}, 'LOC': {'p': 76.11940298507463, 'r': 70.34482758620689, 'f': 73.11827956989248}, 'FOOD': {'p': 98.15728004152608, 'r': 98.31037171822199, 'f': 98.23376623376625}, 'DATE': {'p': 89.59011060507483, 'r': 91.25248508946322, 'f': 90.41365725541694}, 'ORDINAL': {'p': 91.75824175824175, 'r': 93.82022471910112, 'f': 92.77777777777777}, 'WORK_OF_ART': {'p': 61.66666666666667, 'r': 29.599999999999998, 'f': 40.0}, 'NORP': {'p': 94.94640122511485, 'r': 93.09309309309309, 'f': 94.01061410159211}, 'CARDINAL': {'p': 86.66666666666667, 'r': 92.21967963386729, 'f': 89.3569844789357}, 'PERCENT': {'p': 92.5, 'r': 92.5, 'f': 92.5}, 'QUANTITY': {'p': 95.83333333333334, 'r': 53.48837209302325, 'f': 68.65671641791045}, 'EVENT': {'p': 57.692307692307686, 'r': 38.46153846153847, 'f': 46.15384615384615}, 'LAW': {'p': 94.82758620689656, 'r': 74.32432432432432, 'f': 83.33333333333333}, 'LANGUAGE': {'p': 100.0, 'r': 50.0, 'f': 66.66666666666666}, 'PRODUCT': {'p': 75.0, 'r': 10.0, 'f': 17.647058823529417}}\n",
            "13  Losses {'ner': 144989.1280889511}\n",
            "Scores:  {'MONEY': {'p': 97.32142857142857, 'r': 93.96551724137932, 'f': 95.6140350877193}, 'ORG': {'p': 83.05374871619308, 'r': 86.11998580049698, 'f': 84.55907981875218}, 'PERSON': {'p': 85.6622998544396, 'r': 90.12251148545177, 'f': 87.8358208955224}, 'GPE': {'p': 89.91808443604285, 'r': 92.72254710851202, 'f': 91.29878438899551}, 'FAC': {'p': 56.75675675675676, 'r': 23.863636363636363, 'f': 33.599999999999994}, 'TIME': {'p': 82.08955223880598, 'r': 68.32298136645963, 'f': 74.57627118644066}, 'LOC': {'p': 76.22377622377621, 'r': 71.24183006535948, 'f': 73.64864864864865}, 'FOOD': {'p': 98.29980842911877, 'r': 98.39405560882071, 'f': 98.34690943938668}, 'DATE': {'p': 89.85594237695078, 'r': 91.55963302752293, 'f': 90.69978794304757}, 'ORDINAL': {'p': 91.0891089108911, 'r': 93.87755102040816, 'f': 92.46231155778895}, 'WORK_OF_ART': {'p': 61.904761904761905, 'r': 29.32330827067669, 'f': 39.79591836734694}, 'NORP': {'p': 94.85714285714286, 'r': 93.25842696629213, 'f': 94.05099150141642}, 'CARDINAL': {'p': 86.59384309831182, 'r': 91.9831223628692, 'f': 89.20716112531969}, 'PERCENT': {'p': 92.6829268292683, 'r': 92.6829268292683, 'f': 92.6829268292683}, 'QUANTITY': {'p': 96.66666666666667, 'r': 59.183673469387756, 'f': 73.41772151898734}, 'EVENT': {'p': 57.692307692307686, 'r': 38.46153846153847, 'f': 46.15384615384615}, 'LAW': {'p': 95.3125, 'r': 75.30864197530865, 'f': 84.13793103448276}, 'LANGUAGE': {'p': 100.0, 'r': 44.44444444444444, 'f': 61.53846153846153}, 'PRODUCT': {'p': 60.0, 'r': 9.375, 'f': 16.216216216216214}}\n",
            "14  Losses {'ner': 143904.1707019806}\n",
            "Scores:  {'MONEY': {'p': 97.36842105263158, 'r': 94.0677966101695, 'f': 95.68965517241381}, 'ORG': {'p': 82.87801778907242, 'r': 86.13403763618356, 'f': 84.4746640764125}, 'PERSON': {'p': 85.78231292517006, 'r': 90.13581129378127, 'f': 87.90519344719415}, 'GPE': {'p': 90.03496503496503, 'r': 92.68146370725854, 'f': 91.3390481820869}, 'FAC': {'p': 56.41025641025641, 'r': 23.404255319148938, 'f': 33.0827067669173}, 'TIME': {'p': 82.01438848920863, 'r': 68.67469879518072, 'f': 74.75409836065575}, 'LOC': {'p': 77.18120805369128, 'r': 71.875, 'f': 74.43365695792879}, 'FOOD': {'p': 98.34488928651308, 'r': 98.38890132020586, 'f': 98.3668903803132}, 'DATE': {'p': 90.03359462486003, 'r': 91.67616875712656, 'f': 90.84745762711864}, 'ORDINAL': {'p': 89.86175115207374, 'r': 93.75, 'f': 91.76470588235294}, 'WORK_OF_ART': {'p': 56.57894736842105, 'r': 30.49645390070922, 'f': 39.63133640552996}, 'NORP': {'p': 95.1417004048583, 'r': 93.25396825396825, 'f': 94.18837675350701}, 'CARDINAL': {'p': 86.74033149171271, 'r': 92.26248775710089, 'f': 89.41623160892263}, 'PERCENT': {'p': 93.4065934065934, 'r': 93.4065934065934, 'f': 93.4065934065934}, 'QUANTITY': {'p': 96.7741935483871, 'r': 60.0, 'f': 74.07407407407408}, 'EVENT': {'p': 60.71428571428571, 'r': 39.53488372093023, 'f': 47.88732394366197}, 'LAW': {'p': 92.7536231884058, 'r': 76.19047619047619, 'f': 83.66013071895425}, 'LANGUAGE': {'p': 100.0, 'r': 47.368421052631575, 'f': 64.28571428571429}, 'PRODUCT': {'p': 71.42857142857143, 'r': 13.513513513513514, 'f': 22.727272727272727}}\n",
            "15  Losses {'ner': 143475.58779525757}\n",
            "Scores:  {'MONEY': {'p': 97.52066115702479, 'r': 94.39999999999999, 'f': 95.9349593495935}, 'ORG': {'p': 82.89315726290516, 'r': 85.96327419856831, 'f': 84.40030557677616}, 'PERSON': {'p': 85.60944479897894, 'r': 90.12428619415519, 'f': 87.80886925216822}, 'GPE': {'p': 89.7563676633444, 'r': 93.00057372346528, 'f': 91.34967596506058}, 'FAC': {'p': 56.09756097560976, 'r': 23.0, 'f': 32.62411347517731}, 'TIME': {'p': 81.81818181818183, 'r': 70.39106145251397, 'f': 75.67567567567568}, 'LOC': {'p': 78.06451612903226, 'r': 71.17647058823529, 'f': 74.46153846153847}, 'FOOD': {'p': 98.32249947578109, 'r': 98.46703065938681, 'f': 98.3947119924457}, 'DATE': {'p': 90.09384775808134, 'r': 91.67108753315651, 'f': 90.8756245069682}, 'ORDINAL': {'p': 89.91596638655463, 'r': 94.27312775330397, 'f': 92.04301075268818}, 'WORK_OF_ART': {'p': 56.41025641025641, 'r': 29.13907284768212, 'f': 38.427947598253276}, 'NORP': {'p': 95.1530612244898, 'r': 93.25, 'f': 94.1919191919192}, 'CARDINAL': {'p': 86.82842287694974, 'r': 92.35023041474655, 'f': 89.50424296560966}, 'PERCENT': {'p': 92.70833333333334, 'r': 92.70833333333334, 'f': 92.70833333333334}, 'QUANTITY': {'p': 96.96969696969697, 'r': 59.25925925925925, 'f': 73.56321839080458}, 'EVENT': {'p': 65.71428571428571, 'r': 45.09803921568628, 'f': 53.48837209302325}, 'LAW': {'p': 92.10526315789474, 'r': 77.77777777777779, 'f': 84.33734939759037}, 'LANGUAGE': {'p': 100.0, 'r': 42.857142857142854, 'f': 60.0}, 'PRODUCT': {'p': 75.0, 'r': 14.634146341463413, 'f': 24.489795918367342}}\n",
            "16  Losses {'ner': 143275.3044168949}\n",
            "Scores:  {'MONEY': {'p': 97.67441860465115, 'r': 94.73684210526315, 'f': 96.18320610687022}, 'ORG': {'p': 82.98766816143498, 'r': 86.3517060367454, 'f': 84.63627268829498}, 'PERSON': {'p': 85.80006004202943, 'r': 89.81772470144563, 'f': 87.7629356671273}, 'GPE': {'p': 90.04689942678479, 'r': 93.0032292787944, 'f': 91.50119142176331}, 'FAC': {'p': 57.14285714285714, 'r': 22.429906542056074, 'f': 32.21476510067114}, 'TIME': {'p': 81.92771084337349, 'r': 70.83333333333334, 'f': 75.97765363128491}, 'LOC': {'p': 78.69822485207101, 'r': 71.89189189189189, 'f': 75.14124293785311}, 'FOOD': {'p': 98.41897233201581, 'r': 98.55531367504453, 'f': 98.48709581726492}, 'DATE': {'p': 90.27845627747924, 'r': 91.75769612711024, 'f': 91.01206599359763}, 'ORDINAL': {'p': 89.91935483870968, 'r': 94.49152542372882, 'f': 92.14876033057851}, 'WORK_OF_ART': {'p': 54.87804878048781, 'r': 28.846153846153843, 'f': 37.81512605042017}, 'NORP': {'p': 95.13064133016627, 'r': 93.03135888501743, 'f': 94.06928948913682}, 'CARDINAL': {'p': 86.77551020408163, 'r': 92.19427580225499, 'f': 89.40285954583685}, 'PERCENT': {'p': 93.26923076923077, 'r': 93.26923076923077, 'f': 93.26923076923077}, 'QUANTITY': {'p': 97.2972972972973, 'r': 61.016949152542374, 'f': 75.00000000000001}, 'EVENT': {'p': 67.56756756756756, 'r': 44.642857142857146, 'f': 53.76344086021506}, 'LAW': {'p': 91.35802469135803, 'r': 77.89473684210526, 'f': 84.0909090909091}, 'LANGUAGE': {'p': 100.0, 'r': 40.909090909090914, 'f': 58.06451612903226}, 'PRODUCT': {'p': 77.77777777777779, 'r': 15.909090909090908, 'f': 26.41509433962264}}\n",
            "17  Losses {'ner': 143726.01626586914}\n",
            "Scores:  {'MONEY': {'p': 97.14285714285714, 'r': 93.79310344827586, 'f': 95.43859649122807}, 'ORG': {'p': 83.10648518815053, 'r': 86.28428927680798, 'f': 84.66557911908646}, 'PERSON': {'p': 85.94366197183099, 'r': 90.1063201417602, 'f': 87.9757785467128}, 'GPE': {'p': 90.18737672583826, 'r': 93.07888040712469, 'f': 91.61031805659906}, 'FAC': {'p': 56.52173913043478, 'r': 22.807017543859647, 'f': 32.49999999999999}, 'TIME': {'p': 82.55813953488372, 'r': 71.0, 'f': 76.34408602150538}, 'LOC': {'p': 78.45303867403315, 'r': 70.29702970297029, 'f': 74.15143603133158}, 'FOOD': {'p': 98.50159205843792, 'r': 98.61241327582974, 'f': 98.55697151424287}, 'DATE': {'p': 90.33594109526001, 'r': 91.94379391100702, 'f': 91.13277623026926}, 'ORDINAL': {'p': 90.15151515151516, 'r': 94.0711462450593, 'f': 92.06963249516441}, 'WORK_OF_ART': {'p': 57.47126436781609, 'r': 29.94011976047904, 'f': 39.370078740157474}, 'NORP': {'p': 95.34619750283768, 'r': 93.02325581395348, 'f': 94.17040358744394}, 'CARDINAL': {'p': 86.83602771362587, 'r': 92.08163265306123, 'f': 89.38193343898573}, 'PERCENT': {'p': 93.39622641509435, 'r': 93.39622641509435, 'f': 93.39622641509435}, 'QUANTITY': {'p': 97.61904761904762, 'r': 64.0625, 'f': 77.35849056603773}, 'EVENT': {'p': 68.42105263157895, 'r': 45.614035087719294, 'f': 54.736842105263165}, 'LAW': {'p': 91.86046511627907, 'r': 79.0, 'f': 84.94623655913979}, 'LANGUAGE': {'p': 100.0, 'r': 43.47826086956522, 'f': 60.60606060606061}, 'PRODUCT': {'p': 77.77777777777779, 'r': 15.217391304347828, 'f': 25.454545454545457}}\n",
            "18  Losses {'ner': 144025.36358976364}\n",
            "Scores:  {'MONEY': {'p': 97.26027397260275, 'r': 94.03973509933775, 'f': 95.62289562289563}, 'ORG': {'p': 83.14833501513623, 'r': 86.19246861924687, 'f': 84.64304057524397}, 'PERSON': {'p': 85.95415778251599, 'r': 90.1593514117976, 'f': 88.0065493246009}, 'GPE': {'p': 90.08419083255379, 'r': 93.0884485258579, 'f': 91.56168290943666}, 'FAC': {'p': 57.407407407407405, 'r': 24.8, 'f': 34.63687150837989}, 'TIME': {'p': 79.8941798941799, 'r': 70.56074766355141, 'f': 74.93796526054591}, 'LOC': {'p': 79.27461139896373, 'r': 71.16279069767441, 'f': 75.00000000000001}, 'FOOD': {'p': 98.56964062220634, 'r': 98.67549668874173, 'f': 98.62254025044723}, 'DATE': {'p': 90.36039947894051, 'r': 92.03892083149049, 'f': 91.19193689745838}, 'ORDINAL': {'p': 89.92805755395683, 'r': 93.98496240601504, 'f': 91.91176470588236}, 'WORK_OF_ART': {'p': 55.670103092783506, 'r': 30.681818181818183, 'f': 39.560439560439555}, 'NORP': {'p': 95.48387096774194, 'r': 93.1794333683106, 'f': 94.31757833244822}, 'CARDINAL': {'p': 86.74873280231716, 'r': 92.2247882986913, 'f': 89.40298507462686}, 'PERCENT': {'p': 93.75, 'r': 93.75, 'f': 93.75}, 'QUANTITY': {'p': 95.45454545454545, 'r': 62.68656716417911, 'f': 75.67567567567568}, 'EVENT': {'p': 70.73170731707317, 'r': 46.774193548387096, 'f': 56.310679611650485}, 'LAW': {'p': 92.3913043478261, 'r': 78.70370370370371, 'f': 85.00000000000001}, 'LANGUAGE': {'p': 90.9090909090909, 'r': 43.47826086956522, 'f': 58.82352941176471}, 'PRODUCT': {'p': 77.77777777777779, 'r': 14.583333333333334, 'f': 24.561403508771928}}\n",
            "19  Losses {'ner': 143700.4378786087}\n",
            "Scores:  {'MONEY': {'p': 97.33333333333334, 'r': 93.58974358974359, 'f': 95.42483660130719}, 'ORG': {'p': 83.1457984199186, 'r': 86.17866004962778, 'f': 84.63506762519799}, 'PERSON': {'p': 86.13861386138613, 'r': 90.19138755980862, 'f': 88.11842617841839}, 'GPE': {'p': 90.04405286343612, 'r': 92.95134151887221, 'f': 91.47460281942269}, 'FAC': {'p': 57.89473684210527, 'r': 25.581395348837212, 'f': 35.483870967741936}, 'TIME': {'p': 78.60696517412936, 'r': 70.53571428571429, 'f': 74.3529411764706}, 'LOC': {'p': 78.57142857142857, 'r': 70.51282051282051, 'f': 74.32432432432434}, 'FOOD': {'p': 98.57506361323155, 'r': 98.70901987429932, 'f': 98.64199626548972}, 'DATE': {'p': 90.41095890410958, 'r': 91.78255372945638, 'f': 91.09159347553324}, 'ORDINAL': {'p': 89.72602739726028, 'r': 94.24460431654677, 'f': 91.9298245614035}, 'WORK_OF_ART': {'p': 57.14285714285714, 'r': 32.432432432432435, 'f': 41.37931034482759}, 'NORP': {'p': 95.23809523809523, 'r': 93.1615460852329, 'f': 94.18837675350701}, 'CARDINAL': {'p': 87.04088704088704, 'r': 92.48895434462445, 'f': 89.6822563370225}, 'PERCENT': {'p': 94.0677966101695, 'r': 93.27731092436974, 'f': 93.67088607594938}, 'QUANTITY': {'p': 95.55555555555556, 'r': 62.31884057971014, 'f': 75.43859649122807}, 'EVENT': {'p': 71.42857142857143, 'r': 47.61904761904761, 'f': 57.14285714285714}, 'LAW': {'p': 92.92929292929293, 'r': 80.0, 'f': 85.98130841121495}, 'LANGUAGE': {'p': 92.85714285714286, 'r': 50.0, 'f': 65.0}, 'PRODUCT': {'p': 77.77777777777779, 'r': 13.725490196078432, 'f': 23.333333333333332}}\n"
          ]
        }
      ]
    },
    {
      "cell_type": "code",
      "metadata": {
        "colab": {
          "base_uri": "https://localhost:8080/",
          "height": 1000,
          "referenced_widgets": [
            "4893c871c3ff415cb1e2e2715f1e4df0",
            "b7932986fdc447d4a914141eabb0b432",
            "2adc00e2b2104da790ab8f2fbaf6a685"
          ]
        },
        "id": "f86gX6GQjPxr",
        "outputId": "c53b363c-0a34-4c09-a3b5-bb2c977553dd"
      },
      "source": [
        "f = FloatProgress(min=0, max=len(TEST_DATA))\n",
        "display(f)\n",
        "\n",
        "count = 0\n",
        "label_correct = 0\n",
        "total_prediction = 0\n",
        "\n",
        "print(\"Total:\", len(TEST_DATA))\n",
        "for text, annotations in (TEST_DATA):\n",
        "    doc = nlp(text)\n",
        "    f.value += 1\n",
        "\n",
        "    predicted = [(ent.text,ent.label_) for ent in doc.ents]\n",
        "\n",
        "    for p in predicted:\n",
        "      if p[1] == 'FOOD':\n",
        "        total_prediction +=1\n",
        "      if p[1] == 'FOOD' and p[0] in foods.iloc:\n",
        "        label_correct +=1\n",
        "\n",
        "    if count < 50:\n",
        "        displacy.render(nlp(text), jupyter=True, style='ent')\n",
        "    count += 1\n",
        "\n",
        "print(\"------------\\n\\nTotal de {} acertos de um total de {}\".format(label_correct, total_prediction ))"
      ],
      "execution_count": 28,
      "outputs": [
        {
          "output_type": "display_data",
          "data": {
            "application/vnd.jupyter.widget-view+json": {
              "model_id": "4893c871c3ff415cb1e2e2715f1e4df0",
              "version_minor": 0,
              "version_major": 2
            },
            "text/plain": [
              "FloatProgress(value=0.0, max=5250.0)"
            ]
          },
          "metadata": {}
        },
        {
          "output_type": "stream",
          "name": "stdout",
          "text": [
            "Total: 5250\n"
          ]
        },
        {
          "output_type": "display_data",
          "data": {
            "text/html": [
              "<span class=\"tex2jax_ignore\"><div class=\"entities\" style=\"line-height: 2.5; direction: ltr\">On \n",
              "<mark class=\"entity\" style=\"background: #bfe1d9; padding: 0.45em 0.6em; margin: 0 0.25em; line-height: 1; border-radius: 0.35em;\">\n",
              "    Monday\n",
              "    <span style=\"font-size: 0.8em; font-weight: bold; line-height: 1; border-radius: 0.35em; text-transform: uppercase; vertical-align: middle; margin-left: 0.5rem\">DATE</span>\n",
              "</mark>\n",
              ", the senator sent a letter to \n",
              "<mark class=\"entity\" style=\"background: #7aecec; padding: 0.45em 0.6em; margin: 0 0.25em; line-height: 1; border-radius: 0.35em;\">\n",
              "    the U. S. Office of Government Ethics\n",
              "    <span style=\"font-size: 0.8em; font-weight: bold; line-height: 1; border-radius: 0.35em; text-transform: uppercase; vertical-align: middle; margin-left: 0.5rem\">ORG</span>\n",
              "</mark>\n",
              " asking that \n",
              "<mark class=\"entity\" style=\"background: #7aecec; padding: 0.45em 0.6em; margin: 0 0.25em; line-height: 1; border-radius: 0.35em;\">\n",
              "    Mnuchin\n",
              "    <span style=\"font-size: 0.8em; font-weight: bold; line-height: 1; border-radius: 0.35em; text-transform: uppercase; vertical-align: middle; margin-left: 0.5rem\">ORG</span>\n",
              "</mark>\n",
              "’s remarks be investigated.</div></span>"
            ],
            "text/plain": [
              "<IPython.core.display.HTML object>"
            ]
          },
          "metadata": {}
        },
        {
          "output_type": "display_data",
          "data": {
            "text/html": [
              "<span class=\"tex2jax_ignore\"><div class=\"entities\" style=\"line-height: 2.5; direction: ltr\">I took a \n",
              "<mark class=\"entity\" style=\"background: #ddd; padding: 0.45em 0.6em; margin: 0 0.25em; line-height: 1; border-radius: 0.35em;\">\n",
              "    five cheese sauce\n",
              "    <span style=\"font-size: 0.8em; font-weight: bold; line-height: 1; border-radius: 0.35em; text-transform: uppercase; vertical-align: middle; margin-left: 0.5rem\">FOOD</span>\n",
              "</mark>\n",
              ", \n",
              "<mark class=\"entity\" style=\"background: #ddd; padding: 0.45em 0.6em; margin: 0 0.25em; line-height: 1; border-radius: 0.35em;\">\n",
              "    energy juice\n",
              "    <span style=\"font-size: 0.8em; font-weight: bold; line-height: 1; border-radius: 0.35em; text-transform: uppercase; vertical-align: middle; margin-left: 0.5rem\">FOOD</span>\n",
              "</mark>\n",
              " and \n",
              "<mark class=\"entity\" style=\"background: #ddd; padding: 0.45em 0.6em; margin: 0 0.25em; line-height: 1; border-radius: 0.35em;\">\n",
              "    stoneground horseradish mustard\n",
              "    <span style=\"font-size: 0.8em; font-weight: bold; line-height: 1; border-radius: 0.35em; text-transform: uppercase; vertical-align: middle; margin-left: 0.5rem\">FOOD</span>\n",
              "</mark>\n",
              " on the weekend</div></span>"
            ],
            "text/plain": [
              "<IPython.core.display.HTML object>"
            ]
          },
          "metadata": {}
        },
        {
          "output_type": "display_data",
          "data": {
            "text/html": [
              "<span class=\"tex2jax_ignore\"><div class=\"entities\" style=\"line-height: 2.5; direction: ltr\">It remains the largest covert operation in \n",
              "<mark class=\"entity\" style=\"background: #feca74; padding: 0.45em 0.6em; margin: 0 0.25em; line-height: 1; border-radius: 0.35em;\">\n",
              "    U. S.\n",
              "    <span style=\"font-size: 0.8em; font-weight: bold; line-height: 1; border-radius: 0.35em; text-transform: uppercase; vertical-align: middle; margin-left: 0.5rem\">GPE</span>\n",
              "</mark>\n",
              " history.</div></span>"
            ],
            "text/plain": [
              "<IPython.core.display.HTML object>"
            ]
          },
          "metadata": {}
        },
        {
          "output_type": "display_data",
          "data": {
            "text/html": [
              "<span class=\"tex2jax_ignore\"><div class=\"entities\" style=\"line-height: 2.5; direction: ltr\">Even at \n",
              "<mark class=\"entity\" style=\"background: #7aecec; padding: 0.45em 0.6em; margin: 0 0.25em; line-height: 1; border-radius: 0.35em;\">\n",
              "    the World Bank\n",
              "    <span style=\"font-size: 0.8em; font-weight: bold; line-height: 1; border-radius: 0.35em; text-transform: uppercase; vertical-align: middle; margin-left: 0.5rem\">ORG</span>\n",
              "</mark>\n",
              " and \n",
              "<mark class=\"entity\" style=\"background: #7aecec; padding: 0.45em 0.6em; margin: 0 0.25em; line-height: 1; border-radius: 0.35em;\">\n",
              "    USAID\n",
              "    <span style=\"font-size: 0.8em; font-weight: bold; line-height: 1; border-radius: 0.35em; text-transform: uppercase; vertical-align: middle; margin-left: 0.5rem\">ORG</span>\n",
              "</mark>\n",
              ", only a small portion of projects are subject to impact evaluations, agreed \n",
              "<mark class=\"entity\" style=\"background: #aa9cfc; padding: 0.45em 0.6em; margin: 0 0.25em; line-height: 1; border-radius: 0.35em;\">\n",
              "    Amanda Glassman\n",
              "    <span style=\"font-size: 0.8em; font-weight: bold; line-height: 1; border-radius: 0.35em; text-transform: uppercase; vertical-align: middle; margin-left: 0.5rem\">PERSON</span>\n",
              "</mark>\n",
              ", chief operating officer and senior fellow at \n",
              "<mark class=\"entity\" style=\"background: #7aecec; padding: 0.45em 0.6em; margin: 0 0.25em; line-height: 1; border-radius: 0.35em;\">\n",
              "    the Center for Global Development\n",
              "    <span style=\"font-size: 0.8em; font-weight: bold; line-height: 1; border-radius: 0.35em; text-transform: uppercase; vertical-align: middle; margin-left: 0.5rem\">ORG</span>\n",
              "</mark>\n",
              ".</div></span>"
            ],
            "text/plain": [
              "<IPython.core.display.HTML object>"
            ]
          },
          "metadata": {}
        },
        {
          "output_type": "display_data",
          "data": {
            "text/html": [
              "<span class=\"tex2jax_ignore\"><div class=\"entities\" style=\"line-height: 2.5; direction: ltr\">And as \n",
              "<mark class=\"entity\" style=\"background: #7aecec; padding: 0.45em 0.6em; margin: 0 0.25em; line-height: 1; border-radius: 0.35em;\">\n",
              "    NPR\n",
              "    <span style=\"font-size: 0.8em; font-weight: bold; line-height: 1; border-radius: 0.35em; text-transform: uppercase; vertical-align: middle; margin-left: 0.5rem\">ORG</span>\n",
              "</mark>\n",
              "’s \n",
              "<mark class=\"entity\" style=\"background: #aa9cfc; padding: 0.45em 0.6em; margin: 0 0.25em; line-height: 1; border-radius: 0.35em;\">\n",
              "    Gregory Warner\n",
              "    <span style=\"font-size: 0.8em; font-weight: bold; line-height: 1; border-radius: 0.35em; text-transform: uppercase; vertical-align: middle; margin-left: 0.5rem\">PERSON</span>\n",
              "</mark>\n",
              " explained, it’s rare for a famine to officially be declared, and can come after much of the damage has already occurred: ”Consider \n",
              "<mark class=\"entity\" style=\"background: #feca74; padding: 0.45em 0.6em; margin: 0 0.25em; line-height: 1; border-radius: 0.35em;\">\n",
              "    Somalia\n",
              "    <span style=\"font-size: 0.8em; font-weight: bold; line-height: 1; border-radius: 0.35em; text-transform: uppercase; vertical-align: middle; margin-left: 0.5rem\">GPE</span>\n",
              "</mark>\n",
              ", a country that’s been mired in war and chaos for \n",
              "<mark class=\"entity\" style=\"background: #bfe1d9; padding: 0.45em 0.6em; margin: 0 0.25em; line-height: 1; border-radius: 0.35em;\">\n",
              "    more than two decades\n",
              "    <span style=\"font-size: 0.8em; font-weight: bold; line-height: 1; border-radius: 0.35em; text-transform: uppercase; vertical-align: middle; margin-left: 0.5rem\">DATE</span>\n",
              "</mark>\n",
              ".</div></span>"
            ],
            "text/plain": [
              "<IPython.core.display.HTML object>"
            ]
          },
          "metadata": {}
        },
        {
          "output_type": "display_data",
          "data": {
            "text/html": [
              "<span class=\"tex2jax_ignore\"><div class=\"entities\" style=\"line-height: 2.5; direction: ltr\">And we’ve got to have the same patience,” he told \n",
              "<mark class=\"entity\" style=\"background: #7aecec; padding: 0.45em 0.6em; margin: 0 0.25em; line-height: 1; border-radius: 0.35em;\">\n",
              "    NPR\n",
              "    <span style=\"font-size: 0.8em; font-weight: bold; line-height: 1; border-radius: 0.35em; text-transform: uppercase; vertical-align: middle; margin-left: 0.5rem\">ORG</span>\n",
              "</mark>\n",
              ". ”</div></span>"
            ],
            "text/plain": [
              "<IPython.core.display.HTML object>"
            ]
          },
          "metadata": {}
        },
        {
          "output_type": "display_data",
          "data": {
            "text/html": [
              "<span class=\"tex2jax_ignore\"><div class=\"entities\" style=\"line-height: 2.5; direction: ltr\">he’s now a senior research fellow in public policy at \n",
              "<mark class=\"entity\" style=\"background: #7aecec; padding: 0.45em 0.6em; margin: 0 0.25em; line-height: 1; border-radius: 0.35em;\">\n",
              "    George Mason University\n",
              "    <span style=\"font-size: 0.8em; font-weight: bold; line-height: 1; border-radius: 0.35em; text-transform: uppercase; vertical-align: middle; margin-left: 0.5rem\">ORG</span>\n",
              "</mark>\n",
              "’s \n",
              "<mark class=\"entity\" style=\"background: #7aecec; padding: 0.45em 0.6em; margin: 0 0.25em; line-height: 1; border-radius: 0.35em;\">\n",
              "    Mercatus Center\n",
              "    <span style=\"font-size: 0.8em; font-weight: bold; line-height: 1; border-radius: 0.35em; text-transform: uppercase; vertical-align: middle; margin-left: 0.5rem\">ORG</span>\n",
              "</mark>\n",
              ", but was acting deputy commissioner of \n",
              "<mark class=\"entity\" style=\"background: #7aecec; padding: 0.45em 0.6em; margin: 0 0.25em; line-height: 1; border-radius: 0.35em;\">\n",
              "    the Social Security Administration\n",
              "    <span style=\"font-size: 0.8em; font-weight: bold; line-height: 1; border-radius: 0.35em; text-transform: uppercase; vertical-align: middle; margin-left: 0.5rem\">ORG</span>\n",
              "</mark>\n",
              " back then.</div></span>"
            ],
            "text/plain": [
              "<IPython.core.display.HTML object>"
            ]
          },
          "metadata": {}
        },
        {
          "output_type": "display_data",
          "data": {
            "text/html": [
              "<span class=\"tex2jax_ignore\"><div class=\"entities\" style=\"line-height: 2.5; direction: ltr\">I made a \n",
              "<mark class=\"entity\" style=\"background: #ddd; padding: 0.45em 0.6em; margin: 0 0.25em; line-height: 1; border-radius: 0.35em;\">\n",
              "    christmas tree lollipop\n",
              "    <span style=\"font-size: 0.8em; font-weight: bold; line-height: 1; border-radius: 0.35em; text-transform: uppercase; vertical-align: middle; margin-left: 0.5rem\">FOOD</span>\n",
              "</mark>\n",
              " and \n",
              "<mark class=\"entity\" style=\"background: #ddd; padding: 0.45em 0.6em; margin: 0 0.25em; line-height: 1; border-radius: 0.35em;\">\n",
              "    plant powered patties\n",
              "    <span style=\"font-size: 0.8em; font-weight: bold; line-height: 1; border-radius: 0.35em; text-transform: uppercase; vertical-align: middle; margin-left: 0.5rem\">FOOD</span>\n",
              "</mark>\n",
              " for lunch</div></span>"
            ],
            "text/plain": [
              "<IPython.core.display.HTML object>"
            ]
          },
          "metadata": {}
        },
        {
          "output_type": "display_data",
          "data": {
            "text/html": [
              "<span class=\"tex2jax_ignore\"><div class=\"entities\" style=\"line-height: 2.5; direction: ltr\">I just ate a \n",
              "<mark class=\"entity\" style=\"background: #ddd; padding: 0.45em 0.6em; margin: 0 0.25em; line-height: 1; border-radius: 0.35em;\">\n",
              "    real butter popcorn\n",
              "    <span style=\"font-size: 0.8em; font-weight: bold; line-height: 1; border-radius: 0.35em; text-transform: uppercase; vertical-align: middle; margin-left: 0.5rem\">FOOD</span>\n",
              "</mark>\n",
              "</div></span>"
            ],
            "text/plain": [
              "<IPython.core.display.HTML object>"
            ]
          },
          "metadata": {}
        },
        {
          "output_type": "display_data",
          "data": {
            "text/html": [
              "<span class=\"tex2jax_ignore\"><div class=\"entities\" style=\"line-height: 2.5; direction: ltr\">He called on those who have not been arrested to travel to \n",
              "<mark class=\"entity\" style=\"background: #feca74; padding: 0.45em 0.6em; margin: 0 0.25em; line-height: 1; border-radius: 0.35em;\">\n",
              "    the U. S.\n",
              "    <span style=\"font-size: 0.8em; font-weight: bold; line-height: 1; border-radius: 0.35em; text-transform: uppercase; vertical-align: middle; margin-left: 0.5rem\">GPE</span>\n",
              "</mark>\n",
              " and present themselves.</div></span>"
            ],
            "text/plain": [
              "<IPython.core.display.HTML object>"
            ]
          },
          "metadata": {}
        },
        {
          "output_type": "display_data",
          "data": {
            "text/html": [
              "<span class=\"tex2jax_ignore\"><div class=\"entities\" style=\"line-height: 2.5; direction: ltr\">And once \n",
              "<mark class=\"entity\" style=\"background: #e4e7d2; padding: 0.45em 0.6em; margin: 0 0.25em; line-height: 1; border-radius: 0.35em;\">\n",
              "    one\n",
              "    <span style=\"font-size: 0.8em; font-weight: bold; line-height: 1; border-radius: 0.35em; text-transform: uppercase; vertical-align: middle; margin-left: 0.5rem\">CARDINAL</span>\n",
              "</mark>\n",
              " whale gets lost, the rest of the pod can follow into the same danger, led by that whale’s distress calls.</div></span>"
            ],
            "text/plain": [
              "<IPython.core.display.HTML object>"
            ]
          },
          "metadata": {}
        },
        {
          "output_type": "display_data",
          "data": {
            "text/html": [
              "<span class=\"tex2jax_ignore\"><div class=\"entities\" style=\"line-height: 2.5; direction: ltr\">If \n",
              "<mark class=\"entity\" style=\"background: #feca74; padding: 0.45em 0.6em; margin: 0 0.25em; line-height: 1; border-radius: 0.35em;\">\n",
              "    Iraq\n",
              "    <span style=\"font-size: 0.8em; font-weight: bold; line-height: 1; border-radius: 0.35em; text-transform: uppercase; vertical-align: middle; margin-left: 0.5rem\">GPE</span>\n",
              "</mark>\n",
              " reverts to the sectarian divisions so prevalent before the rise of \n",
              "<mark class=\"entity\" style=\"background: #7aecec; padding: 0.45em 0.6em; margin: 0 0.25em; line-height: 1; border-radius: 0.35em;\">\n",
              "    ISIS\n",
              "    <span style=\"font-size: 0.8em; font-weight: bold; line-height: 1; border-radius: 0.35em; text-transform: uppercase; vertical-align: middle; margin-left: 0.5rem\">ORG</span>\n",
              "</mark>\n",
              ", that could undermine any battlefield victory over the extremist group. \n",
              "<mark class=\"entity\" style=\"background: #e4e7d2; padding: 0.45em 0.6em; margin: 0 0.25em; line-height: 1; border-radius: 0.35em;\">\n",
              "    5\n",
              "    <span style=\"font-size: 0.8em; font-weight: bold; line-height: 1; border-radius: 0.35em; text-transform: uppercase; vertical-align: middle; margin-left: 0.5rem\">CARDINAL</span>\n",
              "</mark>\n",
              ".</div></span>"
            ],
            "text/plain": [
              "<IPython.core.display.HTML object>"
            ]
          },
          "metadata": {}
        },
        {
          "output_type": "display_data",
          "data": {
            "text/html": [
              "<span class=\"tex2jax_ignore\"><div class=\"entities\" style=\"line-height: 2.5; direction: ltr\">I ate \n",
              "<mark class=\"entity\" style=\"background: #ddd; padding: 0.45em 0.6em; margin: 0 0.25em; line-height: 1; border-radius: 0.35em;\">\n",
              "    marshmallows miniature\n",
              "    <span style=\"font-size: 0.8em; font-weight: bold; line-height: 1; border-radius: 0.35em; text-transform: uppercase; vertical-align: middle; margin-left: 0.5rem\">FOOD</span>\n",
              "</mark>\n",
              " and \n",
              "<mark class=\"entity\" style=\"background: #ddd; padding: 0.45em 0.6em; margin: 0 0.25em; line-height: 1; border-radius: 0.35em;\">\n",
              "    original organic miso\n",
              "    <span style=\"font-size: 0.8em; font-weight: bold; line-height: 1; border-radius: 0.35em; text-transform: uppercase; vertical-align: middle; margin-left: 0.5rem\">FOOD</span>\n",
              "</mark>\n",
              "</div></span>"
            ],
            "text/plain": [
              "<IPython.core.display.HTML object>"
            ]
          },
          "metadata": {}
        },
        {
          "output_type": "display_data",
          "data": {
            "text/html": [
              "<span class=\"tex2jax_ignore\"><div class=\"entities\" style=\"line-height: 2.5; direction: ltr\">I made a \n",
              "<mark class=\"entity\" style=\"background: #ddd; padding: 0.45em 0.6em; margin: 0 0.25em; line-height: 1; border-radius: 0.35em;\">\n",
              "    baby clams\n",
              "    <span style=\"font-size: 0.8em; font-weight: bold; line-height: 1; border-radius: 0.35em; text-transform: uppercase; vertical-align: middle; margin-left: 0.5rem\">FOOD</span>\n",
              "</mark>\n",
              " and \n",
              "<mark class=\"entity\" style=\"background: #ddd; padding: 0.45em 0.6em; margin: 0 0.25em; line-height: 1; border-radius: 0.35em;\">\n",
              "    organic plain bagels\n",
              "    <span style=\"font-size: 0.8em; font-weight: bold; line-height: 1; border-radius: 0.35em; text-transform: uppercase; vertical-align: middle; margin-left: 0.5rem\">FOOD</span>\n",
              "</mark>\n",
              " for lunch</div></span>"
            ],
            "text/plain": [
              "<IPython.core.display.HTML object>"
            ]
          },
          "metadata": {}
        },
        {
          "output_type": "display_data",
          "data": {
            "text/html": [
              "<span class=\"tex2jax_ignore\"><div class=\"entities\" style=\"line-height: 2.5; direction: ltr\">\n",
              "<mark class=\"entity\" style=\"background: #bfe1d9; padding: 0.45em 0.6em; margin: 0 0.25em; line-height: 1; border-radius: 0.35em;\">\n",
              "    A year ago this week\n",
              "    <span style=\"font-size: 0.8em; font-weight: bold; line-height: 1; border-radius: 0.35em; text-transform: uppercase; vertical-align: middle; margin-left: 0.5rem\">DATE</span>\n",
              "</mark>\n",
              ", the artist \n",
              "<mark class=\"entity\" style=\"background: #aa9cfc; padding: 0.45em 0.6em; margin: 0 0.25em; line-height: 1; border-radius: 0.35em;\">\n",
              "    Prince\n",
              "    <span style=\"font-size: 0.8em; font-weight: bold; line-height: 1; border-radius: 0.35em; text-transform: uppercase; vertical-align: middle; margin-left: 0.5rem\">PERSON</span>\n",
              "</mark>\n",
              " was found dead at \n",
              "<mark class=\"entity\" style=\"background: #ddd; padding: 0.45em 0.6em; margin: 0 0.25em; line-height: 1; border-radius: 0.35em;\">\n",
              "    Paisley Park\n",
              "    <span style=\"font-size: 0.8em; font-weight: bold; line-height: 1; border-radius: 0.35em; text-transform: uppercase; vertical-align: middle; margin-left: 0.5rem\">FAC</span>\n",
              "</mark>\n",
              ", his home, studio, and party space in the \n",
              "<mark class=\"entity\" style=\"background: #feca74; padding: 0.45em 0.6em; margin: 0 0.25em; line-height: 1; border-radius: 0.35em;\">\n",
              "    Minneapolis\n",
              "    <span style=\"font-size: 0.8em; font-weight: bold; line-height: 1; border-radius: 0.35em; text-transform: uppercase; vertical-align: middle; margin-left: 0.5rem\">GPE</span>\n",
              "</mark>\n",
              " suburb of \n",
              "<mark class=\"entity\" style=\"background: #feca74; padding: 0.45em 0.6em; margin: 0 0.25em; line-height: 1; border-radius: 0.35em;\">\n",
              "    Chanhassen\n",
              "    <span style=\"font-size: 0.8em; font-weight: bold; line-height: 1; border-radius: 0.35em; text-transform: uppercase; vertical-align: middle; margin-left: 0.5rem\">GPE</span>\n",
              "</mark>\n",
              ".</div></span>"
            ],
            "text/plain": [
              "<IPython.core.display.HTML object>"
            ]
          },
          "metadata": {}
        },
        {
          "output_type": "display_data",
          "data": {
            "text/html": [
              "<span class=\"tex2jax_ignore\"><div class=\"entities\" style=\"line-height: 2.5; direction: ltr\">I took a \n",
              "<mark class=\"entity\" style=\"background: #ddd; padding: 0.45em 0.6em; margin: 0 0.25em; line-height: 1; border-radius: 0.35em;\">\n",
              "    premium gold pineapple\n",
              "    <span style=\"font-size: 0.8em; font-weight: bold; line-height: 1; border-radius: 0.35em; text-transform: uppercase; vertical-align: middle; margin-left: 0.5rem\">FOOD</span>\n",
              "</mark>\n",
              ", \n",
              "<mark class=\"entity\" style=\"background: #ddd; padding: 0.45em 0.6em; margin: 0 0.25em; line-height: 1; border-radius: 0.35em;\">\n",
              "    fresh organic vinaigrette\n",
              "    <span style=\"font-size: 0.8em; font-weight: bold; line-height: 1; border-radius: 0.35em; text-transform: uppercase; vertical-align: middle; margin-left: 0.5rem\">FOOD</span>\n",
              "</mark>\n",
              " and \n",
              "<mark class=\"entity\" style=\"background: #ddd; padding: 0.45em 0.6em; margin: 0 0.25em; line-height: 1; border-radius: 0.35em;\">\n",
              "    bouquets lollipop\n",
              "    <span style=\"font-size: 0.8em; font-weight: bold; line-height: 1; border-radius: 0.35em; text-transform: uppercase; vertical-align: middle; margin-left: 0.5rem\">FOOD</span>\n",
              "</mark>\n",
              " on the weekend</div></span>"
            ],
            "text/plain": [
              "<IPython.core.display.HTML object>"
            ]
          },
          "metadata": {}
        },
        {
          "output_type": "display_data",
          "data": {
            "text/html": [
              "<span class=\"tex2jax_ignore\"><div class=\"entities\" style=\"line-height: 2.5; direction: ltr\">\n",
              "<mark class=\"entity\" style=\"background: #7aecec; padding: 0.45em 0.6em; margin: 0 0.25em; line-height: 1; border-radius: 0.35em;\">\n",
              "    estas obstrucciones desvían\n",
              "    <span style=\"font-size: 0.8em; font-weight: bold; line-height: 1; border-radius: 0.35em; text-transform: uppercase; vertical-align: middle; margin-left: 0.5rem\">ORG</span>\n",
              "</mark>\n",
              " el agua y \n",
              "<mark class=\"entity\" style=\"background: #ddd; padding: 0.45em 0.6em; margin: 0 0.25em; line-height: 1; border-radius: 0.35em;\">\n",
              "    empeoran las inundaciones\n",
              "    <span style=\"font-size: 0.8em; font-weight: bold; line-height: 1; border-radius: 0.35em; text-transform: uppercase; vertical-align: middle; margin-left: 0.5rem\">FOOD</span>\n",
              "</mark>\n",
              ". ”</div></span>"
            ],
            "text/plain": [
              "<IPython.core.display.HTML object>"
            ]
          },
          "metadata": {}
        },
        {
          "output_type": "display_data",
          "data": {
            "text/html": [
              "<span class=\"tex2jax_ignore\"><div class=\"entities\" style=\"line-height: 2.5; direction: ltr\">I devoured a \n",
              "<mark class=\"entity\" style=\"background: #ddd; padding: 0.45em 0.6em; margin: 0 0.25em; line-height: 1; border-radius: 0.35em;\">\n",
              "    brownies liquid batter\n",
              "    <span style=\"font-size: 0.8em; font-weight: bold; line-height: 1; border-radius: 0.35em; text-transform: uppercase; vertical-align: middle; margin-left: 0.5rem\">FOOD</span>\n",
              "</mark>\n",
              ", \n",
              "<mark class=\"entity\" style=\"background: #ddd; padding: 0.45em 0.6em; margin: 0 0.25em; line-height: 1; border-radius: 0.35em;\">\n",
              "    pickled champignons\n",
              "    <span style=\"font-size: 0.8em; font-weight: bold; line-height: 1; border-radius: 0.35em; text-transform: uppercase; vertical-align: middle; margin-left: 0.5rem\">FOOD</span>\n",
              "</mark>\n",
              " and \n",
              "<mark class=\"entity\" style=\"background: #ddd; padding: 0.45em 0.6em; margin: 0 0.25em; line-height: 1; border-radius: 0.35em;\">\n",
              "    rye boule\n",
              "    <span style=\"font-size: 0.8em; font-weight: bold; line-height: 1; border-radius: 0.35em; text-transform: uppercase; vertical-align: middle; margin-left: 0.5rem\">FOOD</span>\n",
              "</mark>\n",
              "</div></span>"
            ],
            "text/plain": [
              "<IPython.core.display.HTML object>"
            ]
          },
          "metadata": {}
        },
        {
          "output_type": "display_data",
          "data": {
            "text/html": [
              "<span class=\"tex2jax_ignore\"><div class=\"entities\" style=\"line-height: 2.5; direction: ltr\">The frozen trucker case and the disabled kids case caused \n",
              "<mark class=\"entity\" style=\"background: #c887fb; padding: 0.45em 0.6em; margin: 0 0.25em; line-height: 1; border-radius: 0.35em;\">\n",
              "    Democratic\n",
              "    <span style=\"font-size: 0.8em; font-weight: bold; line-height: 1; border-radius: 0.35em; text-transform: uppercase; vertical-align: middle; margin-left: 0.5rem\">NORP</span>\n",
              "</mark>\n",
              " Sen. \n",
              "<mark class=\"entity\" style=\"background: #aa9cfc; padding: 0.45em 0.6em; margin: 0 0.25em; line-height: 1; border-radius: 0.35em;\">\n",
              "    Dick Durbin\n",
              "    <span style=\"font-size: 0.8em; font-weight: bold; line-height: 1; border-radius: 0.35em; text-transform: uppercase; vertical-align: middle; margin-left: 0.5rem\">PERSON</span>\n",
              "</mark>\n",
              " of \n",
              "<mark class=\"entity\" style=\"background: #feca74; padding: 0.45em 0.6em; margin: 0 0.25em; line-height: 1; border-radius: 0.35em;\">\n",
              "    Illinois\n",
              "    <span style=\"font-size: 0.8em; font-weight: bold; line-height: 1; border-radius: 0.35em; text-transform: uppercase; vertical-align: middle; margin-left: 0.5rem\">GPE</span>\n",
              "</mark>\n",
              " to lament that he was having difficulty finding evidence of a ”beating heart” in \n",
              "<mark class=\"entity\" style=\"background: #7aecec; padding: 0.45em 0.6em; margin: 0 0.25em; line-height: 1; border-radius: 0.35em;\">\n",
              "    Gorsuch\n",
              "    <span style=\"font-size: 0.8em; font-weight: bold; line-height: 1; border-radius: 0.35em; text-transform: uppercase; vertical-align: middle; margin-left: 0.5rem\">ORG</span>\n",
              "</mark>\n",
              "’s jurisprudence.</div></span>"
            ],
            "text/plain": [
              "<IPython.core.display.HTML object>"
            ]
          },
          "metadata": {}
        },
        {
          "output_type": "display_data",
          "data": {
            "text/html": [
              "<span class=\"tex2jax_ignore\"><div class=\"entities\" style=\"line-height: 2.5; direction: ltr\">There was the occasional — very occasional — model who wasn’t white in \n",
              "<mark class=\"entity\" style=\"background: #bfe1d9; padding: 0.45em 0.6em; margin: 0 0.25em; line-height: 1; border-radius: 0.35em;\">\n",
              "    the 50s\n",
              "    <span style=\"font-size: 0.8em; font-weight: bold; line-height: 1; border-radius: 0.35em; text-transform: uppercase; vertical-align: middle; margin-left: 0.5rem\">DATE</span>\n",
              "</mark>\n",
              " and \n",
              "<mark class=\"entity\" style=\"background: #bfe1d9; padding: 0.45em 0.6em; margin: 0 0.25em; line-height: 1; border-radius: 0.35em;\">\n",
              "    early 60s\n",
              "    <span style=\"font-size: 0.8em; font-weight: bold; line-height: 1; border-radius: 0.35em; text-transform: uppercase; vertical-align: middle; margin-left: 0.5rem\">DATE</span>\n",
              "</mark>\n",
              " on runways.</div></span>"
            ],
            "text/plain": [
              "<IPython.core.display.HTML object>"
            ]
          },
          "metadata": {}
        },
        {
          "output_type": "display_data",
          "data": {
            "text/html": [
              "<span class=\"tex2jax_ignore\"><div class=\"entities\" style=\"line-height: 2.5; direction: ltr\">When I was having lunch I ate a \n",
              "<mark class=\"entity\" style=\"background: #ddd; padding: 0.45em 0.6em; margin: 0 0.25em; line-height: 1; border-radius: 0.35em;\">\n",
              "    candy bar\n",
              "    <span style=\"font-size: 0.8em; font-weight: bold; line-height: 1; border-radius: 0.35em; text-transform: uppercase; vertical-align: middle; margin-left: 0.5rem\">FOOD</span>\n",
              "</mark>\n",
              "</div></span>"
            ],
            "text/plain": [
              "<IPython.core.display.HTML object>"
            ]
          },
          "metadata": {}
        },
        {
          "output_type": "display_data",
          "data": {
            "text/html": [
              "<span class=\"tex2jax_ignore\"><div class=\"entities\" style=\"line-height: 2.5; direction: ltr\">The entwined destinies of the gangster’s bastard and a \n",
              "<mark class=\"entity\" style=\"background: #e4e7d2; padding: 0.45em 0.6em; margin: 0 0.25em; line-height: 1; border-radius: 0.35em;\">\n",
              "    second\n",
              "    <span style=\"font-size: 0.8em; font-weight: bold; line-height: 1; border-radius: 0.35em; text-transform: uppercase; vertical-align: middle; margin-left: 0.5rem\">ORDINAL</span>\n",
              "</mark>\n",
              " child, the son of a preacher man, become an engine that drives the story forward.</div></span>"
            ],
            "text/plain": [
              "<IPython.core.display.HTML object>"
            ]
          },
          "metadata": {}
        },
        {
          "output_type": "display_data",
          "data": {
            "text/html": [
              "<span class=\"tex2jax_ignore\"><div class=\"entities\" style=\"line-height: 2.5; direction: ltr\">Updated at \n",
              "<mark class=\"entity\" style=\"background: #bfe1d9; padding: 0.45em 0.6em; margin: 0 0.25em; line-height: 1; border-radius: 0.35em;\">\n",
              "    8:40 p. m. ET\n",
              "    <span style=\"font-size: 0.8em; font-weight: bold; line-height: 1; border-radius: 0.35em; text-transform: uppercase; vertical-align: middle; margin-left: 0.5rem\">TIME</span>\n",
              "</mark>\n",
              " \n",
              "<mark class=\"entity\" style=\"background: #bfe1d9; padding: 0.45em 0.6em; margin: 0 0.25em; line-height: 1; border-radius: 0.35em;\">\n",
              "    March 30\n",
              "    <span style=\"font-size: 0.8em; font-weight: bold; line-height: 1; border-radius: 0.35em; text-transform: uppercase; vertical-align: middle; margin-left: 0.5rem\">DATE</span>\n",
              "</mark>\n",
              ", On \n",
              "<mark class=\"entity\" style=\"background: #bfe1d9; padding: 0.45em 0.6em; margin: 0 0.25em; line-height: 1; border-radius: 0.35em;\">\n",
              "    Saturday morning\n",
              "    <span style=\"font-size: 0.8em; font-weight: bold; line-height: 1; border-radius: 0.35em; text-transform: uppercase; vertical-align: middle; margin-left: 0.5rem\">TIME</span>\n",
              "</mark>\n",
              " a team of \n",
              "<mark class=\"entity\" style=\"background: #e4e7d2; padding: 0.45em 0.6em; margin: 0 0.25em; line-height: 1; border-radius: 0.35em;\">\n",
              "    six\n",
              "    <span style=\"font-size: 0.8em; font-weight: bold; line-height: 1; border-radius: 0.35em; text-transform: uppercase; vertical-align: middle; margin-left: 0.5rem\">CARDINAL</span>\n",
              "</mark>\n",
              " aid workers from \n",
              "<mark class=\"entity\" style=\"background: #7aecec; padding: 0.45em 0.6em; margin: 0 0.25em; line-height: 1; border-radius: 0.35em;\">\n",
              "    the Grassroots Education and Development Organisation\n",
              "    <span style=\"font-size: 0.8em; font-weight: bold; line-height: 1; border-radius: 0.35em; text-transform: uppercase; vertical-align: middle; margin-left: 0.5rem\">ORG</span>\n",
              "</mark>\n",
              " in \n",
              "<mark class=\"entity\" style=\"background: #feca74; padding: 0.45em 0.6em; margin: 0 0.25em; line-height: 1; border-radius: 0.35em;\">\n",
              "    South Sudan\n",
              "    <span style=\"font-size: 0.8em; font-weight: bold; line-height: 1; border-radius: 0.35em; text-transform: uppercase; vertical-align: middle; margin-left: 0.5rem\">GPE</span>\n",
              "</mark>\n",
              " decided to get an early start on \n",
              "<mark class=\"entity\" style=\"background: #bfe1d9; padding: 0.45em 0.6em; margin: 0 0.25em; line-height: 1; border-radius: 0.35em;\">\n",
              "    their day\n",
              "    <span style=\"font-size: 0.8em; font-weight: bold; line-height: 1; border-radius: 0.35em; text-transform: uppercase; vertical-align: middle; margin-left: 0.5rem\">DATE</span>\n",
              "</mark>\n",
              ".</div></span>"
            ],
            "text/plain": [
              "<IPython.core.display.HTML object>"
            ]
          },
          "metadata": {}
        },
        {
          "output_type": "display_data",
          "data": {
            "text/html": [
              "<span class=\"tex2jax_ignore\"><div class=\"entities\" style=\"line-height: 2.5; direction: ltr\">A slew of ”alternative facts” — in the words of \n",
              "<mark class=\"entity\" style=\"background: #7aecec; padding: 0.45em 0.6em; margin: 0 0.25em; line-height: 1; border-radius: 0.35em;\">\n",
              "    Trump\n",
              "    <span style=\"font-size: 0.8em; font-weight: bold; line-height: 1; border-radius: 0.35em; text-transform: uppercase; vertical-align: middle; margin-left: 0.5rem\">ORG</span>\n",
              "</mark>\n",
              " adviser \n",
              "<mark class=\"entity\" style=\"background: #aa9cfc; padding: 0.45em 0.6em; margin: 0 0.25em; line-height: 1; border-radius: 0.35em;\">\n",
              "    Kellyanne Conway\n",
              "    <span style=\"font-size: 0.8em; font-weight: bold; line-height: 1; border-radius: 0.35em; text-transform: uppercase; vertical-align: middle; margin-left: 0.5rem\">PERSON</span>\n",
              "</mark>\n",
              " — have been perpetuated by the \n",
              "<mark class=\"entity\" style=\"background: #aa9cfc; padding: 0.45em 0.6em; margin: 0 0.25em; line-height: 1; border-radius: 0.35em;\">\n",
              "    Trump\n",
              "    <span style=\"font-size: 0.8em; font-weight: bold; line-height: 1; border-radius: 0.35em; text-transform: uppercase; vertical-align: middle; margin-left: 0.5rem\">PERSON</span>\n",
              "</mark>\n",
              " administration since taking office.</div></span>"
            ],
            "text/plain": [
              "<IPython.core.display.HTML object>"
            ]
          },
          "metadata": {}
        },
        {
          "output_type": "display_data",
          "data": {
            "text/html": [
              "<span class=\"tex2jax_ignore\"><div class=\"entities\" style=\"line-height: 2.5; direction: ltr\">The documents suggest the \n",
              "<mark class=\"entity\" style=\"background: #7aecec; padding: 0.45em 0.6em; margin: 0 0.25em; line-height: 1; border-radius: 0.35em;\">\n",
              "    CIA\n",
              "    <span style=\"font-size: 0.8em; font-weight: bold; line-height: 1; border-radius: 0.35em; text-transform: uppercase; vertical-align: middle; margin-left: 0.5rem\">ORG</span>\n",
              "</mark>\n",
              " has been exploiting vulnerabilities and not telling companies about them.</div></span>"
            ],
            "text/plain": [
              "<IPython.core.display.HTML object>"
            ]
          },
          "metadata": {}
        },
        {
          "output_type": "display_data",
          "data": {
            "text/html": [
              "<span class=\"tex2jax_ignore\"><div class=\"entities\" style=\"line-height: 2.5; direction: ltr\">\n",
              "<mark class=\"entity\" style=\"background: #7aecec; padding: 0.45em 0.6em; margin: 0 0.25em; line-height: 1; border-radius: 0.35em;\">\n",
              "    Trump\n",
              "    <span style=\"font-size: 0.8em; font-weight: bold; line-height: 1; border-radius: 0.35em; text-transform: uppercase; vertical-align: middle; margin-left: 0.5rem\">ORG</span>\n",
              "</mark>\n",
              " has been trying for \n",
              "<mark class=\"entity\" style=\"background: #bfe1d9; padding: 0.45em 0.6em; margin: 0 0.25em; line-height: 1; border-radius: 0.35em;\">\n",
              "    a decade\n",
              "    <span style=\"font-size: 0.8em; font-weight: bold; line-height: 1; border-radius: 0.35em; text-transform: uppercase; vertical-align: middle; margin-left: 0.5rem\">DATE</span>\n",
              "</mark>\n",
              " to nail down trademarks in \n",
              "<mark class=\"entity\" style=\"background: #feca74; padding: 0.45em 0.6em; margin: 0 0.25em; line-height: 1; border-radius: 0.35em;\">\n",
              "    China\n",
              "    <span style=\"font-size: 0.8em; font-weight: bold; line-height: 1; border-radius: 0.35em; text-transform: uppercase; vertical-align: middle; margin-left: 0.5rem\">GPE</span>\n",
              "</mark>\n",
              " for a wide range of goods and services, including pet care products, lingerie and computer software.</div></span>"
            ],
            "text/plain": [
              "<IPython.core.display.HTML object>"
            ]
          },
          "metadata": {}
        },
        {
          "output_type": "display_data",
          "data": {
            "text/html": [
              "<span class=\"tex2jax_ignore\"><div class=\"entities\" style=\"line-height: 2.5; direction: ltr\">The \n",
              "<mark class=\"entity\" style=\"background: #c887fb; padding: 0.45em 0.6em; margin: 0 0.25em; line-height: 1; border-radius: 0.35em;\">\n",
              "    Mexican\n",
              "    <span style=\"font-size: 0.8em; font-weight: bold; line-height: 1; border-radius: 0.35em; text-transform: uppercase; vertical-align: middle; margin-left: 0.5rem\">NORP</span>\n",
              "</mark>\n",
              " government should be concerned about the illegals who went to \n",
              "<mark class=\"entity\" style=\"background: #feca74; padding: 0.45em 0.6em; margin: 0 0.25em; line-height: 1; border-radius: 0.35em;\">\n",
              "    the U. S.\n",
              "    <span style=\"font-size: 0.8em; font-weight: bold; line-height: 1; border-radius: 0.35em; text-transform: uppercase; vertical-align: middle; margin-left: 0.5rem\">GPE</span>\n",
              "</mark>\n",
              " and the lack of work here in \n",
              "<mark class=\"entity\" style=\"background: #feca74; padding: 0.45em 0.6em; margin: 0 0.25em; line-height: 1; border-radius: 0.35em;\">\n",
              "    Mexico\n",
              "    <span style=\"font-size: 0.8em; font-weight: bold; line-height: 1; border-radius: 0.35em; text-transform: uppercase; vertical-align: middle; margin-left: 0.5rem\">GPE</span>\n",
              "</mark>\n",
              ".</div></span>"
            ],
            "text/plain": [
              "<IPython.core.display.HTML object>"
            ]
          },
          "metadata": {}
        },
        {
          "output_type": "display_data",
          "data": {
            "text/html": [
              "<span class=\"tex2jax_ignore\"><div class=\"entities\" style=\"line-height: 2.5; direction: ltr\">I took a \n",
              "<mark class=\"entity\" style=\"background: #ddd; padding: 0.45em 0.6em; margin: 0 0.25em; line-height: 1; border-radius: 0.35em;\">\n",
              "    lemon ginger cider\n",
              "    <span style=\"font-size: 0.8em; font-weight: bold; line-height: 1; border-radius: 0.35em; text-transform: uppercase; vertical-align: middle; margin-left: 0.5rem\">FOOD</span>\n",
              "</mark>\n",
              ", \n",
              "<mark class=\"entity\" style=\"background: #ddd; padding: 0.45em 0.6em; margin: 0 0.25em; line-height: 1; border-radius: 0.35em;\">\n",
              "    cookie butter\n",
              "    <span style=\"font-size: 0.8em; font-weight: bold; line-height: 1; border-radius: 0.35em; text-transform: uppercase; vertical-align: middle; margin-left: 0.5rem\">FOOD</span>\n",
              "</mark>\n",
              " and \n",
              "<mark class=\"entity\" style=\"background: #ddd; padding: 0.45em 0.6em; margin: 0 0.25em; line-height: 1; border-radius: 0.35em;\">\n",
              "    margarita party ball\n",
              "    <span style=\"font-size: 0.8em; font-weight: bold; line-height: 1; border-radius: 0.35em; text-transform: uppercase; vertical-align: middle; margin-left: 0.5rem\">FOOD</span>\n",
              "</mark>\n",
              " on the weekend</div></span>"
            ],
            "text/plain": [
              "<IPython.core.display.HTML object>"
            ]
          },
          "metadata": {}
        },
        {
          "output_type": "display_data",
          "data": {
            "text/html": [
              "<span class=\"tex2jax_ignore\"><div class=\"entities\" style=\"line-height: 2.5; direction: ltr\">It’s a pattern cities and towns are seeing across the state and across the country, particularly in \n",
              "<mark class=\"entity\" style=\"background: #ff9561; padding: 0.45em 0.6em; margin: 0 0.25em; line-height: 1; border-radius: 0.35em;\">\n",
              "    New England\n",
              "    <span style=\"font-size: 0.8em; font-weight: bold; line-height: 1; border-radius: 0.35em; text-transform: uppercase; vertical-align: middle; margin-left: 0.5rem\">LOC</span>\n",
              "</mark>\n",
              " and \n",
              "<mark class=\"entity\" style=\"background: #ff9561; padding: 0.45em 0.6em; margin: 0 0.25em; line-height: 1; border-radius: 0.35em;\">\n",
              "    the Rust Belt\n",
              "    <span style=\"font-size: 0.8em; font-weight: bold; line-height: 1; border-radius: 0.35em; text-transform: uppercase; vertical-align: middle; margin-left: 0.5rem\">LOC</span>\n",
              "</mark>\n",
              " states.</div></span>"
            ],
            "text/plain": [
              "<IPython.core.display.HTML object>"
            ]
          },
          "metadata": {}
        },
        {
          "output_type": "display_data",
          "data": {
            "text/html": [
              "<span class=\"tex2jax_ignore\"><div class=\"entities\" style=\"line-height: 2.5; direction: ltr\">With travel and transport ships going back and forth to \n",
              "<mark class=\"entity\" style=\"background: #feca74; padding: 0.45em 0.6em; margin: 0 0.25em; line-height: 1; border-radius: 0.35em;\">\n",
              "    India\n",
              "    <span style=\"font-size: 0.8em; font-weight: bold; line-height: 1; border-radius: 0.35em; text-transform: uppercase; vertical-align: middle; margin-left: 0.5rem\">GPE</span>\n",
              "</mark>\n",
              ", it spread through \n",
              "<mark class=\"entity\" style=\"background: #feca74; padding: 0.45em 0.6em; margin: 0 0.25em; line-height: 1; border-radius: 0.35em;\">\n",
              "    Russia\n",
              "    <span style=\"font-size: 0.8em; font-weight: bold; line-height: 1; border-radius: 0.35em; text-transform: uppercase; vertical-align: middle; margin-left: 0.5rem\">GPE</span>\n",
              "</mark>\n",
              ", through \n",
              "<mark class=\"entity\" style=\"background: #ff9561; padding: 0.45em 0.6em; margin: 0 0.25em; line-height: 1; border-radius: 0.35em;\">\n",
              "    Western Europe\n",
              "    <span style=\"font-size: 0.8em; font-weight: bold; line-height: 1; border-radius: 0.35em; text-transform: uppercase; vertical-align: middle; margin-left: 0.5rem\">LOC</span>\n",
              "</mark>\n",
              ".</div></span>"
            ],
            "text/plain": [
              "<IPython.core.display.HTML object>"
            ]
          },
          "metadata": {}
        },
        {
          "output_type": "display_data",
          "data": {
            "text/html": [
              "<span class=\"tex2jax_ignore\"><div class=\"entities\" style=\"line-height: 2.5; direction: ltr\">Huge pig farms turned into virus factories, It took \n",
              "<mark class=\"entity\" style=\"background: #bfe1d9; padding: 0.45em 0.6em; margin: 0 0.25em; line-height: 1; border-radius: 0.35em;\">\n",
              "    more than a decade\n",
              "    <span style=\"font-size: 0.8em; font-weight: bold; line-height: 1; border-radius: 0.35em; text-transform: uppercase; vertical-align: middle; margin-left: 0.5rem\">DATE</span>\n",
              "</mark>\n",
              " to figure all out, but eventually scientists realized that pigs had been getting Nipah virus for \n",
              "<mark class=\"entity\" style=\"background: #bfe1d9; padding: 0.45em 0.6em; margin: 0 0.25em; line-height: 1; border-radius: 0.35em;\">\n",
              "    years\n",
              "    <span style=\"font-size: 0.8em; font-weight: bold; line-height: 1; border-radius: 0.35em; text-transform: uppercase; vertical-align: middle; margin-left: 0.5rem\">DATE</span>\n",
              "</mark>\n",
              ".</div></span>"
            ],
            "text/plain": [
              "<IPython.core.display.HTML object>"
            ]
          },
          "metadata": {}
        },
        {
          "output_type": "display_data",
          "data": {
            "text/html": [
              "<span class=\"tex2jax_ignore\"><div class=\"entities\" style=\"line-height: 2.5; direction: ltr\">I'm eating a \n",
              "<mark class=\"entity\" style=\"background: #ddd; padding: 0.45em 0.6em; margin: 0 0.25em; line-height: 1; border-radius: 0.35em;\">\n",
              "    premium cocktail sauce\n",
              "    <span style=\"font-size: 0.8em; font-weight: bold; line-height: 1; border-radius: 0.35em; text-transform: uppercase; vertical-align: middle; margin-left: 0.5rem\">FOOD</span>\n",
              "</mark>\n",
              "</div></span>"
            ],
            "text/plain": [
              "<IPython.core.display.HTML object>"
            ]
          },
          "metadata": {}
        },
        {
          "output_type": "display_data",
          "data": {
            "text/html": [
              "<span class=\"tex2jax_ignore\"><div class=\"entities\" style=\"line-height: 2.5; direction: ltr\">\n",
              "<mark class=\"entity\" style=\"background: #7aecec; padding: 0.45em 0.6em; margin: 0 0.25em; line-height: 1; border-radius: 0.35em;\">\n",
              "    Facebook\n",
              "    <span style=\"font-size: 0.8em; font-weight: bold; line-height: 1; border-radius: 0.35em; text-transform: uppercase; vertical-align: middle; margin-left: 0.5rem\">ORG</span>\n",
              "</mark>\n",
              " CEO \n",
              "<mark class=\"entity\" style=\"background: #aa9cfc; padding: 0.45em 0.6em; margin: 0 0.25em; line-height: 1; border-radius: 0.35em;\">\n",
              "    Mark Zuckerberg\n",
              "    <span style=\"font-size: 0.8em; font-weight: bold; line-height: 1; border-radius: 0.35em; text-transform: uppercase; vertical-align: middle; margin-left: 0.5rem\">PERSON</span>\n",
              "</mark>\n",
              " said \n",
              "<mark class=\"entity\" style=\"background: #bfe1d9; padding: 0.45em 0.6em; margin: 0 0.25em; line-height: 1; border-radius: 0.35em;\">\n",
              "    Tuesday\n",
              "    <span style=\"font-size: 0.8em; font-weight: bold; line-height: 1; border-radius: 0.35em; text-transform: uppercase; vertical-align: middle; margin-left: 0.5rem\">DATE</span>\n",
              "</mark>\n",
              " that ”our hearts go out to the family and friends of \n",
              "<mark class=\"entity\" style=\"background: #aa9cfc; padding: 0.45em 0.6em; margin: 0 0.25em; line-height: 1; border-radius: 0.35em;\">\n",
              "    Robert Godwin Sr\n",
              "    <span style=\"font-size: 0.8em; font-weight: bold; line-height: 1; border-radius: 0.35em; text-transform: uppercase; vertical-align: middle; margin-left: 0.5rem\">PERSON</span>\n",
              "</mark>\n",
              ".</div></span>"
            ],
            "text/plain": [
              "<IPython.core.display.HTML object>"
            ]
          },
          "metadata": {}
        },
        {
          "output_type": "display_data",
          "data": {
            "text/html": [
              "<span class=\"tex2jax_ignore\"><div class=\"entities\" style=\"line-height: 2.5; direction: ltr\">Last night, I ate an \n",
              "<mark class=\"entity\" style=\"background: #ddd; padding: 0.45em 0.6em; margin: 0 0.25em; line-height: 1; border-radius: 0.35em;\">\n",
              "    digestives biscuit\n",
              "    <span style=\"font-size: 0.8em; font-weight: bold; line-height: 1; border-radius: 0.35em; text-transform: uppercase; vertical-align: middle; margin-left: 0.5rem\">FOOD</span>\n",
              "</mark>\n",
              " with \n",
              "<mark class=\"entity\" style=\"background: #ddd; padding: 0.45em 0.6em; margin: 0 0.25em; line-height: 1; border-radius: 0.35em;\">\n",
              "    clear fruit punch\n",
              "    <span style=\"font-size: 0.8em; font-weight: bold; line-height: 1; border-radius: 0.35em; text-transform: uppercase; vertical-align: middle; margin-left: 0.5rem\">FOOD</span>\n",
              "</mark>\n",
              " and \n",
              "<mark class=\"entity\" style=\"background: #ddd; padding: 0.45em 0.6em; margin: 0 0.25em; line-height: 1; border-radius: 0.35em;\">\n",
              "    baked pretzel snacks\n",
              "    <span style=\"font-size: 0.8em; font-weight: bold; line-height: 1; border-radius: 0.35em; text-transform: uppercase; vertical-align: middle; margin-left: 0.5rem\">FOOD</span>\n",
              "</mark>\n",
              "</div></span>"
            ],
            "text/plain": [
              "<IPython.core.display.HTML object>"
            ]
          },
          "metadata": {}
        },
        {
          "output_type": "display_data",
          "data": {
            "text/html": [
              "<span class=\"tex2jax_ignore\"><div class=\"entities\" style=\"line-height: 2.5; direction: ltr\">the artist himself — is a brown bear and he has his paintings on display in \n",
              "<mark class=\"entity\" style=\"background: #feca74; padding: 0.45em 0.6em; margin: 0 0.25em; line-height: 1; border-radius: 0.35em;\">\n",
              "    Helsinki\n",
              "    <span style=\"font-size: 0.8em; font-weight: bold; line-height: 1; border-radius: 0.35em; text-transform: uppercase; vertical-align: middle; margin-left: 0.5rem\">GPE</span>\n",
              "</mark>\n",
              ".</div></span>"
            ],
            "text/plain": [
              "<IPython.core.display.HTML object>"
            ]
          },
          "metadata": {}
        },
        {
          "output_type": "display_data",
          "data": {
            "text/html": [
              "<span class=\"tex2jax_ignore\"><div class=\"entities\" style=\"line-height: 2.5; direction: ltr\">the current climate surrounding immigration has her scared, just as the \n",
              "<mark class=\"entity\" style=\"background: #feca74; padding: 0.45em 0.6em; margin: 0 0.25em; line-height: 1; border-radius: 0.35em;\">\n",
              "    Alabama\n",
              "    <span style=\"font-size: 0.8em; font-weight: bold; line-height: 1; border-radius: 0.35em; text-transform: uppercase; vertical-align: middle; margin-left: 0.5rem\">GPE</span>\n",
              "</mark>\n",
              " law did in \n",
              "<mark class=\"entity\" style=\"background: #bfe1d9; padding: 0.45em 0.6em; margin: 0 0.25em; line-height: 1; border-radius: 0.35em;\">\n",
              "    2011\n",
              "    <span style=\"font-size: 0.8em; font-weight: bold; line-height: 1; border-radius: 0.35em; text-transform: uppercase; vertical-align: middle; margin-left: 0.5rem\">DATE</span>\n",
              "</mark>\n",
              ".</div></span>"
            ],
            "text/plain": [
              "<IPython.core.display.HTML object>"
            ]
          },
          "metadata": {}
        },
        {
          "output_type": "display_data",
          "data": {
            "text/html": [
              "<span class=\"tex2jax_ignore\"><div class=\"entities\" style=\"line-height: 2.5; direction: ltr\">I had a \n",
              "<mark class=\"entity\" style=\"background: #ddd; padding: 0.45em 0.6em; margin: 0 0.25em; line-height: 1; border-radius: 0.35em;\">\n",
              "    peanut caramel bar\n",
              "    <span style=\"font-size: 0.8em; font-weight: bold; line-height: 1; border-radius: 0.35em; text-transform: uppercase; vertical-align: middle; margin-left: 0.5rem\">FOOD</span>\n",
              "</mark>\n",
              ", a \n",
              "<mark class=\"entity\" style=\"background: #ddd; padding: 0.45em 0.6em; margin: 0 0.25em; line-height: 1; border-radius: 0.35em;\">\n",
              "    fig marmalade\n",
              "    <span style=\"font-size: 0.8em; font-weight: bold; line-height: 1; border-radius: 0.35em; text-transform: uppercase; vertical-align: middle; margin-left: 0.5rem\">FOOD</span>\n",
              "</mark>\n",
              " and \n",
              "<mark class=\"entity\" style=\"background: #ddd; padding: 0.45em 0.6em; margin: 0 0.25em; line-height: 1; border-radius: 0.35em;\">\n",
              "    ranchero chicken\n",
              "    <span style=\"font-size: 0.8em; font-weight: bold; line-height: 1; border-radius: 0.35em; text-transform: uppercase; vertical-align: middle; margin-left: 0.5rem\">FOOD</span>\n",
              "</mark>\n",
              " at home</div></span>"
            ],
            "text/plain": [
              "<IPython.core.display.HTML object>"
            ]
          },
          "metadata": {}
        },
        {
          "output_type": "display_data",
          "data": {
            "text/html": [
              "<span class=\"tex2jax_ignore\"><div class=\"entities\" style=\"line-height: 2.5; direction: ltr\">I've decided to have some \n",
              "<mark class=\"entity\" style=\"background: #ddd; padding: 0.45em 0.6em; margin: 0 0.25em; line-height: 1; border-radius: 0.35em;\">\n",
              "    organic waffle\n",
              "    <span style=\"font-size: 0.8em; font-weight: bold; line-height: 1; border-radius: 0.35em; text-transform: uppercase; vertical-align: middle; margin-left: 0.5rem\">FOOD</span>\n",
              "</mark>\n",
              " for dessert</div></span>"
            ],
            "text/plain": [
              "<IPython.core.display.HTML object>"
            ]
          },
          "metadata": {}
        },
        {
          "output_type": "display_data",
          "data": {
            "text/html": [
              "<span class=\"tex2jax_ignore\"><div class=\"entities\" style=\"line-height: 2.5; direction: ltr\">That’s why, over \n",
              "<mark class=\"entity\" style=\"background: #bfe1d9; padding: 0.45em 0.6em; margin: 0 0.25em; line-height: 1; border-radius: 0.35em;\">\n",
              "    the last decade\n",
              "    <span style=\"font-size: 0.8em; font-weight: bold; line-height: 1; border-radius: 0.35em; text-transform: uppercase; vertical-align: middle; margin-left: 0.5rem\">DATE</span>\n",
              "</mark>\n",
              " and a half, artemisinin has become the drug to beat back the most common malaria infections both in \n",
              "<mark class=\"entity\" style=\"background: #c887fb; padding: 0.45em 0.6em; margin: 0 0.25em; line-height: 1; border-radius: 0.35em;\">\n",
              "    British\n",
              "    <span style=\"font-size: 0.8em; font-weight: bold; line-height: 1; border-radius: 0.35em; text-transform: uppercase; vertical-align: middle; margin-left: 0.5rem\">NORP</span>\n",
              "</mark>\n",
              " hospitals and across much of the developing world.</div></span>"
            ],
            "text/plain": [
              "<IPython.core.display.HTML object>"
            ]
          },
          "metadata": {}
        },
        {
          "output_type": "display_data",
          "data": {
            "text/html": [
              "<span class=\"tex2jax_ignore\"><div class=\"entities\" style=\"line-height: 2.5; direction: ltr\">\n",
              "<mark class=\"entity\" style=\"background: #7aecec; padding: 0.45em 0.6em; margin: 0 0.25em; line-height: 1; border-radius: 0.35em;\">\n",
              "    Whaddayagonnado\n",
              "    <span style=\"font-size: 0.8em; font-weight: bold; line-height: 1; border-radius: 0.35em; text-transform: uppercase; vertical-align: middle; margin-left: 0.5rem\">ORG</span>\n",
              "</mark>\n",
              ", catch this creature feature on \n",
              "<mark class=\"entity\" style=\"background: #7aecec; padding: 0.45em 0.6em; margin: 0 0.25em; line-height: 1; border-radius: 0.35em;\">\n",
              "    Netflix\n",
              "    <span style=\"font-size: 0.8em; font-weight: bold; line-height: 1; border-radius: 0.35em; text-transform: uppercase; vertical-align: middle; margin-left: 0.5rem\">ORG</span>\n",
              "</mark>\n",
              "?</div></span>"
            ],
            "text/plain": [
              "<IPython.core.display.HTML object>"
            ]
          },
          "metadata": {}
        },
        {
          "output_type": "display_data",
          "data": {
            "text/html": [
              "<span class=\"tex2jax_ignore\"><div class=\"entities\" style=\"line-height: 2.5; direction: ltr\">I had a \n",
              "<mark class=\"entity\" style=\"background: #ddd; padding: 0.45em 0.6em; margin: 0 0.25em; line-height: 1; border-radius: 0.35em;\">\n",
              "    paleo snack clusters\n",
              "    <span style=\"font-size: 0.8em; font-weight: bold; line-height: 1; border-radius: 0.35em; text-transform: uppercase; vertical-align: middle; margin-left: 0.5rem\">FOOD</span>\n",
              "</mark>\n",
              ", a \n",
              "<mark class=\"entity\" style=\"background: #ddd; padding: 0.45em 0.6em; margin: 0 0.25em; line-height: 1; border-radius: 0.35em;\">\n",
              "    buffalo style sauce\n",
              "    <span style=\"font-size: 0.8em; font-weight: bold; line-height: 1; border-radius: 0.35em; text-transform: uppercase; vertical-align: middle; margin-left: 0.5rem\">FOOD</span>\n",
              "</mark>\n",
              " and \n",
              "<mark class=\"entity\" style=\"background: #ddd; padding: 0.45em 0.6em; margin: 0 0.25em; line-height: 1; border-radius: 0.35em;\">\n",
              "    fig\n",
              "    <span style=\"font-size: 0.8em; font-weight: bold; line-height: 1; border-radius: 0.35em; text-transform: uppercase; vertical-align: middle; margin-left: 0.5rem\">FOOD</span>\n",
              "</mark>\n",
              " at home</div></span>"
            ],
            "text/plain": [
              "<IPython.core.display.HTML object>"
            ]
          },
          "metadata": {}
        },
        {
          "output_type": "display_data",
          "data": {
            "text/html": [
              "<span class=\"tex2jax_ignore\"><div class=\"entities\" style=\"line-height: 2.5; direction: ltr\">The government has decided if we can relocate these \n",
              "<mark class=\"entity\" style=\"background: #aa9cfc; padding: 0.45em 0.6em; margin: 0 0.25em; line-height: 1; border-radius: 0.35em;\">\n",
              "    Rohingya\n",
              "    <span style=\"font-size: 0.8em; font-weight: bold; line-height: 1; border-radius: 0.35em; text-transform: uppercase; vertical-align: middle; margin-left: 0.5rem\">PERSON</span>\n",
              "</mark>\n",
              " from \n",
              "<mark class=\"entity\" style=\"background: #aa9cfc; padding: 0.45em 0.6em; margin: 0 0.25em; line-height: 1; border-radius: 0.35em;\">\n",
              "    Cox’s\n",
              "    <span style=\"font-size: 0.8em; font-weight: bold; line-height: 1; border-radius: 0.35em; text-transform: uppercase; vertical-align: middle; margin-left: 0.5rem\">PERSON</span>\n",
              "</mark>\n",
              " Bazar . ..</div></span>"
            ],
            "text/plain": [
              "<IPython.core.display.HTML object>"
            ]
          },
          "metadata": {}
        },
        {
          "output_type": "display_data",
          "data": {
            "text/html": [
              "<span class=\"tex2jax_ignore\"><div class=\"entities\" style=\"line-height: 2.5; direction: ltr\">\n",
              "<mark class=\"entity\" style=\"background: #feca74; padding: 0.45em 0.6em; margin: 0 0.25em; line-height: 1; border-radius: 0.35em;\">\n",
              "    Tennessee\n",
              "    <span style=\"font-size: 0.8em; font-weight: bold; line-height: 1; border-radius: 0.35em; text-transform: uppercase; vertical-align: middle; margin-left: 0.5rem\">GPE</span>\n",
              "</mark>\n",
              " state Sen. \n",
              "<mark class=\"entity\" style=\"background: #aa9cfc; padding: 0.45em 0.6em; margin: 0 0.25em; line-height: 1; border-radius: 0.35em;\">\n",
              "    Mark Green\n",
              "    <span style=\"font-size: 0.8em; font-weight: bold; line-height: 1; border-radius: 0.35em; text-transform: uppercase; vertical-align: middle; margin-left: 0.5rem\">PERSON</span>\n",
              "</mark>\n",
              ", a former \n",
              "<mark class=\"entity\" style=\"background: #7aecec; padding: 0.45em 0.6em; margin: 0 0.25em; line-height: 1; border-radius: 0.35em;\">\n",
              "    Army\n",
              "    <span style=\"font-size: 0.8em; font-weight: bold; line-height: 1; border-radius: 0.35em; text-transform: uppercase; vertical-align: middle; margin-left: 0.5rem\">ORG</span>\n",
              "</mark>\n",
              " special operations officer, cited ”false and misleading attacks against me” in a statement that said his nomination had become a ”distraction”</div></span>"
            ],
            "text/plain": [
              "<IPython.core.display.HTML object>"
            ]
          },
          "metadata": {}
        },
        {
          "output_type": "display_data",
          "data": {
            "text/html": [
              "<span class=\"tex2jax_ignore\"><div class=\"entities\" style=\"line-height: 2.5; direction: ltr\">And \n",
              "<mark class=\"entity\" style=\"background: #aa9cfc; padding: 0.45em 0.6em; margin: 0 0.25em; line-height: 1; border-radius: 0.35em;\">\n",
              "    Kushner\n",
              "    <span style=\"font-size: 0.8em; font-weight: bold; line-height: 1; border-radius: 0.35em; text-transform: uppercase; vertical-align: middle; margin-left: 0.5rem\">PERSON</span>\n",
              "</mark>\n",
              " Companies spokesperson \n",
              "<mark class=\"entity\" style=\"background: #aa9cfc; padding: 0.45em 0.6em; margin: 0 0.25em; line-height: 1; border-radius: 0.35em;\">\n",
              "    James Yolles\n",
              "    <span style=\"font-size: 0.8em; font-weight: bold; line-height: 1; border-radius: 0.35em; text-transform: uppercase; vertical-align: middle; margin-left: 0.5rem\">PERSON</span>\n",
              "</mark>\n",
              " said \n",
              "<mark class=\"entity\" style=\"background: #aa9cfc; padding: 0.45em 0.6em; margin: 0 0.25em; line-height: 1; border-radius: 0.35em;\">\n",
              "    Meyer\n",
              "    <span style=\"font-size: 0.8em; font-weight: bold; line-height: 1; border-radius: 0.35em; text-transform: uppercase; vertical-align: middle; margin-left: 0.5rem\">PERSON</span>\n",
              "</mark>\n",
              " apologizes if the mention of her brother was in any way interpreted as an attempt to lure investors.</div></span>"
            ],
            "text/plain": [
              "<IPython.core.display.HTML object>"
            ]
          },
          "metadata": {}
        },
        {
          "output_type": "display_data",
          "data": {
            "text/html": [
              "<span class=\"tex2jax_ignore\"><div class=\"entities\" style=\"line-height: 2.5; direction: ltr\">The \n",
              "<mark class=\"entity\" style=\"background: #feca74; padding: 0.45em 0.6em; margin: 0 0.25em; line-height: 1; border-radius: 0.35em;\">\n",
              "    California\n",
              "    <span style=\"font-size: 0.8em; font-weight: bold; line-height: 1; border-radius: 0.35em; text-transform: uppercase; vertical-align: middle; margin-left: 0.5rem\">GPE</span>\n",
              "</mark>\n",
              " complaint alleged \n",
              "<mark class=\"entity\" style=\"background: #7aecec; padding: 0.45em 0.6em; margin: 0 0.25em; line-height: 1; border-radius: 0.35em;\">\n",
              "    Backpage\n",
              "    <span style=\"font-size: 0.8em; font-weight: bold; line-height: 1; border-radius: 0.35em; text-transform: uppercase; vertical-align: middle; margin-left: 0.5rem\">ORG</span>\n",
              "</mark>\n",
              ". com didn’t just host ads for sex, some of which were trafficking minors, because the site helped advertisers write ads that would elicit clicks. ”</div></span>"
            ],
            "text/plain": [
              "<IPython.core.display.HTML object>"
            ]
          },
          "metadata": {}
        },
        {
          "output_type": "display_data",
          "data": {
            "text/html": [
              "<span class=\"tex2jax_ignore\"><div class=\"entities\" style=\"line-height: 2.5; direction: ltr\">It is impossible to know what Roof saw when he typed those words into \n",
              "<mark class=\"entity\" style=\"background: #7aecec; padding: 0.45em 0.6em; margin: 0 0.25em; line-height: 1; border-radius: 0.35em;\">\n",
              "    Google\n",
              "    <span style=\"font-size: 0.8em; font-weight: bold; line-height: 1; border-radius: 0.35em; text-transform: uppercase; vertical-align: middle; margin-left: 0.5rem\">ORG</span>\n",
              "</mark>\n",
              ".</div></span>"
            ],
            "text/plain": [
              "<IPython.core.display.HTML object>"
            ]
          },
          "metadata": {}
        },
        {
          "output_type": "display_data",
          "data": {
            "text/html": [
              "<span class=\"tex2jax_ignore\"><div class=\"entities\" style=\"line-height: 2.5; direction: ltr\">But Acting ICE Director \n",
              "<mark class=\"entity\" style=\"background: #aa9cfc; padding: 0.45em 0.6em; margin: 0 0.25em; line-height: 1; border-radius: 0.35em;\">\n",
              "    Thomas Homan\n",
              "    <span style=\"font-size: 0.8em; font-weight: bold; line-height: 1; border-radius: 0.35em; text-transform: uppercase; vertical-align: middle; margin-left: 0.5rem\">PERSON</span>\n",
              "</mark>\n",
              " said, ”When law enforcement agencies fail to honor immigration detainers and release serious criminal offenders, it undermines ICE’s ability to protect the public safety and carry out its mission.”</div></span>"
            ],
            "text/plain": [
              "<IPython.core.display.HTML object>"
            ]
          },
          "metadata": {}
        },
        {
          "output_type": "stream",
          "name": "stderr",
          "text": [
            "/usr/lib/python3.7/runpy.py:193: UserWarning: [W006] No entities to visualize found in Doc object. If this is surprising to you, make sure the Doc was processed using a model that supports named entity recognition, and check the `doc.ents` property manually if necessary.\n",
            "  \"__main__\", mod_spec)\n"
          ]
        },
        {
          "output_type": "display_data",
          "data": {
            "text/html": [
              "<span class=\"tex2jax_ignore\"><div class=\"entities\" style=\"line-height: 2.5; direction: ltr\">I want put to you the criticisms that I’ve heard of this movie — number one, that it’s got too simple an idea of what jazz is, almost like a ideal of the music.</div></span>"
            ],
            "text/plain": [
              "<IPython.core.display.HTML object>"
            ]
          },
          "metadata": {}
        },
        {
          "output_type": "display_data",
          "data": {
            "text/html": [
              "<span class=\"tex2jax_ignore\"><div class=\"entities\" style=\"line-height: 2.5; direction: ltr\">I made a \n",
              "<mark class=\"entity\" style=\"background: #ddd; padding: 0.45em 0.6em; margin: 0 0.25em; line-height: 1; border-radius: 0.35em;\">\n",
              "    spicy ginger teriyaki\n",
              "    <span style=\"font-size: 0.8em; font-weight: bold; line-height: 1; border-radius: 0.35em; text-transform: uppercase; vertical-align: middle; margin-left: 0.5rem\">FOOD</span>\n",
              "</mark>\n",
              " and \n",
              "<mark class=\"entity\" style=\"background: #ddd; padding: 0.45em 0.6em; margin: 0 0.25em; line-height: 1; border-radius: 0.35em;\">\n",
              "    chicken broth concentrate\n",
              "    <span style=\"font-size: 0.8em; font-weight: bold; line-height: 1; border-radius: 0.35em; text-transform: uppercase; vertical-align: middle; margin-left: 0.5rem\">FOOD</span>\n",
              "</mark>\n",
              " for lunch</div></span>"
            ],
            "text/plain": [
              "<IPython.core.display.HTML object>"
            ]
          },
          "metadata": {}
        },
        {
          "output_type": "display_data",
          "data": {
            "text/html": [
              "<span class=\"tex2jax_ignore\"><div class=\"entities\" style=\"line-height: 2.5; direction: ltr\">I ate a \n",
              "<mark class=\"entity\" style=\"background: #ddd; padding: 0.45em 0.6em; margin: 0 0.25em; line-height: 1; border-radius: 0.35em;\">\n",
              "    filled marshmallow\n",
              "    <span style=\"font-size: 0.8em; font-weight: bold; line-height: 1; border-radius: 0.35em; text-transform: uppercase; vertical-align: middle; margin-left: 0.5rem\">FOOD</span>\n",
              "</mark>\n",
              " with \n",
              "<mark class=\"entity\" style=\"background: #ddd; padding: 0.45em 0.6em; margin: 0 0.25em; line-height: 1; border-radius: 0.35em;\">\n",
              "    eggplant parmesan\n",
              "    <span style=\"font-size: 0.8em; font-weight: bold; line-height: 1; border-radius: 0.35em; text-transform: uppercase; vertical-align: middle; margin-left: 0.5rem\">FOOD</span>\n",
              "</mark>\n",
              " and \n",
              "<mark class=\"entity\" style=\"background: #ddd; padding: 0.45em 0.6em; margin: 0 0.25em; line-height: 1; border-radius: 0.35em;\">\n",
              "    cherry delight\n",
              "    <span style=\"font-size: 0.8em; font-weight: bold; line-height: 1; border-radius: 0.35em; text-transform: uppercase; vertical-align: middle; margin-left: 0.5rem\">FOOD</span>\n",
              "</mark>\n",
              " just now</div></span>"
            ],
            "text/plain": [
              "<IPython.core.display.HTML object>"
            ]
          },
          "metadata": {}
        },
        {
          "output_type": "stream",
          "name": "stdout",
          "text": [
            "------------\n",
            "\n",
            "Total de 2947 acertos de um total de 2970\n"
          ]
        }
      ]
    },
    {
      "cell_type": "code",
      "metadata": {
        "tags": [],
        "cell_id": "00041-6a5bbacc-dc01-4d49-9a04-908cb0a2c006",
        "output_cleared": false,
        "source_hash": "75c05687",
        "execution_millis": 1,
        "execution_start": 1605885775893,
        "deepnote_cell_type": "code",
        "colab": {
          "base_uri": "https://localhost:8080/",
          "height": 192
        },
        "id": "JQ7zVGqRe5HX",
        "outputId": "57322533-934d-46d0-f118-2d3a7dbf2197"
      },
      "source": [
        "displacy.render(nlp(\"I had a hamburger and chips for lunch today.\"), style=\"ent\", jupyter=True)\n",
        "#displacy.render(nlp(\"I decided to have chocolate ice cream as a little treat for myself.\"), style=\"ent\", jupyter=True)\n",
        "displacy.render(nlp(\"I ordered basmati rice, leaf spinach and cheese from Tesco yesterday\"), style=\"ent\", jupyter=True)\n",
        "displacy.render(nlp(\"i like ice cream with cream. At night I like pasta\"), style=\"ent\", jupyter=True)\n",
        "#ontem fui na UPF e comi uma pizza. No intervalo da aula, comprei um pastel\n",
        "displacy.render(nlp('yesterday I went to the UPF and had a pizza. In between class, I bought a pastel'), style=\"ent\", jupyter=True)\n",
        "#Fui no supermercado e comprei massa para fazer macarrão\n",
        "displacy.render(nlp(\"I went to the supermarket and bought pasta to make pasta\"), style=\"ent\", jupyter=True)"
      ],
      "execution_count": 26,
      "outputs": [
        {
          "output_type": "display_data",
          "data": {
            "text/html": [
              "<span class=\"tex2jax_ignore\"><div class=\"entities\" style=\"line-height: 2.5; direction: ltr\">I had a \n",
              "<mark class=\"entity\" style=\"background: #ddd; padding: 0.45em 0.6em; margin: 0 0.25em; line-height: 1; border-radius: 0.35em;\">\n",
              "    hamburger\n",
              "    <span style=\"font-size: 0.8em; font-weight: bold; line-height: 1; border-radius: 0.35em; text-transform: uppercase; vertical-align: middle; margin-left: 0.5rem\">FOOD</span>\n",
              "</mark>\n",
              " and \n",
              "<mark class=\"entity\" style=\"background: #ddd; padding: 0.45em 0.6em; margin: 0 0.25em; line-height: 1; border-radius: 0.35em;\">\n",
              "    chips\n",
              "    <span style=\"font-size: 0.8em; font-weight: bold; line-height: 1; border-radius: 0.35em; text-transform: uppercase; vertical-align: middle; margin-left: 0.5rem\">FOOD</span>\n",
              "</mark>\n",
              " for lunch \n",
              "<mark class=\"entity\" style=\"background: #bfe1d9; padding: 0.45em 0.6em; margin: 0 0.25em; line-height: 1; border-radius: 0.35em;\">\n",
              "    today\n",
              "    <span style=\"font-size: 0.8em; font-weight: bold; line-height: 1; border-radius: 0.35em; text-transform: uppercase; vertical-align: middle; margin-left: 0.5rem\">DATE</span>\n",
              "</mark>\n",
              ".</div></span>"
            ],
            "text/plain": [
              "<IPython.core.display.HTML object>"
            ]
          },
          "metadata": {}
        },
        {
          "output_type": "display_data",
          "data": {
            "text/html": [
              "<span class=\"tex2jax_ignore\"><div class=\"entities\" style=\"line-height: 2.5; direction: ltr\">I ordered \n",
              "<mark class=\"entity\" style=\"background: #ddd; padding: 0.45em 0.6em; margin: 0 0.25em; line-height: 1; border-radius: 0.35em;\">\n",
              "    basmati rice\n",
              "    <span style=\"font-size: 0.8em; font-weight: bold; line-height: 1; border-radius: 0.35em; text-transform: uppercase; vertical-align: middle; margin-left: 0.5rem\">FOOD</span>\n",
              "</mark>\n",
              ", \n",
              "<mark class=\"entity\" style=\"background: #ddd; padding: 0.45em 0.6em; margin: 0 0.25em; line-height: 1; border-radius: 0.35em;\">\n",
              "    leaf spinach\n",
              "    <span style=\"font-size: 0.8em; font-weight: bold; line-height: 1; border-radius: 0.35em; text-transform: uppercase; vertical-align: middle; margin-left: 0.5rem\">FOOD</span>\n",
              "</mark>\n",
              " and \n",
              "<mark class=\"entity\" style=\"background: #ddd; padding: 0.45em 0.6em; margin: 0 0.25em; line-height: 1; border-radius: 0.35em;\">\n",
              "    cheese\n",
              "    <span style=\"font-size: 0.8em; font-weight: bold; line-height: 1; border-radius: 0.35em; text-transform: uppercase; vertical-align: middle; margin-left: 0.5rem\">FOOD</span>\n",
              "</mark>\n",
              " from \n",
              "<mark class=\"entity\" style=\"background: #7aecec; padding: 0.45em 0.6em; margin: 0 0.25em; line-height: 1; border-radius: 0.35em;\">\n",
              "    Tesco\n",
              "    <span style=\"font-size: 0.8em; font-weight: bold; line-height: 1; border-radius: 0.35em; text-transform: uppercase; vertical-align: middle; margin-left: 0.5rem\">ORG</span>\n",
              "</mark>\n",
              " yesterday</div></span>"
            ],
            "text/plain": [
              "<IPython.core.display.HTML object>"
            ]
          },
          "metadata": {}
        },
        {
          "output_type": "display_data",
          "data": {
            "text/html": [
              "<span class=\"tex2jax_ignore\"><div class=\"entities\" style=\"line-height: 2.5; direction: ltr\">i like \n",
              "<mark class=\"entity\" style=\"background: #ddd; padding: 0.45em 0.6em; margin: 0 0.25em; line-height: 1; border-radius: 0.35em;\">\n",
              "    ice cream\n",
              "    <span style=\"font-size: 0.8em; font-weight: bold; line-height: 1; border-radius: 0.35em; text-transform: uppercase; vertical-align: middle; margin-left: 0.5rem\">FOOD</span>\n",
              "</mark>\n",
              " with cream. At night I like \n",
              "<mark class=\"entity\" style=\"background: #ddd; padding: 0.45em 0.6em; margin: 0 0.25em; line-height: 1; border-radius: 0.35em;\">\n",
              "    pasta\n",
              "    <span style=\"font-size: 0.8em; font-weight: bold; line-height: 1; border-radius: 0.35em; text-transform: uppercase; vertical-align: middle; margin-left: 0.5rem\">FOOD</span>\n",
              "</mark>\n",
              "</div></span>"
            ],
            "text/plain": [
              "<IPython.core.display.HTML object>"
            ]
          },
          "metadata": {}
        },
        {
          "output_type": "display_data",
          "data": {
            "text/html": [
              "<span class=\"tex2jax_ignore\"><div class=\"entities\" style=\"line-height: 2.5; direction: ltr\">yesterday I went to the \n",
              "<mark class=\"entity\" style=\"background: #7aecec; padding: 0.45em 0.6em; margin: 0 0.25em; line-height: 1; border-radius: 0.35em;\">\n",
              "    UPF\n",
              "    <span style=\"font-size: 0.8em; font-weight: bold; line-height: 1; border-radius: 0.35em; text-transform: uppercase; vertical-align: middle; margin-left: 0.5rem\">ORG</span>\n",
              "</mark>\n",
              " and had a pizza. In between class, I bought a pastel</div></span>"
            ],
            "text/plain": [
              "<IPython.core.display.HTML object>"
            ]
          },
          "metadata": {}
        },
        {
          "output_type": "display_data",
          "data": {
            "text/html": [
              "<span class=\"tex2jax_ignore\"><div class=\"entities\" style=\"line-height: 2.5; direction: ltr\">I went to the supermarket and bought pasta to \n",
              "<mark class=\"entity\" style=\"background: #ddd; padding: 0.45em 0.6em; margin: 0 0.25em; line-height: 1; border-radius: 0.35em;\">\n",
              "    make pasta\n",
              "    <span style=\"font-size: 0.8em; font-weight: bold; line-height: 1; border-radius: 0.35em; text-transform: uppercase; vertical-align: middle; margin-left: 0.5rem\">FOOD</span>\n",
              "</mark>\n",
              "</div></span>"
            ],
            "text/plain": [
              "<IPython.core.display.HTML object>"
            ]
          },
          "metadata": {}
        }
      ]
    },
    {
      "cell_type": "code",
      "metadata": {
        "tags": [],
        "cell_id": "00058-4c181f9a-7161-4fb4-9ab7-f784fb6b557a",
        "output_cleared": false,
        "source_hash": "d5d0cef",
        "execution_millis": 6924,
        "execution_start": 1605887540017,
        "deepnote_cell_type": "code",
        "id": "sQJ0DQ_5e5Ha"
      },
      "source": [
        "#nlp.meta[\"name\"] = \"ner_food\"\n",
        "nlp.to_disk(\"/content/gdrive/My Drive/UPF/Trabalho IA/model_ner3\")"
      ],
      "execution_count": 27,
      "outputs": []
    }
  ]
}